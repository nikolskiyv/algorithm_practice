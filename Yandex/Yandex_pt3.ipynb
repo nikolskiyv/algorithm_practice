{
 "cells": [
  {
   "cell_type": "markdown",
   "id": "0f578693",
   "metadata": {},
   "source": [
    "### 69. Максимальная длина из \"1\" после удаления одного \"0\""
   ]
  },
  {
   "cell_type": "code",
   "execution_count": null,
   "id": "e43a93a6",
   "metadata": {},
   "outputs": [],
   "source": [
    "# Нужно вывести длину максимальной подпоследовательности из \"1\" при условии,\n",
    "# что какой-то нолик можно удалить.\n",
    "\n",
    "def max_len_of_ones(arr):\n",
    "    length = 0\n",
    "    max_length = 0\n",
    "    mode = False\n",
    "    \n",
    "    for i in range(len(arr)):\n",
    "        if arr[i] == 0:\n",
    "            if mode:\n",
    "                if length > max_length:\n",
    "                    max_length = length\n",
    "                i = lastzeroindex\n",
    "                length = 0\n",
    "                mode = False\n",
    "            else:\n",
    "                lastzeroindex = i\n",
    "                mode = True\n",
    "        else:\n",
    "            length += 1\n",
    "\n",
    "    if length > max_length:\n",
    "        max_length = length\n",
    "    return max_length"
   ]
  },
  {
   "cell_type": "markdown",
   "id": "d3388adf",
   "metadata": {},
   "source": [
    "### 70. Найти подотрезок с наименьшей суммой по модулю"
   ]
  },
  {
   "cell_type": "code",
   "execution_count": null,
   "id": "196c14ba",
   "metadata": {},
   "outputs": [],
   "source": [
    "# Дан целочисленный массив из n элементов.\n",
    "# Найти непустой подотрезок с наименьшей по модулю суммой. O(nlogn)\n",
    "\n",
    "def makeprefixsum(nums):\n",
    "    prefix = []\n",
    "    prefix.append((0, -1))\n",
    "    for i in range(1, len(nums) + 1):\n",
    "        elem = (abs(prefix[i-1][0] + nums[i-1]), i - 1)\n",
    "        prefix.append(elem)\n",
    "    return prefix\n",
    "\n",
    "def find_min_abs_sum(arr):\n",
    "    prefix = sorted(makeprefixsum(arr))\n",
    "    min_diff = abs(arr[0] + arr[1])\n",
    "    start = 0\n",
    "    end = len(arr)\n",
    "    for i in range(1, len(arr) + 1):\n",
    "        diff = prefix[i][0] - prefix[i-1][0]\n",
    "        if diff < min_diff:\n",
    "            min_diff = diff\n",
    "            start = prefix[i-1][1]\n",
    "            end = prefix[i][1]\n",
    "    return start + 1, end\n",
    "    \n",
    "find_min_abs_sum([-21, -24, -33, -6, -100])"
   ]
  },
  {
   "cell_type": "markdown",
   "id": "dae0f42d",
   "metadata": {},
   "source": [
    "### 71. Найти подотрезок с наибольшей суммой"
   ]
  },
  {
   "cell_type": "code",
   "execution_count": 1,
   "id": "ede8caed",
   "metadata": {},
   "outputs": [
    {
     "data": {
      "text/plain": [
       "11"
      ]
     },
     "execution_count": 1,
     "metadata": {},
     "output_type": "execute_result"
    }
   ],
   "source": [
    "def getMaxSubSum(arr): # O(n)\n",
    "    max_sum = 0\n",
    "    max_l = 0\n",
    "    max_r = 0\n",
    "    partial_sum = 0\n",
    "\n",
    "    for i, item in enumerate(arr):  # для каждого элемента массива\n",
    "        partial_sum += item  # добавляем значение элемента к partialSum\n",
    "        if partial_sum > max_sum:  # запоминаем максимум на данный момент\n",
    "            max_sum = partial_sum\n",
    "        if partial_sum < 0:\n",
    "            partial_sum = 0  # ноль если отрицательное\n",
    "\n",
    "    return max_sum\n",
    "\n",
    "getMaxSubSum([-1, 2, 3, 4, -6, 8])"
   ]
  },
  {
   "cell_type": "markdown",
   "id": "4022d9db",
   "metadata": {},
   "source": [
    "### 72. Определить номер первой колонки, в которой есть хоть одна единица"
   ]
  },
  {
   "cell_type": "code",
   "execution_count": 2,
   "id": "2c82c70f",
   "metadata": {},
   "outputs": [
    {
     "name": "stdout",
     "output_type": "stream",
     "text": [
      "2\n"
     ]
    }
   ],
   "source": [
    "# Дана квадратная матрица NxN, заполненная нулями и единицами таким образом,\n",
    "# что в каждой строке все нули располагаются левее всех единиц\n",
    "# (возможны строки, состоящие полностью из нулей или полностью из единиц).\n",
    "# Требуется определить номер первой колонки, в которой есть хоть одна единица.\n",
    "\n",
    "\n",
    "def check(matrix):\n",
    "    left = 0\n",
    "    right = len(matrix[0]) - 1\n",
    "    mid = (left + right) // 2\n",
    "    for i in matrix:\n",
    "        while left < right:\n",
    "            if i[mid] == 1:\n",
    "                right = mid\n",
    "            else:\n",
    "                left = mid + 1\n",
    "            mid = (left+right) // 2\n",
    "        right = left\n",
    "        left = 0\n",
    "        mid = (left+right) // 2\n",
    "    return right\n",
    "\n",
    "print(check([[0,0,1],[0,0,1],[0,0,1]]))"
   ]
  },
  {
   "cell_type": "markdown",
   "id": "78d1396a",
   "metadata": {},
   "source": [
    "### 73. Можно ли получить одну строку из другой за <= 1 одно исправление"
   ]
  },
  {
   "cell_type": "code",
   "execution_count": 3,
   "id": "28fe4116",
   "metadata": {},
   "outputs": [],
   "source": [
    "# Реализовать функцию, проверяющую,\n",
    "# можно ли одну строку получить из другой не более, чем за одно исправление (удаление, добавление, изменение символа)\n",
    "# def one_edit_apart(s1: str, s2: str) -> bool\n",
    "\n",
    "def oneEditApart(s1: str, s2: str) -> bool:\n",
    " \n",
    "    if s1 == s2:\n",
    "        return True\n",
    "    \n",
    "    len_1 = len(s1)\n",
    "    len_2 = len(s2)\n",
    "    \n",
    "    if len_2 == len_1:\n",
    "        flag = 0\n",
    "        for i in range(len_1):\n",
    "            if s1[i] != s2[i]:\n",
    "                if flag == 1:\n",
    "                    return False\n",
    "                else:\n",
    "                    flag = 1\n",
    "        return True\n",
    " \n",
    "    if abs(len_1 - len_2) == 1:\n",
    "        if len_1 < len_2:\n",
    "            len_1, len_2 = len_2, len_1\n",
    "            s1, s2 = s2, s1\n",
    "            \n",
    "        i = 0\n",
    "        flag = 0\n",
    "        \n",
    "        while i < len_1 - 1:\n",
    "            if s1[i + flag] != s2[i]:\n",
    "                if flag == 1:\n",
    "                    return False\n",
    "                else: \n",
    "                    flag = 1\n",
    "                    continue\n",
    "            i += 1\n",
    "        return True\n",
    "    else:\n",
    "        return False"
   ]
  },
  {
   "cell_type": "markdown",
   "id": "c0b72e23",
   "metadata": {},
   "source": [
    "### 74. Найти подстроку, которая совпадает с точностью до перестановки"
   ]
  },
  {
   "cell_type": "code",
   "execution_count": 10,
   "id": "991dd0f4",
   "metadata": {},
   "outputs": [],
   "source": [
    "# Найти в тексте подстроку, что она совпадает с точностью до перестановки букв(анаграмма)\n",
    "\n",
    "def find_substr(line : str, pattern : str):\n",
    "    dict1 = {}\n",
    "    dict2 = {}\n",
    "    for c in pattern:\n",
    "        if (dict1.get(c) != None):\n",
    "            dict1[c] += 1\n",
    "        else:\n",
    "            dict1[c] = 1\n",
    "    print(dict1)\n",
    "    start = 0\n",
    "    stop = len(pattern)\n",
    "    for i in range(start,stop):\n",
    "        if dict2.get(line[i]) != None:\n",
    "            dict2[line[i]] += 1\n",
    "        else:\n",
    "            dict2[line[i]] = 1\n",
    "    while (stop < len(line)-1):\n",
    "        print(dict2)\n",
    "        if dict2 == dict1:\n",
    "            return start,stop-1\n",
    "        else:\n",
    "            if dict2[line[start]] == 1:\n",
    "                del dict2[line[start]]\n",
    "            else:\n",
    "                dict2[line[start]] -= 1\n",
    "            start += 1\n",
    "            stop +=1\n",
    "            if dict2.get(line[stop-1]) != None:\n",
    "                dict2[line[stop-1]] += 1\n",
    "            else:\n",
    "                dict2[line[stop-1]] = 1\n",
    "    return False"
   ]
  },
  {
   "cell_type": "markdown",
   "id": "9a14377b",
   "metadata": {},
   "source": [
    "### 75. Перевернуть int"
   ]
  },
  {
   "cell_type": "code",
   "execution_count": 5,
   "id": "770e3faf",
   "metadata": {},
   "outputs": [
    {
     "name": "stdout",
     "output_type": "stream",
     "text": [
      "9646324351\n"
     ]
    }
   ],
   "source": [
    "def reverse_number(n):\n",
    "    r = 0\n",
    "    if n > 0:\n",
    "        while n > 0:\n",
    "            r *= 10\n",
    "            r += n % 10\n",
    "            n //= 10\n",
    "        return r\n",
    "    else:\n",
    "        n = abs(n)\n",
    "        while n > 0:\n",
    "            r *= 10\n",
    "            r += n % 10\n",
    "            n //= 10\n",
    "        r = r - 2*r\n",
    "        return r\n",
    "\n",
    "print(reverse_number(1534236469))"
   ]
  },
  {
   "cell_type": "markdown",
   "id": "472f9526",
   "metadata": {},
   "source": [
    "### 76. Найти наибольшую сумму в дереве"
   ]
  },
  {
   "cell_type": "code",
   "execution_count": 6,
   "id": "b6ff1195",
   "metadata": {},
   "outputs": [],
   "source": [
    "res_max = float('-inf')\n",
    "\n",
    "def findMax(root):\n",
    "    if not root:\n",
    "        return 0\n",
    "    left_value = findMax(root.left)\n",
    "    right_value = findMax(root.right)\n",
    "    \n",
    "    left_max = left_value + root.data\n",
    "    right_max = right_value + root.data\n",
    "    all_max = left_value + right_value + root.data\n",
    "    tmp_max = max(left_max, right_max, all_max)\n",
    "    if tmp_max > res_max:\n",
    "        res_max = tmp_max\n",
    "    return tmp_max"
   ]
  },
  {
   "cell_type": "markdown",
   "id": "0d46d9cd",
   "metadata": {},
   "source": [
    "### 77. Найти максимальное число постояльцев, которые одновременно проживали в гостинице"
   ]
  },
  {
   "cell_type": "markdown",
   "id": "cf2ac699",
   "metadata": {},
   "source": [
    "Даны даты заезда и отъезда каждого гостя.\n",
    "Для каждого гостя дата заезда строго раньше даты отъезда (то есть каждый гость останавливается хотя бы на одну ночь).\n",
    "В пределах одного дня считается, что сначала старые гости выезжают, а затем въезжают новые. \n",
    "Найти максимальное число постояльцев, которые одновременно проживали в гостинице (считаем, что измерение количества постояльцев происходит в конце дня).\n",
    "sample = [(1, 2), (1, 3), (2, 4), (2, 3), ]"
   ]
  },
  {
   "cell_type": "code",
   "execution_count": 8,
   "id": "6cea097a",
   "metadata": {},
   "outputs": [],
   "source": [
    "from collections import defaultdict\n",
    "from typing import List\n",
    "\n",
    "def max_num_guests(guests: List[tuple]) -> int:\n",
    "    res = 0\n",
    "    \n",
    "    # для каждого дня посчитаем, сколько приехало и сколько отъехало\n",
    "    arriving = defaultdict(int)\n",
    "    leaving = defaultdict(int)\n",
    "\n",
    "    for guest in guests:  # O(n)\n",
    "        arriving[guest[0]] += 1\n",
    "        leaving[guest[1]] += 1\n",
    "\n",
    "    current = 0\n",
    "    # едем по дням в порядке увеличения, добавлем приехавших и убавляем уехавших,\n",
    "    # считаем сколько стало\n",
    "    for day in sorted(set(arriving.keys()).union(set(leaving.keys()))):  # O(n*log(n)) + O(n)\n",
    "        current -= leaving[day]\n",
    "        current += arriving[day]\n",
    "\n",
    "        if current > res:\n",
    "            res = current\n",
    "\n",
    "    return res"
   ]
  },
  {
   "cell_type": "markdown",
   "id": "40f84c7a",
   "metadata": {},
   "source": [
    "### 78. Minimum Window Substring"
   ]
  },
  {
   "cell_type": "code",
   "execution_count": 9,
   "id": "f43533ac",
   "metadata": {},
   "outputs": [],
   "source": [
    "# Time: O(m+n)\n",
    "\n",
    "class Solution:\n",
    "    def minWindow(self, s: str, t: str) -> str:\n",
    "        if t == '': \n",
    "            return ''\n",
    "        \n",
    "        t_dict, window = {}, {}\n",
    "                \n",
    "        for c in t:\n",
    "            t_dict[c] = 1 + t_dict.get(c, 0)\n",
    "                    \n",
    "        have, need = 0, len(t_dict)\n",
    "        res, resLen = [-1, -1], float('inf')\n",
    "        l = 0\n",
    "                \n",
    "        for r in range(len(s)):\n",
    "            c = s[r]\n",
    "            window[c] = 1 + window.get(c, 0)\n",
    "                    \n",
    "            if c in t_dict and window[c] == t_dict[c]:\n",
    "                have += 1\n",
    "                        \n",
    "            while have == need:\n",
    "                # update our result\n",
    "                if r - l + 1 < resLen:\n",
    "                    resLen = r - l + 1\n",
    "                    res = [l, r]\n",
    "                            \n",
    "                # pop from left of window\n",
    "                window[s[l]] -= 1\n",
    "                if s[l] in t_dict and window[s[l]] < t_dict[s[l]]:\n",
    "                    have -= 1\n",
    "                            \n",
    "                l += 1\n",
    "                        \n",
    "        l, r = res\n",
    "        return s[l:r+1]"
   ]
  },
  {
   "cell_type": "markdown",
   "id": "7d92acd7",
   "metadata": {},
   "source": [
    "### 79. Binary Tree Zigzag Level Order Traversal"
   ]
  },
  {
   "cell_type": "markdown",
   "id": "8371c0c5",
   "metadata": {},
   "source": [
    "Given the root of a binary tree, return the zigzag level order traversal of its nodes' values. (i.e., from left to right, then right to left for the next level and alternate between).\n",
    "\n",
    "- **Input:** root = [3,9,20,null,null,15,7]\n",
    "- **Output:** [[3],[20,9],[15,7]]"
   ]
  },
  {
   "cell_type": "code",
   "execution_count": 11,
   "id": "5adbba66",
   "metadata": {},
   "outputs": [],
   "source": [
    "class Solution:\n",
    "    def zigzagLevelOrder(self, root):\n",
    "        if not root:\n",
    "            return []\n",
    "        \n",
    "        queue = deque([root])\n",
    "        result, direction = [], 1\n",
    "        \n",
    "        while queue:\n",
    "            level = []\n",
    "            for i in range(len(queue)):\n",
    "                node = queue.popleft()\n",
    "                level.append(node.val)\n",
    "                \n",
    "                if node.left:\n",
    "                    queue.append(node.left)\n",
    "                if node.right:\n",
    "                    queue.append(node.right)\n",
    "                    \n",
    "            result.append(level[::direction])\n",
    "            direction *= (-1)\n",
    "        return result"
   ]
  },
  {
   "cell_type": "markdown",
   "id": "b5cf7a9c",
   "metadata": {},
   "source": [
    "### 80. Logger Rate Limiter"
   ]
  },
  {
   "cell_type": "code",
   "execution_count": null,
   "id": "d1bd6678",
   "metadata": {},
   "outputs": [],
   "source": [
    "from collections import defaultdict\n",
    "\n",
    "class Logger(object):\n",
    "    timeStoreLen = 10\n",
    "\n",
    "    def __init__(self):\n",
    "        self.timeToMessages = defaultdict(set) # maps a time to set of messages printed at that time\n",
    "\n",
    "    def shouldPrintMessage(self, timestamp, message):\n",
    "        oldTimes = list(self.timeToMessages.keys())\n",
    "\n",
    "        # remove timestamps whare are too old\n",
    "        for oldTime in oldTimes:\n",
    "            if timestamp - oldTime >= self.timeStoreLen:\n",
    "                del self.timeToMessages[oldTime]\n",
    "\n",
    "        # printed same message recently?\n",
    "        for oldTime in self.timeToMessages:\n",
    "            if message in self.timeToMessages[oldTime]:\n",
    "                return False\n",
    "\n",
    "        self.timeToMessages[timestamp].add(message)\n",
    "        return True"
   ]
  },
  {
   "cell_type": "markdown",
   "id": "320a6347",
   "metadata": {},
   "source": [
    "![Rate_Limiter](rate_limiter.png)"
   ]
  },
  {
   "cell_type": "markdown",
   "id": "aec90bee",
   "metadata": {},
   "source": [
    "### 81. Count Number of Occurrences in a Sorted Array"
   ]
  },
  {
   "cell_type": "markdown",
   "id": "3f8bfae6",
   "metadata": {},
   "source": [
    "В отсортированном массивее найти количество вхождений"
   ]
  },
  {
   "cell_type": "markdown",
   "id": "de8fea85",
   "metadata": {},
   "source": [
    "[1, 2, 2, 2, 2, 3, 4, 5, 6], 2 -> 4"
   ]
  },
  {
   "cell_type": "code",
   "execution_count": 15,
   "id": "466459bc",
   "metadata": {},
   "outputs": [],
   "source": [
    "# Time O(logn)\n",
    "def count(arr, x, n):\n",
    "\n",
    "    i = first(arr, 0, n-1, x, n)\n",
    "\n",
    "    if i == -1:\n",
    "        return i\n",
    "    \n",
    "    j = last(arr, i, n-1, x, n);\n",
    "    \n",
    "    return j-i+1;\n",
    "\n",
    "def first(arr, low, high, x, n):\n",
    "    if high >= low:\n",
    "\n",
    "        mid = (low + high) // 2\n",
    "        \n",
    "        if (mid == 0 or x > arr[mid-1]) and arr[mid] == x:\n",
    "            return mid\n",
    "        elif x > arr[mid]:\n",
    "            return first(arr, (mid + 1), high, x, n)\n",
    "        else:\n",
    "            return first(arr, low, (mid -1), x, n)\n",
    "    return -1;\n",
    "\n",
    "\n",
    "def last(arr, low, high, x, n):\n",
    "    if high >= low:\n",
    "\n",
    "        mid = (low + high) // 2;\n",
    "\n",
    "        if(mid == n-1 or x < arr[mid+1]) and arr[mid] == x :\n",
    "            return mid\n",
    "        \n",
    "        elif x < arr[mid]:\n",
    "            return last(arr, low, (mid -1), x, n)\n",
    "        else:\n",
    "            return last(arr, (mid + 1), high, x, n)\t\n",
    "    return -1"
   ]
  },
  {
   "cell_type": "markdown",
   "id": "b14626d0",
   "metadata": {},
   "source": [
    "### 82. Minimize the Maximum Difference between Heights"
   ]
  },
  {
   "cell_type": "code",
   "execution_count": 16,
   "id": "ad91da1e",
   "metadata": {},
   "outputs": [],
   "source": [
    "def profit(arr, k):\n",
    "    n = (min(arr) + max(arr)) // 2\n",
    "    new = []\n",
    "    for i in arr:\n",
    "        if max(arr) - min(arr) < k:\n",
    "            return max(arr) - min(arr)\n",
    "        elif i >= n:\n",
    "            new.append(i - k)\n",
    "        else:\n",
    "            new.append(i + k)\n",
    "    return max(new) - min(new)"
   ]
  },
  {
   "cell_type": "markdown",
   "id": "edf4bdbe",
   "metadata": {},
   "source": [
    "### 83. Find smallest missing number in sorted array"
   ]
  },
  {
   "cell_type": "code",
   "execution_count": 17,
   "id": "1ca57ee2",
   "metadata": {},
   "outputs": [],
   "source": [
    "def findFirstMissing(array, start, end):\n",
    " \n",
    "    if (start > end):\n",
    "        return end + 1\n",
    " \n",
    "    if (start != array[start]):\n",
    "        return start;\n",
    " \n",
    "    mid = int((start + end) / 2)\n",
    " \n",
    "    if (array[mid] == mid):\n",
    "        return findFirstMissing(array,\n",
    "                          mid+1, end)\n",
    " \n",
    "    return findFirstMissing(array,\n",
    "                          start, mid)"
   ]
  },
  {
   "cell_type": "markdown",
   "id": "381f0df9",
   "metadata": {},
   "source": [
    " ### 84. Minimum Operations to Make Array Equal"
   ]
  },
  {
   "cell_type": "markdown",
   "id": "fe300371",
   "metadata": {},
   "source": [
    "Дан массив с n положительными целыми числами. \n",
    "Нам нужно найти минимальное количество операций, чтобы сделать все элементы равными. Мы можем выполнять сложение, умножение, вычитание или деление с любой частью элемента массива."
   ]
  },
  {
   "cell_type": "code",
   "execution_count": 19,
   "id": "d253e221",
   "metadata": {},
   "outputs": [],
   "source": [
    "# Time O(n)\n",
    "\n",
    "def minOperation(arr, n):\n",
    "    smallest_ele = float(\"inf\")\n",
    "    for i in arr:\n",
    "        smallest_ele = min(smallest_ele, i)\n",
    "   \n",
    "    total_sum = sum(arr)\n",
    "   \n",
    "    result = total_sum - n*smallest_ele\n",
    "    return result\n",
    "                   "
   ]
  },
  {
   "cell_type": "markdown",
   "id": "02a32011",
   "metadata": {},
   "source": [
    "### 85. Remove All Occurrences of a Substring"
   ]
  },
  {
   "cell_type": "markdown",
   "id": "95435999",
   "metadata": {},
   "source": [
    "- Input: s = \"axxxxyyyyb\", part = \"xy\"\n",
    "- Output: \"ab\""
   ]
  },
  {
   "cell_type": "code",
   "execution_count": 22,
   "id": "17867b57",
   "metadata": {},
   "outputs": [],
   "source": [
    "class Solution:\n",
    "    def removeOccurrences(self, s: str, part: str) -> str:\n",
    "        stack = []\n",
    "        for ch in s: \n",
    "            stack.append(ch)\n",
    "            if \"\".join(stack[-len(part):]) == part: \n",
    "                for _ in range(len(part)): stack.pop()\n",
    "        return \"\".join(stack)"
   ]
  },
  {
   "cell_type": "markdown",
   "id": "cb9597fc",
   "metadata": {},
   "source": [
    "### 86. Find Smiles Position"
   ]
  },
  {
   "cell_type": "markdown",
   "id": "31f44d7a",
   "metadata": {},
   "source": [
    "Найти позиции смайлов в строке. Смайл начинается с ':-', потом последовательность ')' или '('"
   ]
  },
  {
   "cell_type": "code",
   "execution_count": 61,
   "id": "85d9f261",
   "metadata": {},
   "outputs": [],
   "source": [
    "def find_smiles(text):\n",
    "    smiles = []\n",
    "    i = 0\n",
    "    while i < len(text):\n",
    "        if text[i:i+2] == \":-\":\n",
    "            j = i+2\n",
    "            if text[j] == \"(\":\n",
    "                while j < len(text) and text[j] == \"(\":\n",
    "                    j += 1\n",
    "                if j > i+2:\n",
    "                    smiles.append((i, j-1))\n",
    "            elif text[j] == \")\":\n",
    "                while j < len(text) and text[j] == \")\":\n",
    "                    j += 1\n",
    "                if j > i+2:\n",
    "                    smiles.append((i, j-1))\n",
    "            i = j\n",
    "        else:\n",
    "            i += 1\n",
    "    return smiles"
   ]
  },
  {
   "cell_type": "code",
   "execution_count": 68,
   "id": "b313d39a",
   "metadata": {},
   "outputs": [
    {
     "name": "stdout",
     "output_type": "stream",
     "text": [
      "[(0, 4), (5, 7)]\n",
      "[(0, 2)]\n",
      "[]\n"
     ]
    }
   ],
   "source": [
    "print(find_smiles(':-(((:-('))\n",
    "print(find_smiles(':-()'))\n",
    "print(find_smiles(''))"
   ]
  },
  {
   "cell_type": "markdown",
   "id": "865b2de7",
   "metadata": {},
   "source": [
    "### 87. Здания, которые могут увидеть закат"
   ]
  },
  {
   "cell_type": "markdown",
   "id": "426b2fad",
   "metadata": {},
   "source": [
    "Дан массив, представляющий высоты зданий. В массиве есть здания слева направо, как показано на диаграмме ниже, подсчитайте количество зданий, обращенных к закату. Предполагается, что высоты всех зданий различны."
   ]
  },
  {
   "cell_type": "code",
   "execution_count": 87,
   "id": "b764b83b",
   "metadata": {},
   "outputs": [],
   "source": [
    "def countBuildings(arr, n):\n",
    "    count = 1\n",
    " \n",
    "    curr_max = arr[0]\n",
    "    for i in range(1, n):\n",
    "        if arr[i] >= curr_max:\n",
    " \n",
    "            count += 1\n",
    "            curr_max = arr[i]\n",
    " \n",
    "    return count"
   ]
  },
  {
   "cell_type": "markdown",
   "id": "988f73f4",
   "metadata": {},
   "source": [
    "### 88. Здания, которые могут увидеть океан"
   ]
  },
  {
   "cell_type": "markdown",
   "id": "617bf494",
   "metadata": {},
   "source": [
    "В ряду n зданий. \n",
    "Вам дан целочисленный массив высот размера n, представляющий высоты зданий в строке.\n",
    "\n",
    "Океан находится справа от зданий. Здание имеет вид на океан, если здание может беспрепятственно видеть океан. Формально здание имеет вид на океан, если все здания справа от него имеют меньшую высоту.\n",
    "\n",
    "Возвращает список индексов (с индексом 0) зданий с видом на океан, отсортированных в порядке возрастания."
   ]
  },
  {
   "cell_type": "code",
   "execution_count": 88,
   "id": "0100923c",
   "metadata": {},
   "outputs": [],
   "source": [
    "class Solution:\n",
    "    def findBuildings(self, heights: List[int]) -> List[int]:\n",
    "        results = []\n",
    "        \n",
    "        prev_max = None\n",
    "        \n",
    "        for i in range(len(heights) - 1, -1, -1):\n",
    "            height = heights[i]\n",
    "            \n",
    "            if not prev_max:\n",
    "                prev_max = height\n",
    "                results.append(i)\n",
    "            else:\n",
    "                if height > prev_max:\n",
    "                    results.append(i)            \n",
    "                prev_max = max(prev_max, height)\n",
    "        \n",
    "                        \n",
    "        return sorted(results)"
   ]
  },
  {
   "cell_type": "markdown",
   "id": "e48a382b",
   "metadata": {},
   "source": [
    "### 89. Сериализация/десериализация BST"
   ]
  },
  {
   "cell_type": "code",
   "execution_count": 1,
   "id": "8ce683df",
   "metadata": {},
   "outputs": [],
   "source": [
    "class Codec:\n",
    "    def serialize(self, root):\n",
    "        l = []\n",
    "        def preOrder(root):\n",
    "            if root:\n",
    "                l.append(root.val)\n",
    "                preOrder(root.left)\n",
    "                preOrder(root.right)\n",
    "        preOrder(root)\n",
    "        return ' '.join(map(str, l))    \n",
    "        \n",
    "    def deserialize(self, data):\n",
    "        vals = collections.deque([int(val) for val in data.split()])\n",
    "        \n",
    "        def buildTree(vals, minVal, maxVal):\n",
    "            while vals and minVal < vals[0] < maxVal:\n",
    "                val = vals.popleft()\n",
    "                root = TreeNode(val)\n",
    "                root.left = buildTree(vals, minVal, val)\n",
    "                root.right = buildTree(vals, val, maxVal)\n",
    "                return root\n",
    "        return buildTree(vals, float('-inf'), float('inf'))"
   ]
  },
  {
   "cell_type": "markdown",
   "id": "3837b5c1",
   "metadata": {},
   "source": [
    "### 90. Развернуть матрицу на 90 градусов"
   ]
  },
  {
   "cell_type": "code",
   "execution_count": 4,
   "id": "79a925e7",
   "metadata": {},
   "outputs": [],
   "source": [
    "from typing import List\n",
    "\n",
    "def rotate(matrix: List[List[int]]) -> None:\n",
    "        lMat = len(matrix)\n",
    "        for i in range(lMat):\n",
    "            for j in range(i + 1,lMat):\n",
    "                matrix[i][j], matrix[j][i] = matrix[j][i], matrix[i][j]\n",
    "        for i in range(lMat):\n",
    "            matrix[i].reverse()"
   ]
  },
  {
   "cell_type": "markdown",
   "id": "2c96cb43",
   "metadata": {},
   "source": [
    "### 91. Генерация спиральной матрицы"
   ]
  },
  {
   "cell_type": "code",
   "execution_count": null,
   "id": "3f7880e9",
   "metadata": {},
   "outputs": [],
   "source": [
    "def generateMatrix(self, n: int) -> List[List[int]]:\n",
    "        ans = [[0] * n for _ in range(n)]\n",
    " \n",
    "        i = 0\n",
    "        j = 1\n",
    "        while j <= n*n:\n",
    "            for rightcol in range(i, n-i):\n",
    "                ans[i][rightcol] = j\n",
    "                j += 1\n",
    "            \n",
    "            downrow = -1\n",
    "            for downrow in range(i+1, n-i):\n",
    "                ans[downrow][rightcol] = j\n",
    "                j += 1\n",
    "            if downrow == -1:\n",
    "                break\n",
    "            icol = -1\n",
    "            for icol in range(rightcol-1, -1+i, -1):\n",
    "                ans[downrow][icol] = j\n",
    "                j += 1\n",
    "            if icol == -1:\n",
    "                break\n",
    "            for uprow in range(downrow-1, i, -1):\n",
    "                ans[uprow][icol] = j\n",
    "                j += 1\n",
    "            i += 1\n",
    "        return ans"
   ]
  },
  {
   "cell_type": "markdown",
   "id": "368f58ad",
   "metadata": {},
   "source": [
    "### 92. Найти первое вхождение одной строки в другую"
   ]
  },
  {
   "cell_type": "code",
   "execution_count": 5,
   "id": "6573c884",
   "metadata": {},
   "outputs": [],
   "source": [
    "def strStr(haystack: str, needle: str) -> int:\n",
    "        if not needle:\n",
    "            return 0;\n",
    "        \n",
    "        n = len(haystack)\n",
    "        m = len(needle)\n",
    "        \n",
    "        for i in range(n-m+1):\n",
    "            if haystack[i:m+i] == needle:\n",
    "                return i\n",
    "        return -1"
   ]
  },
  {
   "cell_type": "markdown",
   "id": "a122853b",
   "metadata": {},
   "source": [
    "### 93. Найти первое и последнее вхождение в отсортированном списке"
   ]
  },
  {
   "cell_type": "code",
   "execution_count": 8,
   "id": "2ca526af",
   "metadata": {},
   "outputs": [],
   "source": [
    "def findFirstOccurrence(nums, target):\n",
    "        left, right = 0, len(nums) - 1\n",
    "        firstOccurrence = -1\n",
    "        while left <= right:\n",
    "            middle = left + (right - left) // 2\n",
    "            if target == nums[middle]:\n",
    "                firstOccurrence = middle\n",
    "                right = middle - 1\n",
    "            elif target < nums[middle]:\n",
    "                right = middle - 1\n",
    "            else:\n",
    "                left = middle + 1\n",
    "        return firstOccurrence\n",
    "\n",
    "def findLastOccurrence(nums, target):\n",
    "        left, right = 0, len(nums) - 1\n",
    "        lastOccurrence = -1\n",
    "        while left <= right:\n",
    "            middle = left + (right - left) // 2\n",
    "            if target == nums[middle]:\n",
    "                lastOccurrence = middle\n",
    "                left = middle + 1\n",
    "            elif target < nums[middle]:\n",
    "                right = middle - 1\n",
    "            else:\n",
    "                left = middle + 1\n",
    "        return lastOccurrence\n",
    "    \n",
    "def searchRange(nums: List[int], target: int) -> List[int]:\n",
    "    return [findFirstOccurrence(nums, target), findLastOccurrence(nums, target)]"
   ]
  },
  {
   "cell_type": "markdown",
   "id": "fb7efcbb",
   "metadata": {},
   "source": [
    "### 94. Найти K ближайших элементов"
   ]
  },
  {
   "cell_type": "code",
   "execution_count": 9,
   "id": "4103c388",
   "metadata": {},
   "outputs": [],
   "source": [
    "def findClosestElements(arr: List[int], k: int, x: int) -> List[int]:\n",
    "        i, j = 0, len(arr) - k\n",
    "        while i < j:\n",
    "            mid = (i & j) + ((i^j) >> 1)\n",
    "            if x - arr[mid] > arr[mid + k] - x: # arr is sorted\n",
    "                i = mid + 1\n",
    "            else:\n",
    "                j = mid\n",
    "\n",
    "        return arr[i:i+k]"
   ]
  },
  {
   "cell_type": "markdown",
   "id": "1ed49c72",
   "metadata": {},
   "source": [
    "### 95. Найти количество не пустых подмассивов, сумма которых делится на k"
   ]
  },
  {
   "cell_type": "code",
   "execution_count": 10,
   "id": "4bfdcbb1",
   "metadata": {},
   "outputs": [],
   "source": [
    "def subarraysDivByK(nums: List[int], k: int) -> int:\n",
    "        ans = 0\n",
    "        prefix = 0\n",
    "        count = [1] + [0] * (k - 1)\n",
    "\n",
    "        for val in nums:\n",
    "            prefix = (prefix + val) % k\n",
    "            ans += count[prefix]\n",
    "            count[prefix] += 1\n",
    "\n",
    "        return ans"
   ]
  },
  {
   "cell_type": "markdown",
   "id": "599bc6d6",
   "metadata": {},
   "source": [
    "### 96. Проложить путь для аэропортов"
   ]
  },
  {
   "cell_type": "code",
   "execution_count": 11,
   "id": "0ad8574c",
   "metadata": {},
   "outputs": [],
   "source": [
    "def findItinerary(self, tickets: List[List[str]]) -> List[str]:\n",
    "        def dfs(graph, airport, res):            \n",
    "            while graph[airport]:\n",
    "                next = graph[airport].pop()\n",
    "                dfs(graph, next, res)\n",
    "            res.append(airport)            \n",
    "                \n",
    "        graph = collections.defaultdict(list)\n",
    "        for frm, to in tickets:\n",
    "            graph[frm].append(to)\n",
    "        for key in graph:\n",
    "            graph[key].sort(reverse = True)\n",
    "        res = []\n",
    "        dfs(graph, 'JFK', res)\n",
    "        return res[::-1]"
   ]
  },
  {
   "cell_type": "code",
   "execution_count": null,
   "id": "bbcdfdbd",
   "metadata": {},
   "outputs": [],
   "source": []
  }
 ],
 "metadata": {
  "kernelspec": {
   "display_name": "Python 3 (ipykernel)",
   "language": "python",
   "name": "python3"
  },
  "language_info": {
   "codemirror_mode": {
    "name": "ipython",
    "version": 3
   },
   "file_extension": ".py",
   "mimetype": "text/x-python",
   "name": "python",
   "nbconvert_exporter": "python",
   "pygments_lexer": "ipython3",
   "version": "3.7.5"
  }
 },
 "nbformat": 4,
 "nbformat_minor": 5
}
