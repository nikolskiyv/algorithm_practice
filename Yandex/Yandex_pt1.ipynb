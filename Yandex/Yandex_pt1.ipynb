{
 "cells": [
  {
   "cell_type": "markdown",
   "id": "680a9802",
   "metadata": {},
   "source": [
    "### 1. Line reflection\n",
    "Даны n точек на двумерной плоскости, найдите, существует ли такая прямая, параллельная оси y, которая симметрично отражает данные точки, другими словами, ответьте, существует ли такая прямая, что после отражения всех точек через данную прямую множество исходных точек совпадает с множеством отраженных.\n",
    "Обратите внимание, что могут существовать повторяющиеся точки."
   ]
  },
  {
   "cell_type": "markdown",
   "id": "ddfa4eb1",
   "metadata": {},
   "source": [
    "**Идея:** Такая прямая и существует ТОЛЬКО тогда когда самая крайняя левая точка отражается в самую правую крайнюю точку.\n",
    "\n",
    "Тут возникает сложность в том, что хоть и координаты точек по условию целые числа, но координата прямой может быть не целой. Как с этим бороться? Нет смысла делить выражение (left_x + right_x) на два, так как мы всегда после этого умножаем значение прямой на два. Т.е **решение проблемы с вещественной координатой следующее: будем хранить не координату прямой, а удвоенной значение координаты.**\n",
    "\n",
    "**Создадим хэш-мапу где ключом будет является координаты точки (x,y) , а значением количество таких точек. Вспоминая условие задачи у нас могут быть повторяющиеся точки.\n",
    "Далее нам нужно пройтись по данной хэш-мапе, для каждого ключа определить точку в которую она отразится относительно нашего кандидата. Если отраженной точки нет в хэш мапе или же значение в отраженной точке не равно значению в отражаемой , то кандидат не подошел. И ответ False\n",
    "Если же мы прошли по всем точкам и для всех кандидат подошел, то ответ True**"
   ]
  },
  {
   "cell_type": "code",
   "execution_count": 1,
   "id": "95cecc74",
   "metadata": {},
   "outputs": [],
   "source": [
    "from collections import defaultdict\n",
    "from math import inf\n",
    "from typing import List\n",
    "\n",
    "def is_reflected(points) -> bool:\n",
    "    point_count = defaultdict(int)\n",
    "    left_point = inf\n",
    "    right_point = -inf\n",
    "    \n",
    "    for point in points:\n",
    "        point_count[tuple(point)] += 1\n",
    "        left_point = min(left_point, point[0])\n",
    "        right_point = max(right_point, point[0])\n",
    "    \n",
    "    candidate = left_point + right_point\n",
    "    for point in points:\n",
    "        # это кортеж (candidate - point[0], point[1])\n",
    "        reflected_point = candidate - point[0], point[1]\n",
    "        if point_count[tuple(point)] != point_count[reflected_point]:\n",
    "            return False\n",
    "    return True"
   ]
  },
  {
   "cell_type": "markdown",
   "id": "05edf90a",
   "metadata": {},
   "source": [
    "### 2. Longest subarray of 1s after deleting one element"
   ]
  },
  {
   "cell_type": "markdown",
   "id": "cad640e4",
   "metadata": {},
   "source": [
    "Дан двоичный массив nums, вы можете удалить из него один элемент.\n",
    "\n",
    "Возвращает размер самого длинного непустого подмассива, содержащего только единицы в результирующем массиве. Вернуть 0, если такого подмассива нет."
   ]
  },
  {
   "cell_type": "code",
   "execution_count": 3,
   "id": "c84235a8",
   "metadata": {},
   "outputs": [],
   "source": [
    "# O(N)time O(1)space\n",
    "\n",
    "class Solution:\n",
    "    def longestSubarray(self, nums):\n",
    "        N = len(nums)\n",
    "\n",
    "        all_ones = 0\n",
    "        one_zero = 0\n",
    "        res = 0\n",
    "        \n",
    "        for n in nums:\n",
    "            if n == 1:\n",
    "                all_ones += 1\n",
    "                one_zero += 1\n",
    "            else:\n",
    "                one_zero = all_ones\n",
    "                all_ones = 0\n",
    "\n",
    "            res = max(res, all_ones, one_zero)\n",
    "\n",
    "        return N - 1 if all_ones == N else res "
   ]
  },
  {
   "cell_type": "markdown",
   "id": "bfeb1091",
   "metadata": {},
   "source": [
    "### 3. Summary ranges"
   ]
  },
  {
   "cell_type": "markdown",
   "id": "8f65116f",
   "metadata": {},
   "source": [
    "Вам дан отсортированный уникальный целочисленный массив nums.\n",
    "\n",
    "Диапазон [a,b] — это набор всех целых чисел от a до b (включительно).\n",
    "\n",
    "Возвращает наименьший отсортированный список диапазонов, точно покрывающий все числа в массиве. То есть каждый элемент nums покрывается ровно одним из диапазонов, и не существует целого числа x, такого что x находится в одном из диапазонов, но не в nums.\n",
    "\n",
    "Каждый диапазон [a,b] в списке должен выводиться как:\n",
    "\n",
    "\"а->б\", если а != б\n",
    "\"а\", если а == б"
   ]
  },
  {
   "cell_type": "code",
   "execution_count": 5,
   "id": "91dd9aed",
   "metadata": {},
   "outputs": [],
   "source": [
    "class Solution:\n",
    "    def summaryRanges(self, nums):\n",
    "        if nums == []:\n",
    "            return nums\n",
    "        \n",
    "        elif len(nums) == 1:\n",
    "            return [str(nums[0])]\n",
    "        \n",
    "        else:\n",
    "            start = nums[0]\n",
    "            end = nums[0]\n",
    "            res = []\n",
    "            for i in range(1, len(nums)):\n",
    "                if nums[i] - nums[i-1] == 1:\n",
    "                    end = nums[i]\n",
    "                else:\n",
    "                    res.append(self.to_str(start, end))\n",
    "                    start = end = nums[i]\n",
    "\n",
    "            res.append(self.to_str(start, end))\n",
    "\n",
    "            return res\n",
    "\n",
    "    def to_str(self, start, end):\n",
    "        if start == end:\n",
    "            return str(start)\n",
    "        else:\n",
    "            return str(start)+\"->\"+str(end)"
   ]
  },
  {
   "cell_type": "markdown",
   "id": "f156bb68",
   "metadata": {},
   "source": [
    "### 4. String compression"
   ]
  },
  {
   "cell_type": "markdown",
   "id": "5b9d6a6f",
   "metadata": {},
   "source": [
    "[\"a\",\"a\",\"b\",\"b\",\"c\",\"c\",\"c\"] -> [\"a\",\"2\",\"b\",\"2\",\"c\",\"3\"]"
   ]
  },
  {
   "cell_type": "code",
   "execution_count": 7,
   "id": "994bf5e5",
   "metadata": {},
   "outputs": [],
   "source": [
    "# Time O(n), Space O(1)\n",
    "\n",
    "class Solution:\n",
    "    def compress(self, chars):\n",
    "        i = 0\n",
    "        res = 0\n",
    "        while i < len(chars):\n",
    "            group_length = 1\n",
    "            while (i + group_length < len(chars) and chars[i + group_length] == chars[i]):\n",
    "                group_length += 1\n",
    "                \n",
    "            chars[res] = chars[i]\n",
    "            res += 1\n",
    "            \n",
    "            if group_length > 1:\n",
    "                str_repr = str(group_length)\n",
    "                chars[res:res+len(str_repr)] = list(str_repr)\n",
    "                res += len(str_repr)\n",
    "            i += group_length\n",
    "        return res"
   ]
  },
  {
   "cell_type": "markdown",
   "id": "d29e5376",
   "metadata": {},
   "source": [
    "### 5. Zigzag Iterator"
   ]
  },
  {
   "cell_type": "markdown",
   "id": "c0926311",
   "metadata": {},
   "source": [
    "Input:\n",
    "- v1 = [1,2]\n",
    "- v2 = [3,4,5,6]\n",
    "\n",
    "Output: [1,3,2,4,5,6]"
   ]
  },
  {
   "cell_type": "code",
   "execution_count": 12,
   "id": "e6365b0e",
   "metadata": {},
   "outputs": [],
   "source": [
    " class ZigzagIterator(object):\n",
    "\n",
    "    def __init__(self, v1, v2):\n",
    "        self.lists = list()\n",
    "        if len(v1) > 0:\n",
    "            self.lists.append(v1)\n",
    "        if len(v2) > 0:\n",
    "            self.lists.append(v2)\n",
    "\n",
    "        self.numLists = len(self.lists)\n",
    "        self.counters = [0] * self.numLists\n",
    "        self.listCounter = 0\n",
    "\n",
    "    def next(self):\n",
    "        res = self.lists[self.listCounter][self.counters[self.listCounter]]\n",
    "        \n",
    "        if self.counters[self.listCounter] == len(self.lists[self.listCounter]) - 1:\n",
    "            del self.counters[self.listCounter]\n",
    "            del self.lists[self.listCounter]\n",
    "            self.numLists -= 1\n",
    "        else:\n",
    "            self.counters[self.listCounter] += 1\n",
    "            self.listCounter += 1\n",
    "        if self.listCounter == self.numLists:\n",
    "            self.listCounter = 0\n",
    "        return res\n",
    "\n",
    "    def hasNext(self):\n",
    "        return self.numLists > 0\n",
    "\n",
    "\n",
    "# Your ZigzagIterator object will be instantiated and called as such:\n",
    "# i, v = ZigzagIterator(v1, v2), []\n",
    "# while i.hasNext(): v.append(i.next())"
   ]
  },
  {
   "cell_type": "markdown",
   "id": "ee5d6fb1",
   "metadata": {},
   "source": [
    "### 6. Valid Palindrome"
   ]
  },
  {
   "cell_type": "markdown",
   "id": "2f1bd7ff",
   "metadata": {},
   "source": [
    "Фраза является палиндромом, если после преобразования всех прописных букв в строчные и удаления всех не буквенно-цифровых символов она читается одинаково вперед и назад. Буквенно-цифровые символы включают буквы и цифры.\n",
    "\n",
    "Дана строка s, вернуть true, если это палиндром, или false в противном случае."
   ]
  },
  {
   "cell_type": "code",
   "execution_count": 13,
   "id": "53bbca15",
   "metadata": {},
   "outputs": [],
   "source": [
    "# Time O(n), Space: O(1)\n",
    "class Solution:\n",
    "    def isPalindrome(self, s: str) -> bool:\n",
    "        l, r = 0, len(s)-1\n",
    "        while l < r:\n",
    "            while l < r and not s[l].isalnum():\n",
    "                l += 1\n",
    "            while l <r and not s[r].isalnum():\n",
    "                r -= 1\n",
    "            if s[l].lower() != s[r].lower():\n",
    "                return False\n",
    "            l +=1; r -= 1\n",
    "        return True"
   ]
  },
  {
   "cell_type": "markdown",
   "id": "4a70fadc",
   "metadata": {},
   "source": [
    "### 7. One edit distance"
   ]
  },
  {
   "cell_type": "markdown",
   "id": "c9087bf9",
   "metadata": {},
   "source": [
    "Имея две строки s и t, вернуть true, если обе они находятся на расстоянии редактирования друг от друга, в противном случае вернуть false.\n",
    "\n",
    "Говорят, что строка s находится на расстоянии одного расстояния от строки t, если вы можете:\n",
    "\n",
    "\n",
    "- Вставить ровно один символ в s, чтобы получить t.\n",
    "- Удалить ровно один символ из s, чтобы получить t.\n",
    "- Заменить ровно один символ s другим символом, чтобы получить t."
   ]
  },
  {
   "cell_type": "code",
   "execution_count": 8,
   "id": "71f000e7",
   "metadata": {},
   "outputs": [],
   "source": [
    "# Time O(n), Space O(1)\n",
    "\n",
    "class Solution:\n",
    "    def isOneEditDistance(self, s, t):\n",
    "\n",
    "        if abs(len(s) - len(t)) > 1:\n",
    "            return False\n",
    "        \n",
    "        i = j = edits = 0\n",
    "        while i < len(s) and j < len(t):\n",
    "            if s[i] == t[j]:\n",
    "                i, j = i + 1, j + 1\n",
    "                continue\n",
    "                \n",
    "            edits += 1\n",
    "            \n",
    "            if edits > 1:\n",
    "                return False\n",
    "            \n",
    "            if len(s) == len(t):\n",
    "                i, j = i + 1, j + 1\n",
    "            else:\n",
    "                if len(s) > len(t):\n",
    "                    i += 1\n",
    "                else:\n",
    "                    j += 1\n",
    "                    \n",
    "        if i < len(s) or j < len(t):\n",
    "            # Любые оставшиеся символы (максимум 1) должны быть удалены\n",
    "            edits += 1\n",
    "\n",
    "        return edits == 1"
   ]
  },
  {
   "cell_type": "markdown",
   "id": "5360f36f",
   "metadata": {},
   "source": [
    "### 8. Subarray sum equals K"
   ]
  },
  {
   "cell_type": "markdown",
   "id": "b212f261",
   "metadata": {},
   "source": [
    "Дан массив целых чисел nums и целое число k, **вернуть общее количество подмассивов, сумма которых равна k**.\n",
    "\n",
    "Подмассив — это непрерывная непустая последовательность элементов внутри массива."
   ]
  },
  {
   "cell_type": "markdown",
   "id": "0f0333af",
   "metadata": {},
   "source": [
    "- Пройдитесь по массиву и отследите текущую текущую сумму до i-го индекса в переменной, скажем, sum.\n",
    "- Кроме того, хешируйте различные значения суммы, полученные до сих пор, в хэш-карту.\n",
    "- Если сумма равна k в любой точке массива, увеличьте количество подмассивов на 1.\n",
    "- Если это значение суммы превысило k на значение суммы – k, мы можем найти количество подмассивов, найденных до сих пор с суммой = сумма – k, из нашей хэш-карты. Обратите внимание, что если эти подмассивы удалить из нашего текущего массива, мы снова получим сумму k. Итак, мы добавляем к нашему ответу количество подмассивов с суммой = сумма - k, найденных до сих пор из нашей хэш-карты.\n",
    "- После обхода всего массива один раз и применения описанных выше шагов верните вычисленный результат."
   ]
  },
  {
   "cell_type": "code",
   "execution_count": 9,
   "id": "22989a1b",
   "metadata": {},
   "outputs": [],
   "source": [
    "class Solution:\n",
    "    # Time: O(n), Space: O(1)\n",
    "    def subarraySum(self, nums, k):\n",
    "        cnt, total = 0, 0\n",
    "        cache = {0: 1}\n",
    "        \n",
    "        for v in nums:\n",
    "            total += v\n",
    "            if cache.get(total-k):\n",
    "                cnt += cache[total-k]\n",
    "                \n",
    "            if cache.get(total):\n",
    "                cache[total] += 1\n",
    "            else:\n",
    "                cache[total] = 1\n",
    "        return cnt"
   ]
  },
  {
   "cell_type": "markdown",
   "id": "3f79f1bb",
   "metadata": {},
   "source": [
    "### 9. Move zeroes"
   ]
  },
  {
   "cell_type": "markdown",
   "id": "d86ce8b9",
   "metadata": {},
   "source": [
    "[0,1,0,3,12] -> [1,3,12,0,0]"
   ]
  },
  {
   "cell_type": "code",
   "execution_count": 11,
   "id": "fe652b47",
   "metadata": {},
   "outputs": [],
   "source": [
    "# Time O(N), Space O(1)\n",
    "class Solution:\n",
    "    def moveZeroes(self, nums):\n",
    "        count = 0\n",
    "        n = len(nums)\n",
    "\n",
    "        for i in range(n):\n",
    "            if nums[i] != 0:\n",
    "                nums[count] = nums[i]\n",
    "                count+=1\n",
    "        \n",
    "        while count < n:\n",
    "            nums[count] = 0\n",
    "            count += 1"
   ]
  },
  {
   "cell_type": "markdown",
   "id": "9fe968bb",
   "metadata": {},
   "source": [
    "### 10. Group anagrams"
   ]
  },
  {
   "cell_type": "markdown",
   "id": "5666f2c1",
   "metadata": {},
   "source": [
    "- Input: strs = [\"eat\",\"tea\",\"tan\",\"ate\",\"nat\",\"bat\"]\n",
    "- Output: [[\"bat\"],[\"nat\",\"tan\"],[\"ate\",\"eat\",\"tea\"]]"
   ]
  },
  {
   "cell_type": "code",
   "execution_count": 22,
   "id": "baba8ce1",
   "metadata": {},
   "outputs": [],
   "source": [
    "class Solution:\n",
    "    def groupAnagrams(self, li):\n",
    "        hash_map = {}\n",
    "        \n",
    "        for word in li:\n",
    "            sorted_word = ''.join(sorted(word))\n",
    "\n",
    "            if sorted_word not in hash_map:\n",
    "                hash_map[sorted_word] = [word]\n",
    "\n",
    "            else:\n",
    "                hash_map[sorted_word] += [word]\n",
    "                \n",
    "        return [hash_map[i] for i in hash_map]"
   ]
  },
  {
   "cell_type": "markdown",
   "id": "3c3851d0",
   "metadata": {},
   "source": [
    "### 11. Insert Delete GetRandom O(1)"
   ]
  },
  {
   "cell_type": "code",
   "execution_count": 23,
   "id": "70d6cd59",
   "metadata": {},
   "outputs": [],
   "source": [
    "import random\n",
    "\n",
    "class RandomizedSet():\n",
    "    def __init__(self):\n",
    "        self.val_to_index = dict()\n",
    "        self.val_list = list()\n",
    "\n",
    "    def insert(self, val):\n",
    "        if val in self.val_to_index:\n",
    "            return False\n",
    "\n",
    "        self.val_to_index[val] = len(self.val_list)\n",
    "        self.val_list.append(val)\n",
    "        return True\n",
    "\n",
    "    def remove(self, val):\n",
    "        if val not in self.val_to_index:\n",
    "            return False\n",
    "\n",
    "        last_val = self.val_list[-1]\n",
    "        val_index = self.val_to_index[val]\n",
    "        \n",
    "        if last_val != val:\n",
    "            self.val_to_index[last_val] = val_index\n",
    "            self.val_list[val_index] = last_val\n",
    "\n",
    "        self.val_list.pop()\n",
    "        self.val_to_index.pop(val)\n",
    "        return True\n",
    "\n",
    "    def getRandom(self):\n",
    "        return random.choice(self.val_list)"
   ]
  },
  {
   "cell_type": "markdown",
   "id": "41659d5a",
   "metadata": {},
   "source": [
    "### 12. LRU Cache"
   ]
  },
  {
   "cell_type": "code",
   "execution_count": 24,
   "id": "f0ea58e1",
   "metadata": {},
   "outputs": [],
   "source": [
    "# Простое\n",
    "\n",
    "from collections import deque\n",
    "\n",
    "class LRUCache:\n",
    "    def __init__(self, capacity: int):\n",
    "        self.cache = deque()\n",
    "        self.dict = {}\n",
    "        self.capacity = capacity\n",
    "    \n",
    "\n",
    "    def get(self, key: int) -> int:\n",
    "        if key in self.dict.keys():\n",
    "            self.put(key, self.dict[key])\n",
    "            return self.dict[key]\n",
    "        else:return -1\n",
    "\n",
    "    def put(self, key: int, value: int) -> None:\n",
    "        if key in self.dict.keys():\n",
    "            self.dict[key] = value\n",
    "            self.cache.remove(key)\n",
    "            self.cache.append(key)\n",
    "        else:\n",
    "            if len(self.dict) == self.capacity:\n",
    "                keytoremove = self.cache[0]\n",
    "                self.cache.remove(keytoremove)\n",
    "                del(self.dict[keytoremove])\n",
    "\n",
    "            self.cache.append(key)\n",
    "            self.dict[key] = value\n",
    "        \n",
    "\n",
    "\n",
    "# Your LRUCache object will be instantiated and called as such:\n",
    "# obj = LRUCache(capacity)\n",
    "# param_1 = obj.get(key)\n",
    "# obj.put(key,value)"
   ]
  },
  {
   "cell_type": "code",
   "execution_count": 25,
   "id": "343ae23b",
   "metadata": {},
   "outputs": [],
   "source": [
    "# Время\n",
    "# О(1)\n",
    "# Поиск занимает всего O (1), так как мы храним в HashMap\n",
    "# Добавление и удаление узла займет O (1), так как мы используем двусвязный список.\n",
    "\n",
    "# Память\n",
    "\n",
    "# O(n)\n",
    "# N для Hashmap для каждого узла\n",
    "# N для N узлов в двусвязном списке\n",
    "\n",
    "class Node:\n",
    "    def __init__(self, key=None, value=None, next=None, prev=None):\n",
    "        self.key = key\n",
    "        self.value = value\n",
    "        self.next = next\n",
    "        self.prev = prev\n",
    "\n",
    "class DoublyLinkedList:\n",
    "    def __init__(self):\n",
    "        self.head = Node()\n",
    "        self.tail = Node()\n",
    "        self.head.next = self.tail\n",
    "        self.tail.next = self.head\n",
    "\n",
    "    def remove_node(self, node):\n",
    "        prev = node.prev\n",
    "        next = node.next\n",
    "        prev.next = next\n",
    "        next.prev = prev\n",
    "        return node\n",
    "    \n",
    "    def remove_from_tail(self):\n",
    "        prev = self.tail.prev\n",
    "        self.tail.prev = prev.prev\n",
    "        prev.prev.next = self.tail\n",
    "        return prev\n",
    "    \n",
    "    def add_to_head(self, node):\n",
    "        next = self.head.next\n",
    "        self.head.next = node\n",
    "        node.prev = self.head\n",
    "        node.next = next\n",
    "        next.prev = node\n",
    "        \n",
    "    def move_to_head(self, node):\n",
    "        node = self.remove_node(node)\n",
    "        self.add_to_head(node)\n",
    "        \n",
    "class LRUCache:\n",
    "    def __init__(self, capacity: int):\n",
    "        self.capacity = capacity\n",
    "        self.cache = {}\n",
    "        self.dll = DoublyLinkedList()\n",
    "        \n",
    "    def get(self, key: int) -> int:\n",
    "        if key in self.cache:\n",
    "            node = self.cache[key]\n",
    "            self.dll.move_to_head(node)\n",
    "            return node.value\n",
    "        else:\n",
    "            return -1\n",
    "\n",
    "    def put(self, key: int, value: int) -> None:\n",
    "        if key in self.cache:\n",
    "            node = self.cache[key]\n",
    "            self.dll.move_to_head(node)\n",
    "            node.value = value\n",
    "        else:\n",
    "            node = Node(key, value)\n",
    "            if len(self.cache) == self.capacity:\n",
    "                removed_node = self.dll.remove_from_tail()\n",
    "                del self.cache[removed_node.key]\n",
    "            self.dll.add_to_head(node)\n",
    "            self.cache[key] = node\n",
    "\n",
    "\n",
    "# Your LRUCache object will be instantiated and called as such:\n",
    "# obj = LRUCache(capacity)\n",
    "# param_1 = obj.get(key)\n",
    "# obj.put(key,value)\n",
    "# Your LRUCache object will be instantiated and called as such:\n",
    "# obj = LRUCache(capacity)\n",
    "# param_1 = obj.get(key)\n",
    "# obj.put(key,value)"
   ]
  },
  {
   "cell_type": "markdown",
   "id": "eaf40c8f",
   "metadata": {},
   "source": [
    "### 13. Generate Parentheses"
   ]
  },
  {
   "cell_type": "code",
   "execution_count": 21,
   "id": "622340b2",
   "metadata": {},
   "outputs": [],
   "source": [
    "# Time O((4^n)/sqrt(n))\n",
    "# Он основан на понимании того, сколько элементов содержится в функции. \n",
    "# Это указывает на n-е каталонское число, которое асимптотически ограничено C_n = (4^n)/(n*sqrt(n)).\n",
    "# Поскольку каждая допустимая последовательность имеет максимум n шагов, \n",
    "# следовательно, временная сложность будет (4^n)/sqrt(n).\n",
    "\n",
    "# Space (4^n)/sqrt(n) для рекурсивных вызовов и O(n) для хранения последовательности.\n",
    "\n",
    "class Solution:\n",
    "    def generateParenthesis(self, n):\n",
    "        \n",
    "        def generate(result, s, _open, _close, n):\n",
    "            if _open == n and _close == n:\n",
    "                result.append(s)\n",
    "                return\n",
    "            if _open < n:\n",
    "                generate(result, s + \"(\", _open + 1, _close, n)\n",
    "            if _close < _open:\n",
    "                generate(result, s + \")\", _open, _close + 1, n)\n",
    "            \n",
    "        result = []\n",
    "\n",
    "        generate(result, \"\", 0, 0, n)\n",
    "        return result"
   ]
  },
  {
   "cell_type": "markdown",
   "id": "da764731",
   "metadata": {},
   "source": [
    "### 14. Reverse Linked List"
   ]
  },
  {
   "cell_type": "markdown",
   "id": "fd3a0070",
   "metadata": {},
   "source": [
    "Односвязный"
   ]
  },
  {
   "cell_type": "code",
   "execution_count": 26,
   "id": "45bac53b",
   "metadata": {},
   "outputs": [],
   "source": [
    "from typing import Optional\n",
    "\n",
    "# Time O(n) Space O(1)\n",
    "\n",
    "class ListNode:\n",
    "    def __init__(self, val=0, next=None):\n",
    "        self.val = val\n",
    "        self.next = next\n",
    "        \n",
    "class Solution:\n",
    "    def reverseList(self, head: Optional[ListNode]) -> Optional[ListNode]:\n",
    "        prev = None\n",
    "        current = head\n",
    "        \n",
    "        while(current is not None):\n",
    "            next = current.next\n",
    "            current.next = prev\n",
    "            prev = current\n",
    "            current = next\n",
    "        head = prev\n",
    "        return head"
   ]
  },
  {
   "cell_type": "markdown",
   "id": "87b80498",
   "metadata": {},
   "source": [
    "Двусвязный"
   ]
  },
  {
   "cell_type": "code",
   "execution_count": 27,
   "id": "1a912e39",
   "metadata": {},
   "outputs": [],
   "source": [
    "def reverse(head):\n",
    "        temp = None\n",
    "        current = head\n",
    "  \n",
    "        # Swap next and prev for all nodes \n",
    "        # of doubly linked list\n",
    "        \n",
    "        while current is not None:\n",
    "            temp = current.prev\n",
    "            current.prev = current.next\n",
    "            current.next = temp\n",
    "            current = current.prev\n",
    "  \n",
    "        # Before changing head, check for the\n",
    "        # cases like empty list and list with \n",
    "        # only one node\n",
    "        if temp is not None:\n",
    "            head = temp.prev"
   ]
  },
  {
   "cell_type": "markdown",
   "id": "a31fb417",
   "metadata": {},
   "source": [
    "### 15. Permutation in string"
   ]
  },
  {
   "cell_type": "markdown",
   "id": "5048a3fe",
   "metadata": {},
   "source": [
    "Вернуть true, если одна из перестановок s1 является подстрокой s2."
   ]
  },
  {
   "cell_type": "markdown",
   "id": "1978c91a",
   "metadata": {},
   "source": [
    "- Input: s1 = \"ab\", s2 = \"eidbaooo\"\n",
    "- Output: true"
   ]
  },
  {
   "cell_type": "markdown",
   "id": "6a4f7426",
   "metadata": {},
   "source": [
    "- Input: s1 = \"ab\", s2 = \"eidboaoo\"\n",
    "- Output: false"
   ]
  },
  {
   "cell_type": "code",
   "execution_count": 28,
   "id": "85edb012",
   "metadata": {},
   "outputs": [],
   "source": [
    "class Solution:\n",
    "    def checkInclusion(self, s1: str, s2: str) -> bool:\n",
    "        if len(s2) < len(s1):\n",
    "            return False\n",
    "        \n",
    "        freq_s1, freq_s2 = [0]*26, [0]*26\n",
    "            \n",
    "        for x in s1:\n",
    "            freq_s1[ord(x)-ord('a')] += 1\n",
    "            \n",
    "        for x in range(0, len(s2)-len(s1)+1):\n",
    "            if x == 0:\n",
    "                for y in range(x, x+len(s1)):\n",
    "                    freq_s2[ord(s2[y]) - ord('a')] +=  1 \n",
    "                    \n",
    "            else:\n",
    "                freq_s2[ord(s2[x+len(s1)-1]) - ord('a')] +=  1 \n",
    "                \n",
    "            if freq_s2 == freq_s1:\n",
    "                return True\n",
    "            \n",
    "            freq_s2[ord(s2[x]) - ord('a')] -=  1\n",
    "                \n",
    "        return False"
   ]
  },
  {
   "cell_type": "markdown",
   "id": "abdd3840",
   "metadata": {},
   "source": [
    "### 16. Merge K Linked Lists"
   ]
  },
  {
   "cell_type": "markdown",
   "id": "c4b1e4a2",
   "metadata": {},
   "source": [
    "- Соедините k списков и объедините каждую пару.\n",
    "- После первого спаривания k списков объединяются в k/2 списков со средней длиной 2N/k, затем k/4, k/8 и так далее.\n",
    "- Повторяем эту процедуру, пока не получим окончательный отсортированный связанный список\n",
    "\n",
    "Таким образом, мы будем проходить почти N узлов за соединение и слияние и повторять эту процедуру около logk раз."
   ]
  },
  {
   "cell_type": "code",
   "execution_count": 28,
   "id": "804dd838",
   "metadata": {},
   "outputs": [],
   "source": [
    "# Time O(n*log(K))\n",
    "# Space O(1)\n",
    "\n",
    "class Solution:\n",
    "    def mergeKLists(self, lists: List[Optional[ListNode]]) -> Optional[ListNode]:\n",
    "        amount = len(lists)\n",
    "        interval = 1\n",
    "        \n",
    "        while interval < amount:\n",
    "            for i in range(0, amount - interval, interval * 2):\n",
    "                lists[i] = self.merge2Lists(lists[i], lists[i + interval])\n",
    "            interval *= 2\n",
    "\n",
    "        return lists[0] if amount > 0 else None\n",
    "\n",
    "    def merge2Lists(self, l1, l2):\n",
    "        head = point = ListNode(0)\n",
    "        while l1 and l2:\n",
    "            if l1.val <= l2.val:\n",
    "                point.next = l1\n",
    "                l1 = l1.next\n",
    "            else:\n",
    "                point.next = l2\n",
    "                l2 = l1\n",
    "                l1 = point.next.next\n",
    "            point = point.next\n",
    "\n",
    "        if not l1:\n",
    "            point.next = l2\n",
    "        else:\n",
    "            point.next = l1\n",
    "\n",
    "        return head.next"
   ]
  },
  {
   "cell_type": "markdown",
   "id": "2e9cb785",
   "metadata": {},
   "source": [
    "### 17. Number of recent calls"
   ]
  },
  {
   "cell_type": "markdown",
   "id": "4c48d9a7",
   "metadata": {},
   "source": [
    "Реализуйте класс RecentCounter:\n",
    "\n",
    "- **RecentCounter()** Инициализирует счетчик с нулевыми последними запросами.\n",
    "- **int ping(int t)** Добавляет новый запрос в момент времени t, где t представляет некоторое время в миллисекундах, и возвращает количество запросов, выполненных за последние 3000 миллисекунд (включая новый запрос). В частности, вернуть количество запросов, которые произошли в инклюзивном диапазоне [t - 3000, t].\n",
    "- Гарантируется, что каждый **вызов ping использует строго большее значение t, чем предыдущий вызов**."
   ]
  },
  {
   "cell_type": "code",
   "execution_count": 29,
   "id": "56888a38",
   "metadata": {},
   "outputs": [],
   "source": [
    "class RecentCounter:\n",
    "\n",
    "    def __init__(self):\n",
    "        self.data = []\n",
    "        \n",
    "    def ping(self, t):\n",
    "        while self.data and t - self.data[0] > 3000:\n",
    "            self.data.pop(0)\n",
    "            \n",
    "        self.data.append(t)\n",
    "        return len(self.data)"
   ]
  },
  {
   "cell_type": "markdown",
   "id": "bd7fb81b",
   "metadata": {},
   "source": [
    "### 18. Valid Parenthesis"
   ]
  },
  {
   "cell_type": "markdown",
   "id": "0ad05ad0",
   "metadata": {},
   "source": [
    "Проверить баланс скобок"
   ]
  },
  {
   "cell_type": "code",
   "execution_count": 30,
   "id": "dfbc16f2",
   "metadata": {},
   "outputs": [],
   "source": [
    "class Solution:\n",
    "    # Time: O(n) / Space: O(n)\n",
    "    def isValid(self, s: str) -> bool:\n",
    "        stack = []\n",
    "        for char in s:\n",
    "            if char in [\"(\", \"{\", \"[\"]:\n",
    "                stack.append(char)\n",
    "            else:\n",
    "                if not stack:\n",
    "                    return False\n",
    "                current_char = stack.pop()\n",
    "                if current_char == '(':\n",
    "                    if char != \")\":\n",
    "                        return False\n",
    "                if current_char == '{':\n",
    "                    if char != \"}\":\n",
    "                        return False\n",
    "                if current_char == '[':\n",
    "                    if char != \"]\":\n",
    "                        return False\n",
    " \n",
    "        if stack:\n",
    "            return False\n",
    "        return True"
   ]
  },
  {
   "cell_type": "markdown",
   "id": "e8f1c0d8",
   "metadata": {},
   "source": [
    "### 19. Max consecutive ones ii"
   ]
  },
  {
   "cell_type": "markdown",
   "id": "bebc80ac",
   "metadata": {},
   "source": [
    "Есть двоичный массив, найдите максимальное количество последовательных единиц в этом массиве, если вы можете обернуть не более одного 0."
   ]
  },
  {
   "cell_type": "markdown",
   "id": "419aaaf1",
   "metadata": {},
   "source": [
    "- Input: [1,0,1,1,0]\n",
    "- Output: 4"
   ]
  },
  {
   "cell_type": "code",
   "execution_count": 31,
   "id": "163011eb",
   "metadata": {},
   "outputs": [],
   "source": [
    "class Solution:\n",
    "    def findMaxConsecutiveOnes(self, nums) -> int:\n",
    "        ans = 0\n",
    "        last_zero_index = -1\n",
    "        l = 0\n",
    "        \n",
    "        for r, num in enumerate(nums):\n",
    "            if num == 0:\n",
    "                l = last_zero_index + 1\n",
    "                last_zero_index = r\n",
    "            ans = max(ans, r - l + 1)\n",
    "\n",
    "        return ans"
   ]
  },
  {
   "cell_type": "markdown",
   "id": "1ce9f590",
   "metadata": {},
   "source": [
    "### 20. Maximize Distance to Closest Person"
   ]
  },
  {
   "cell_type": "markdown",
   "id": "accd7100",
   "metadata": {},
   "source": [
    "- Вам дан массив, представляющий ряд мест, где seat[i] = 1 представляет человека, сидящего на i-м месте, а seat[i] = 0 означает, что i-е место пусто (индексировано 0).\n",
    "\n",
    "- Есть по крайней мере одно свободное место и по крайней мере один сидящий человек.\n",
    "\n",
    "Алекс хочет сесть на сиденье так, чтобы расстояние между ним и ближайшим к нему человеком было максимальным. Верните это максимальное расстояние ближайшему человеку."
   ]
  },
  {
   "cell_type": "markdown",
   "id": "da66423a",
   "metadata": {},
   "source": [
    "- Input: seats = [1,0,0,0,1,0,1]\n",
    "- Output: 2"
   ]
  },
  {
   "cell_type": "markdown",
   "id": "f05d60e4",
   "metadata": {},
   "source": [
    "**Пояснение**\n",
    "\n",
    "- Если Алекс сидит на втором свободном месте (т. е. на месте[2]), то расстояние до ближайшего человека равно 2.\n",
    "- Если Алекс сидит на любом другом свободном месте, расстояние до ближайшего человека равно 1.\n",
    "\n",
    "Таким образом, максимальное расстояние до ближайшего человека равно 2."
   ]
  },
  {
   "cell_type": "code",
   "execution_count": 33,
   "id": "80f9e692",
   "metadata": {},
   "outputs": [],
   "source": [
    "# Time O(n); Space O(1)\n",
    "\n",
    "# last - указатель последнего сидящего места\n",
    "\n",
    "class Solution:\n",
    "    def maxDistToClosest(self, seats) -> int:\n",
    "        res, last, n = 0, -1, len(seats)\n",
    "        for i in range(n):\n",
    "            if seats[i]:\n",
    "                res = max(res, i if last < 0 else (i - last) / 2)\n",
    "                last = i\n",
    "        return max(res, n - last - 1)"
   ]
  },
  {
   "cell_type": "markdown",
   "id": "660b90e4",
   "metadata": {},
   "source": [
    "### 21. Design Hit Counter"
   ]
  },
  {
   "cell_type": "markdown",
   "id": "6a2ea0cb",
   "metadata": {},
   "source": [
    "Разработайте счетчик посещений, который подсчитывает количество посещений, полученных за последние 5 минут."
   ]
  },
  {
   "cell_type": "code",
   "execution_count": 36,
   "id": "3a0e9faa",
   "metadata": {},
   "outputs": [],
   "source": [
    "# Решение через очередь\n",
    "\n",
    "class HitCounter:\n",
    "\n",
    "    #TC: O(1)\n",
    "    #SC: O(1)\n",
    "\n",
    "    def __init__(self):\n",
    "        \"\"\"\n",
    "        Initialize your data structure here.\n",
    "        \"\"\"\n",
    "        self.Q = collections.deque([])\n",
    "\n",
    "\n",
    "    def hit(self, timestamp: int) -> None:\n",
    "        \"\"\"\n",
    "        Record a hit.\n",
    "        @param timestamp - The current timestamp (in seconds granularity).\n",
    "        \"\"\"\n",
    "        self.Q.append(timestamp)\n",
    "\n",
    "    def getHits(self, timestamp: int) -> int:\n",
    "        \"\"\"\n",
    "        Return the number of hits in the past 5 minutes.\n",
    "        @param timestamp - The current timestamp (in seconds granularity).\n",
    "        \"\"\"\n",
    "        while(len(self.Q) > 0 and self.Q[0] <= timestamp - 300):\n",
    "            self.Q.popleft()\n",
    "        return len(self.Q)"
   ]
  },
  {
   "cell_type": "code",
   "execution_count": 37,
   "id": "84f04762",
   "metadata": {},
   "outputs": [],
   "source": [
    "# T: O(1)\n",
    "# S: O(1)\n",
    "\n",
    "class HitCounter:\n",
    "    def __init__(self):\n",
    "        self.timestamps = [0] * 300\n",
    "        self.hits = [0] * 300\n",
    "\n",
    "    def hit(self, timestamp: int) -> None:\n",
    "        i = timestamp % 300\n",
    "\n",
    "        if self.timestamps[i] == timestamp:\n",
    "            self.hits[i] += 1\n",
    "        else:\n",
    "            self.timestamps[i] = timestamp\n",
    "            self.hits[i] = 1  # Reset hit count to 1\n",
    "\n",
    "    def getHits(self, timestamp: int) -> int:\n",
    "        return sum(h for t, h in zip(self.timestamps, self.hits) if timestamp - t < 300)"
   ]
  },
  {
   "cell_type": "markdown",
   "id": "fbfa69b8",
   "metadata": {},
   "source": [
    "### 22. Merge Intervals"
   ]
  },
  {
   "cell_type": "markdown",
   "id": "f825c06d",
   "metadata": {},
   "source": [
    "- Input: intervals = [[1,3],[2,6],[8,10],[15,18]]\n",
    "- Output: [[1,6],[8,10],[15,18]]"
   ]
  },
  {
   "cell_type": "markdown",
   "id": "541e0e7f",
   "metadata": {},
   "source": [
    "1 способ"
   ]
  },
  {
   "cell_type": "code",
   "execution_count": 34,
   "id": "a6b77892",
   "metadata": {},
   "outputs": [],
   "source": [
    "class Solution:\n",
    "    # Time: O(nlogn) / Space: O(1)\n",
    "    def merge(self, arr):\n",
    "        arr.sort(key = lambda x: x[0])\n",
    "        m = []\n",
    "        \n",
    "        s = -10000\n",
    "        max = -100000\n",
    "        \n",
    "        for i in range(len(arr)):\n",
    "            a = arr[i]\n",
    "            if a[0] > max:\n",
    "                if i != 0:\n",
    "                    m.append([s,max])\n",
    "                max = a[1]\n",
    "                s = a[0]\n",
    "            else:\n",
    "                if a[1] >= max:\n",
    "                    max = a[1]\n",
    "                    \n",
    "        if max != -100000 and [s, max] not in m:\n",
    "            m.append([s, max])\n",
    "\n",
    "        return m"
   ]
  },
  {
   "cell_type": "markdown",
   "id": "5ac7fac4",
   "metadata": {},
   "source": [
    "2 способ"
   ]
  },
  {
   "cell_type": "code",
   "execution_count": null,
   "id": "50d6ee42",
   "metadata": {},
   "outputs": [],
   "source": [
    "class Solution:\n",
    "    def merge(self, intervals: List[List[int]]) -> List[List[int]]:\n",
    "\n",
    "        intervals.sort(key=lambda x: x[0])\n",
    "\n",
    "        merged = []\n",
    "        for interval in intervals:\n",
    "            # если список объединенных интервалов пуст или текущий\n",
    "            # интервал не пересекается с предыдущим, просто добавляем его.\n",
    "            if not merged or merged[-1][1] < interval[0]:\n",
    "                merged.append(interval)\n",
    "            else:\n",
    "            # в противном случае происходит перекрытие, поэтому мы объединяем \n",
    "            # текущий и предыдущий интервалы.\n",
    "                merged[-1][1] = max(merged[-1][1], interval[1])\n",
    "\n",
    "        return merged"
   ]
  },
  {
   "cell_type": "markdown",
   "id": "1c8f7187",
   "metadata": {},
   "source": [
    "- Временная сложность: O(nlog⁡n)\n",
    "\n",
    "Помимо вызова сортировки, мы выполняем простое линейное сканирование списка, поэтому во время выполнения преобладает сложность сортировки O(nlog⁡n).\n",
    "\n",
    "- Пространственная сложность: O(log⁡N) (или O(n))\n",
    "\n",
    "Если мы можем сортировать интервалы на месте, нам не потребуется больше, чем постоянное дополнительное пространство, хотя сама сортировка занимает O(log⁡n) пространства. В противном случае мы должны выделить линейное пространство для хранения копии интервалов и отсортировать ее."
   ]
  },
  {
   "cell_type": "markdown",
   "id": "94da7d25",
   "metadata": {},
   "source": [
    "### 23. Trapping Rain Water"
   ]
  },
  {
   "cell_type": "markdown",
   "id": "68aeca78",
   "metadata": {},
   "source": [
    "Имея n неотрицательных целых чисел, представляющих карту высот, где ширина \n",
    "каждой полосы равна 1, вычислите, сколько воды она может собрать после дождя."
   ]
  },
  {
   "cell_type": "code",
   "execution_count": null,
   "id": "dc30fbd4",
   "metadata": {},
   "outputs": [],
   "source": [
    "\n",
    "       |\n",
    "   |   || |\n",
    "_|_||_||||||"
   ]
  },
  {
   "cell_type": "markdown",
   "id": "af47d80a",
   "metadata": {},
   "source": [
    "- Input: height = [0,1,0,2,1,0,1,3,2,1,2,1]\n",
    "- Output: 6\n",
    "- Explanation: The above elevation map (black section) is represented by array [0,1,0,2,1,0,1,3,2,1,2,1]. In this case, 6 units of rain water (blue section) are being trapped."
   ]
  },
  {
   "cell_type": "code",
   "execution_count": 35,
   "id": "de68151a",
   "metadata": {},
   "outputs": [],
   "source": [
    "class Solution:\n",
    "    def trap(self, height: List[int]) -> int:\n",
    "        left = 0\n",
    "        right = len(height) - 1\n",
    "        ans = 0\n",
    "        left_max = 0\n",
    "        right_max = 0\n",
    "        \n",
    "        while (left < right):\n",
    "            if height[left] < height[right]:\n",
    "                if height[left] >= left_max:\n",
    "                    left_max = height[left]\n",
    "                else:\n",
    "                    ans += (left_max - height[left])\n",
    "                left += 1\n",
    "            else:\n",
    "                if height[right] >= right_max:\n",
    "                    right_max = height[right]\n",
    "                else:\n",
    "                    ans += (right_max - height[right])\n",
    "                right -= 1\n",
    "        return ans"
   ]
  },
  {
   "cell_type": "markdown",
   "id": "4b95ae2e",
   "metadata": {},
   "source": [
    "### 24. Two Sum"
   ]
  },
  {
   "cell_type": "markdown",
   "id": "336c8ed3",
   "metadata": {},
   "source": [
    "- Дан массив целых чисел nums и целочисленную цель, вернуть индексы двух чисел так, чтобы они складывались в цель.\n",
    "\n",
    "- Вы можете предположить, что каждый вход будет иметь ровно одно решение, и вы не можете использовать один и тот же элемент дважды.\n",
    "\n",
    "- Вы можете вернуть ответ в любом порядке."
   ]
  },
  {
   "cell_type": "markdown",
   "id": "be767e16",
   "metadata": {},
   "source": [
    "- Input: nums = [2,7,11,15], target = 9\n",
    "- Output: [0,1]\n",
    "- Explanation: Because nums[0] + nums[1] == 9, we return [0, 1]."
   ]
  },
  {
   "cell_type": "code",
   "execution_count": 40,
   "id": "f68b5026",
   "metadata": {},
   "outputs": [],
   "source": [
    "# Time O(n); Space O(n)\n",
    "\n",
    "class Solution:\n",
    "    def twoSum(self, nums, target):\n",
    "        hashmap = {}\n",
    "        \n",
    "        for i in range(len(nums)):\n",
    "            tmp = target - nums[i]\n",
    "            \n",
    "            if tmp in hashmap:\n",
    "                return [i, hashmap[tmp]]\n",
    "            hashmap[nums[i]] = i"
   ]
  },
  {
   "cell_type": "markdown",
   "id": "5012a412",
   "metadata": {},
   "source": [
    "### 25. Meeting rooms ii"
   ]
  },
  {
   "cell_type": "markdown",
   "id": "29f06815",
   "metadata": {},
   "source": [
    "Дан массив интервалов времени проведения собраний, где intervals[i] = [start_i, end_i], возвращает минимальное количество требуемых конференц-залов."
   ]
  },
  {
   "cell_type": "markdown",
   "id": "f0185fde",
   "metadata": {},
   "source": [
    "- Input: [[0, 30], [5, 10], [15, 20]]\n",
    "- Output: 2"
   ]
  },
  {
   "cell_type": "markdown",
   "id": "8eacc908",
   "metadata": {},
   "source": [
    "- Input: [[7,10], [2,4]]\n",
    "- Output: 1"
   ]
  },
  {
   "cell_type": "code",
   "execution_count": 42,
   "id": "343b426c",
   "metadata": {},
   "outputs": [],
   "source": [
    "# Time: O(nlogn)\n",
    "# Space: O(N)\n",
    "\n",
    "class Solution:\n",
    "    def minMeetingRooms(self, intervals) -> int:\n",
    "        n = len(intervals)\n",
    "        ans = 0\n",
    "        starts = []\n",
    "        ends = []\n",
    "\n",
    "        for start, end in intervals:\n",
    "            starts.append(start)\n",
    "            ends.append(end)\n",
    "\n",
    "        starts.sort()\n",
    "        ends.sort()\n",
    "\n",
    "        j = 0\n",
    "        for i in range(n):\n",
    "            if starts[i] < ends[j]:\n",
    "                ans += 1\n",
    "            else:\n",
    "                j += 1\n",
    "\n",
    "        return ans"
   ]
  },
  {
   "cell_type": "markdown",
   "id": "92b433b2",
   "metadata": {},
   "source": [
    "### 26. Find All Anagrams in a string"
   ]
  },
  {
   "cell_type": "markdown",
   "id": "a2e0f02b",
   "metadata": {},
   "source": [
    "Имея две строки s и p, вернуть массив всех начальных индексов анаграмм p в s. Вы можете вернуть ответ в любом порядке.\n",
    "\n",
    "Анаграмма — это слово или фраза, образованная путем перестановки букв другого слова или фразы, обычно с использованием всех исходных букв ровно один раз."
   ]
  },
  {
   "cell_type": "markdown",
   "id": "3276097b",
   "metadata": {},
   "source": [
    "Алгоритм:\n",
    "- Пусть res представляет список результатов, который мы хотим вернуть. Изначально res пустой.\n",
    "- Если len(p) >= len(s), то мы можем вернуть [], так как не может быть анаграммы слова s в слове p\n",
    "- Поскольку слова написаны строчными буквами английского алфавита, как указано в условии задачи, мы можем использовать список для заполнения частотного массива для обоих слов.\n",
    "- Во-первых, выполните итерацию по слову p и заполните массив частот для p\n",
    "- Возьмите скользящее окно len(p) и проведите по массиву s. Обновить список частот для слова s для каждого окна\n",
    "- Для i==0 нам нужно заполнить все элементы в скользящем окне и уменьшить счетчик первого символа скользящего окна и закончить итерацию.\n",
    "- Для случаев i > 0 нам нужно увеличить последний символ скользящего окна и начало итерации и уменьшить первый символ скользящего окна и конец итерации\n",
    "- Если оба списка одинаковы, добавьте индекс в список результатов.\n",
    "- Вернуть список результатов."
   ]
  },
  {
   "cell_type": "code",
   "execution_count": 40,
   "id": "4eaa12ed",
   "metadata": {},
   "outputs": [],
   "source": [
    "class Solution:\n",
    "    def findAnagrams(self, s: str, p: str) -> List[int]:\n",
    "        res, charP, charS = [], [0]*26, [0]*26\n",
    "        \n",
    "        if len(p) > len(s):\n",
    "            return res\n",
    "        \n",
    "        for c in p:  # подсчет частоты второго слова\n",
    "            charP[ord(c)-ord('a')] += 1\n",
    "        \n",
    "        for i in range(0, len(s) - len(p) + 1):\n",
    "            \n",
    "            if i == 0:\n",
    "                for j in range(i, i+len(p)):\n",
    "                    charS[ord(s[j]) - ord('a')] += 1       \n",
    "            else:\n",
    "                charS[ord(s[i+len(p) - 1]) - ord('a')] += 1\n",
    "                \n",
    "            if charS == charP:\n",
    "                res.append(i)\n",
    "            \n",
    "            charS[ord(s[i]) - ord('a')] -= 1\n",
    "            \n",
    "        return res"
   ]
  },
  {
   "cell_type": "markdown",
   "id": "aa713350",
   "metadata": {},
   "source": [
    "### 27. Implement Rand10() using Rand7()"
   ]
  },
  {
   "cell_type": "code",
   "execution_count": 41,
   "id": "495ff7d7",
   "metadata": {},
   "outputs": [],
   "source": [
    "class Solution:\n",
    "    def rand10(self):\n",
    "        v1, v2 = rand7(), rand7()\n",
    "        while v1 > 5:\n",
    "            v1 = rand7()\n",
    "        while v2 == 7:\n",
    "            v2 = rand7()\n",
    "        return v1 if (v2 <= 3) else (v1 + 5)"
   ]
  },
  {
   "cell_type": "markdown",
   "id": "0b958420",
   "metadata": {},
   "source": [
    "### 28. Check symmetric tree"
   ]
  },
  {
   "cell_type": "code",
   "execution_count": 43,
   "id": "24036f1e",
   "metadata": {},
   "outputs": [],
   "source": [
    "# Time Complexity: O(N)\n",
    "# Auxiliary Space: O(h) where h is the maximum height of the tree\n",
    "\n",
    "class TreeNode:\n",
    "    def __init__(self, val=0, left=None, right=None):\n",
    "        self.val = val\n",
    "        self.left = left\n",
    "        self.right = right\n",
    "        \n",
    "class Solution:\n",
    "    def isSymmetric(self, root: Optional[TreeNode]) -> bool:\n",
    "        if not root:\n",
    "            return True\n",
    "        return self.check_leftright(root.left,root.right)\n",
    "\n",
    "    def check_leftright(self, node1, node2):\n",
    "        if not node1 and not node2:\n",
    "            return True\n",
    "        \n",
    "        elif node1 and node2 and  node1.val == node2.val:\n",
    "            return self.check_leftright(node1.left,node2.right) and self.check_leftright(node1.right,node2.left)\n",
    "        \n",
    "        else:\n",
    "            return False"
   ]
  },
  {
   "cell_type": "markdown",
   "id": "9a843a91",
   "metadata": {},
   "source": [
    "### 29. Longest substring without repeating characters"
   ]
  },
  {
   "cell_type": "code",
   "execution_count": 46,
   "id": "109673e4",
   "metadata": {},
   "outputs": [],
   "source": [
    "# Time O(n)\n",
    "# Space O(m), m - мощность множества входных символов\n",
    "\n",
    "class Solution:\n",
    "    def lengthOfLongestSubstring(self, s: str) -> int:\n",
    "        seen = {}\n",
    "        l = 0\n",
    "        output = 0\n",
    "        for r in range(len(s)):\n",
    "            # Если s[r] не в seen, мы можем продолжать увеличивать размер окна, перемещая указатель вправо\n",
    "            if s[r] not in seen:\n",
    "                output = max(output, r-l+1)\n",
    "            else:\n",
    "                if seen[s[r]] < l:\n",
    "                    # s[r] не находится внутри текущего окна, \n",
    "                    # мы можем продолжать увеличивать окно\n",
    "                    output = max(output,r-l+1)\n",
    "                else:\n",
    "                    # s[r] находится внутри текущего окна, нам нужно изменить окно, \n",
    "                    #     переместив левый указатель на seen[s[r]] + 1.\n",
    "                    l = seen[s[r]] + 1\n",
    "            seen[s[r]] = r\n",
    "        return output"
   ]
  },
  {
   "cell_type": "markdown",
   "id": "9729799f",
   "metadata": {},
   "source": [
    "### 30. Validate Binary Tree"
   ]
  },
  {
   "cell_type": "code",
   "execution_count": 47,
   "id": "bb0cb724",
   "metadata": {},
   "outputs": [],
   "source": [
    "# Time O(n)\n",
    "# Space O(n)\n",
    "\n",
    "class Solution:\n",
    "    def isValidBST(self, root: TreeNode) -> bool:\n",
    "\n",
    "        def validate(node, low=-math.inf, high=math.inf):\n",
    "            # Empty trees are valid BSTs.\n",
    "            if not node:\n",
    "                return True\n",
    "            # The current node's value must be between low and high.\n",
    "            if node.val <= low or node.val >= high:\n",
    "                return False\n",
    "\n",
    "            # The left and right subtree must also be valid.\n",
    "            return (validate(node.right, node.val, high) and\n",
    "                   validate(node.left, low, node.val))\n",
    "\n",
    "        return validate(root)"
   ]
  },
  {
   "cell_type": "code",
   "execution_count": 49,
   "id": "36d0f77e",
   "metadata": {},
   "outputs": [],
   "source": [
    "# Time O(n)\n",
    "# Space O(n)\n",
    "\n",
    "class Solution:\n",
    "    def isValidBST(self, root: TreeNode) -> bool:\n",
    "        stack, prev = [], -math.inf\n",
    "\n",
    "        while stack or root:\n",
    "            while root:\n",
    "                stack.append(root)\n",
    "                root = root.left\n",
    "            root = stack.pop()\n",
    "            # Если следующий элемент в порядке обхода\n",
    "            # меньше предыдущего\n",
    "            # это не BST.\n",
    "            if root.val <= prev:\n",
    "                return False\n",
    "            prev = root.val\n",
    "            root = root.right\n",
    "\n",
    "        return True"
   ]
  },
  {
   "cell_type": "markdown",
   "id": "faa1e397",
   "metadata": {},
   "source": [
    "### 31. Num of islands"
   ]
  },
  {
   "cell_type": "markdown",
   "id": "e280c8e0",
   "metadata": {},
   "source": [
    "Максимум m*n рекурсивных вызовов будет открыто в один момент времени, и вызовы не будут повторяться, потому что каждая ячейка помечается нулем после ее проверки."
   ]
  },
  {
   "cell_type": "code",
   "execution_count": 52,
   "id": "4966a159",
   "metadata": {},
   "outputs": [],
   "source": [
    "# Time O(m*n), Space O(m*n)\n",
    "\n",
    "def numIslands(self, grid):\n",
    "    if not grid:\n",
    "        return 0\n",
    "        \n",
    "    count = 0\n",
    "    for i in range(len(grid)):\n",
    "        for j in range(len(grid[0])):\n",
    "            if grid[i][j] == '1':\n",
    "                self.dfs(grid, i, j)\n",
    "                count += 1\n",
    "    return count\n",
    "\n",
    "def dfs(self, grid, i, j):\n",
    "    if i<0 or j<0 or i>=len(grid) or j>=len(grid[0]) or grid[i][j] != '1':\n",
    "        return"
   ]
  },
  {
   "cell_type": "markdown",
   "id": "ecb27bea",
   "metadata": {},
   "source": [
    "### 32. Flatten Nested List Iterator"
   ]
  },
  {
   "cell_type": "markdown",
   "id": "d05e2cc6",
   "metadata": {},
   "source": [
    "Вам дан вложенный список целых чисел nestedList. Каждый элемент является либо целым числом, либо списком, элементы которого также могут быть целыми числами или другими списками. Реализуйте итератор, чтобы сгладить его."
   ]
  },
  {
   "cell_type": "code",
   "execution_count": 53,
   "id": "59a08392",
   "metadata": {},
   "outputs": [],
   "source": [
    "class NestedIterator:\n",
    "    def __init__(self, nestedList):\n",
    "        self.stack = [[nestedList, 0]]\n",
    "\n",
    "    def next(self):\n",
    "        self.hasNext()\n",
    "        nestedList, i = self.stack[-1]\n",
    "        self.stack[-1][1] += 1\n",
    "        return nestedList[i].getInteger()\n",
    "            \n",
    "    def hasNext(self):\n",
    "        s = self.stack\n",
    "        while s:\n",
    "            nestedList, i = s[-1]\n",
    "            if i == len(nestedList):\n",
    "                s.pop()\n",
    "            else:\n",
    "                x = nestedList[i]\n",
    "                if x.isInteger():\n",
    "                    return True\n",
    "                s[-1][1] += 1\n",
    "                s.append([x.getList(), 0])\n",
    "        return False"
   ]
  },
  {
   "cell_type": "markdown",
   "id": "2a829e84",
   "metadata": {},
   "source": [
    "### 33. Consecutive Characters"
   ]
  },
  {
   "cell_type": "markdown",
   "id": "bf193726",
   "metadata": {},
   "source": [
    "Мощность строки — это максимальная длина непустой подстроки, содержащей только один уникальный символ.\n",
    "Учитывая строку s, вернуть мощность s."
   ]
  },
  {
   "cell_type": "code",
   "execution_count": 56,
   "id": "77340ae5",
   "metadata": {},
   "outputs": [],
   "source": [
    "# Time O(N)\n",
    "# Space O(1)\n",
    "\n",
    "class Solution:\n",
    "    def maxPower(self, s: str) -> int:\n",
    "        count = 0\n",
    "        max_count = 0\n",
    "        previous = None\n",
    "        for c in s:\n",
    "            if c == previous:\n",
    "                # if same as previous one, increase the count\n",
    "                count += 1\n",
    "            else:\n",
    "                # else, reset the count\n",
    "                previous = c\n",
    "                count = 1\n",
    "            max_count = max(max_count, count)\n",
    "        return max_count"
   ]
  },
  {
   "cell_type": "markdown",
   "id": "12a6f1bf",
   "metadata": {},
   "source": [
    "### 34. Interval List Intersections"
   ]
  },
  {
   "cell_type": "markdown",
   "id": "2a9e53af",
   "metadata": {},
   "source": [
    "Вам дано два списка закрытых интервалов, firstList и secondList, где firstList[i] = [starti, endi] и secondList[j] = [startj, endj]. Каждый список интервалов попарно не пересекается и отсортирован.\n",
    "\n",
    "Возвращает пересечение этих двух списков интервалов.\n",
    "\n",
    "Замкнутый интервал [a, b] (с a <= b) обозначает множество действительных чисел x с a <= x <= b.\n",
    "\n",
    "Пересечение двух закрытых интервалов представляет собой набор действительных чисел, которые либо пусты, либо представлены в виде замкнутого интервала. Например, пересечение [1, 3] и [2, 4] равно [2, 3]."
   ]
  },
  {
   "cell_type": "markdown",
   "id": "ba965ab0",
   "metadata": {},
   "source": [
    "- Input: firstList = [[0,2],[5,10],[13,23],[24,25]], secondList = [[1,5],[8,12],[15,24],[25,26]]\n",
    "- Output: [[1,2],[5,5],[8,10],[15,23],[24,24],[25,25]]"
   ]
  },
  {
   "cell_type": "code",
   "execution_count": 57,
   "id": "b966e68c",
   "metadata": {},
   "outputs": [],
   "source": [
    "# Временная сложность: O(M+N), где M,N — длины A и B соответственно.\n",
    "# Сложность по памяти: O(M+N)\n",
    "\n",
    "class Solution:\n",
    "    def intervalIntersection(self, A: List[List[int]], B: List[List[int]]) -> List[List[int]]:\n",
    "        ans = []\n",
    "        i = j = 0\n",
    "\n",
    "        while i < len(A) and j < len(B):\n",
    "            # Проверим, пересекается ли A[i] с B[j].\n",
    "            # lo - начальная точка пересечения\n",
    "            # hi - конечная точка перекрестка\n",
    "            lo = max(A[i][0], B[j][0])\n",
    "            hi = min(A[i][1], B[j][1])\n",
    "            if lo <= hi:\n",
    "                ans.append([lo, hi])\n",
    "\n",
    "            # Удалить интервал с наименьшей конечной точкой\n",
    "            if A[i][1] < B[j][1]:\n",
    "                i += 1\n",
    "            else:\n",
    "                j += 1\n",
    "\n",
    "        return ans"
   ]
  },
  {
   "cell_type": "code",
   "execution_count": null,
   "id": "2f861a47",
   "metadata": {},
   "outputs": [],
   "source": []
  }
 ],
 "metadata": {
  "kernelspec": {
   "display_name": "Python 3 (ipykernel)",
   "language": "python",
   "name": "python3"
  },
  "language_info": {
   "codemirror_mode": {
    "name": "ipython",
    "version": 3
   },
   "file_extension": ".py",
   "mimetype": "text/x-python",
   "name": "python",
   "nbconvert_exporter": "python",
   "pygments_lexer": "ipython3",
   "version": "3.7.5"
  }
 },
 "nbformat": 4,
 "nbformat_minor": 5
}
