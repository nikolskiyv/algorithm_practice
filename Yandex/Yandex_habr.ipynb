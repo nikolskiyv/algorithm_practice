{
 "cells": [
  {
   "cell_type": "code",
   "execution_count": 5,
   "id": "256176a9",
   "metadata": {},
   "outputs": [],
   "source": [
    "# Дана строка (возможно, пустая), состоящая из букв A-Z: AAAABBBCCXYZDDDDEEEFFFAAAAAABBBBBBBBBBBBBBBBBBBBBBBBBBBB\n",
    "# Нужно написать функцию RLE, которая на выходе даст строку вида: A4B3C2XYZD4E3F3A6B28 \n",
    "# И сгенерирует ошибку, если на вход пришла невалидная строка. \n",
    "# Пояснения: Если символ встречается 1 раз, он остается без изменений; Если символ повторяется более 1 раза, к нему добавляется количество повторений."
   ]
  },
  {
   "cell_type": "code",
   "execution_count": 6,
   "id": "5690165b",
   "metadata": {},
   "outputs": [],
   "source": [
    "def convert(s: str) -> str:\n",
    "    result = []\n",
    "    last_sym = None  # последний символ, что мы видели\n",
    "    count = 0  # и сколько мы его видели\n",
    "\n",
    "    # мы будем идти по строке и записывать в result при смене символа\n",
    "    for sym in (list(s) + [None]):  # последний None искусственно триггерит посленюю смену символа\n",
    "        if last_sym and sym != last_sym:  # если случилась смена символа\n",
    "            if count == 1:\n",
    "                result.append(last_sym)\n",
    "            else:\n",
    "                result.append(last_sym + str(count))\n",
    "            count = 1  # начнаем запоминать новый символ\n",
    "            last_sym = sym\n",
    "        else:  # символ просто повторился\n",
    "            count += 1  # ну ок, запомнили что символ видели на 1 раз больше\n",
    "\n",
    "    return ''.join(result)"
   ]
  },
  {
   "cell_type": "code",
   "execution_count": null,
   "id": "3ea24936",
   "metadata": {},
   "outputs": [],
   "source": []
  }
 ],
 "metadata": {
  "kernelspec": {
   "display_name": "Python 3 (ipykernel)",
   "language": "python",
   "name": "python3"
  },
  "language_info": {
   "codemirror_mode": {
    "name": "ipython",
    "version": 3
   },
   "file_extension": ".py",
   "mimetype": "text/x-python",
   "name": "python",
   "nbconvert_exporter": "python",
   "pygments_lexer": "ipython3",
   "version": "3.9.13"
  }
 },
 "nbformat": 4,
 "nbformat_minor": 5
}
