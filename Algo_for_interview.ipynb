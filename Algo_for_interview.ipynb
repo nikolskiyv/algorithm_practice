{
 "cells": [
  {
   "cell_type": "code",
   "execution_count": 138,
   "id": "28456def",
   "metadata": {},
   "outputs": [],
   "source": [
    "#Задача1. Дана строка (возможно пустая), состоящая из букв A-Z:\n",
    "#Написать функцию RLE AAAABBBBCCCCAAFFFFAC -> A4B4C4A2F4AC Если строка не валидна, то ошибка.\n",
    "\n",
    "def rle(s):\n",
    "    \n",
    "    def pack(s,cnt):\n",
    "        if cnt>1:\n",
    "            return s + str(cnt)\n",
    "        else:\n",
    "            return s\n",
    "        \n",
    "    if len(s)==0:\n",
    "        return ''   \n",
    "    if (ord('A') <= ord(s[0]) <= ord('Z')) == False:\n",
    "        raise Exception\n",
    "    lastsym = s[0]\n",
    "    lastpos = 0\n",
    "    ans = []\n",
    "    for i in range(len(s)):\n",
    "        if (ord('A') <= ord(s[i]) <= ord('Z')):\n",
    "            if s[i] != lastsym:\n",
    "                ans.append(pack(lastsym,i-lastpos))\n",
    "                lastsym = s[i]\n",
    "                lastpos = i\n",
    "        else:\n",
    "            raise Exception\n",
    "    ans.append(pack(lastsym, len(s) - lastpos))\n",
    "    return ''.join(ans)"
   ]
  },
  {
   "cell_type": "code",
   "execution_count": 139,
   "id": "5e7cae16",
   "metadata": {},
   "outputs": [],
   "source": [
    "#Задача2.  Нужно вывести длину максимальной подпоследовательности из \"1\" при условии,\n",
    "#что какой-то нолик можно удалить.\n",
    "\n",
    "def max_len_of_ones(arr):\n",
    "    length = 0\n",
    "    max_length = 0\n",
    "    mode = False\n",
    "    for i in range(len(arr)):\n",
    "        if arr[i] == 0:\n",
    "            if mode:\n",
    "                if length > max_length:\n",
    "                    max_length = length\n",
    "                i = lastzeroindex\n",
    "                length = 0\n",
    "                mode = False\n",
    "            else:\n",
    "                lastzeroindex = i\n",
    "                mode = True\n",
    "        else:\n",
    "            length += 1\n",
    "\n",
    "    if length > max_length:\n",
    "        max_length = length\n",
    "    return max_length"
   ]
  },
  {
   "cell_type": "code",
   "execution_count": 97,
   "id": "3cafd8fa",
   "metadata": {},
   "outputs": [],
   "source": [
    "#Задача3. Даны два вектора, нужно из первого удалить элементы, которые есть во втором ,\n",
    "#дополнительно ничего не создавать\n",
    "\n",
    "def func_del(arr1,arr2):\n",
    "    arr2 = set(arr2)\n",
    "    for i in range(0,len(arr1)):\n",
    "        if arr1[i] in arr2:\n",
    "            arr1[i] = 'del'\n",
    "    arr2 = []\n",
    "    for i in arr1:\n",
    "        if i != 'del':\n",
    "            arr2.append(i)\n",
    "    return arr2"
   ]
  },
  {
   "cell_type": "code",
   "execution_count": 137,
   "id": "691bad0b",
   "metadata": {},
   "outputs": [],
   "source": [
    "#Задача4. Функция принимает вектор из точек (X,Y) нужно понять\n",
    "#можем ли мы построить вертикальную прямую симметрично разбивающее множество точек, с учетом повторений.\n",
    "\n",
    "def check_sim(arr_points):\n",
    "    points = set()\n",
    "    max_point = arr_points[0]\n",
    "    min_point = arr_points[0]\n",
    "    for i in arr_points:\n",
    "        points.add(i)\n",
    "        if i[0] >= max_point[0]:\n",
    "            if i[0] == max_point[0] and i[1] > max_point[1]:\n",
    "                max_point = i\n",
    "            else:\n",
    "                if i[0] > max_point[0]:\n",
    "                    max_point = i\n",
    "        if i[0] <= min_point[0]:\n",
    "            if i[0] == min_point[0] and i[1] < min_point[1]:\n",
    "                min_point = i\n",
    "            else:\n",
    "                if i[0] < min_point[0]:\n",
    "                    min_point = i\n",
    "    c = (min_point[0] + max_point[0],min_point[1] + max_point[1])\n",
    "    for i in arr_points:\n",
    "        if (c[0]-i[0],c[1]-i[1]) not in points:\n",
    "            return False\n",
    "    return True"
   ]
  },
  {
   "cell_type": "code",
   "execution_count": 1,
   "id": "77f0d18c",
   "metadata": {},
   "outputs": [
    {
     "data": {
      "text/plain": [
       "(1, 2)"
      ]
     },
     "execution_count": 1,
     "metadata": {},
     "output_type": "execute_result"
    }
   ],
   "source": [
    "#Задача5. Дан целочисленный массив из n элементов.\n",
    "#Найти непустой подотрезок с наименьшей по модулю суммой. O(nlogn)\n",
    "\n",
    "\n",
    "def makeprefixsum(nums):\n",
    "    prefix = []\n",
    "    prefix.append((0,-1))\n",
    "    for i in range(1,len(nums) + 1):\n",
    "        elem = (abs(prefix[i-1][0] + nums[i-1]),i-1)\n",
    "        prefix.append(elem)\n",
    "    return prefix\n",
    "\n",
    "#def rsq(prefixsum,l,r): Это вроде не нужно в этой задачи\n",
    "#   return prefixsum[r] - prefixsum[l]\n",
    "\n",
    "\n",
    "def find_min_abs_sum(arr):\n",
    "    prefix = sorted(makeprefixsum(arr))\n",
    "    min_diff = abs(arr[0] + arr[1])\n",
    "    start = 0\n",
    "    end = len(arr)\n",
    "    for i in range(1,len(arr)+1):\n",
    "        diff = prefix[i][0] - prefix[i-1][0]\n",
    "        if diff<min_diff:\n",
    "            min_diff = diff\n",
    "            start = prefix[i-1][1]\n",
    "            end = prefix[i][1]\n",
    "    return start + 1, end\n",
    "    \n",
    "find_min_abs_sum([10,-2,3,6,10])"
   ]
  },
  {
   "cell_type": "code",
   "execution_count": 161,
   "id": "a430a502",
   "metadata": {},
   "outputs": [],
   "source": [
    "#Задача6. есть дерево(содержит указатель на отца и на двух сыновей).\n",
    "#Нужно описать node * func(node *a, node *b), которая возвращает ближайшего общего отца(предка)\n",
    "class Node:\n",
    "    def _init_(self,value=None,left=None,right=None):\n",
    "        self.value = value\n",
    "        self.left = left\n",
    "        self.right = right\n",
    "    \n",
    "def lca(root,n1,n2):\n",
    "    if root == None:\n",
    "        return None\n",
    "    if root.value > n1 and root.value > n2:\n",
    "        lca(root.left,n1,n2)\n",
    "    if root.value < n1 and root.value < n2:\n",
    "        lca(root.right,n1,n2)\n",
    "    return root\n",
    "\n",
    "########################################################################\n",
    "class Tree:\n",
    "    def _init_(self,value=None, father = None, left = None, right = None):\n",
    "        self.value = value\n",
    "        self.father = father\n",
    "        self.left = left\n",
    "        self.right = right"
   ]
  },
  {
   "cell_type": "code",
   "execution_count": 179,
   "id": "0a8aa7eb",
   "metadata": {},
   "outputs": [
    {
     "data": {
      "text/plain": [
       "2"
      ]
     },
     "execution_count": 179,
     "metadata": {},
     "output_type": "execute_result"
    }
   ],
   "source": [
    "#Задача7. Дана квадратная матрица NxN, заполненная нулями и единицами таким образом,\n",
    "#что в каждой строке все нули располагаются левее всех единиц\n",
    "#(возможны строки, состоящие полностью из нулей или полностью из единиц).\n",
    "#Требуется определить номер первой колонки, в которой есть хоть одна единица.\n",
    "\n",
    "\n",
    "def check(matrix):\n",
    "    left = 0\n",
    "    right = len(matrix[0]) - 1\n",
    "    mid = (left+right)//2\n",
    "    for i in matrix:\n",
    "        while(left<right):\n",
    "            if i[mid] == 1:\n",
    "                right = mid\n",
    "            else:\n",
    "                left = mid + 1\n",
    "            mid = (left+right)//2\n",
    "        right = left\n",
    "        left = 0\n",
    "        mid = (left+right)//2\n",
    "    return right\n",
    "\n",
    "check([[0,0,1],[0,0,1],[0,0,1]])\n",
    "\n",
    "\n",
    "###########################################\n",
    "def lbinsearch():\n",
    "    while l<r:\n",
    "        m = (l+r)//2\n",
    "        if check(m):\n",
    "            r = m\n",
    "        else:\n",
    "            l = m + 1\n",
    "    return l\n",
    "############################\n",
    "def rbinsearch():\n",
    "    while l<r:\n",
    "        m = (l+r+1)//2\n",
    "        if check(m):\n",
    "            l = m\n",
    "        else:\n",
    "            r = m - 1\n",
    "    return l"
   ]
  },
  {
   "cell_type": "code",
   "execution_count": null,
   "id": "e27696f0",
   "metadata": {},
   "outputs": [],
   "source": [
    "#Задача8.Реализовать функцию, проверяющую,\n",
    "#можно ли одну строку получить из другой не более, чем за одно исправление (удаление, добавление, изменение символа)\n",
    "# def one_edit_apart(s1: str, s2: str) -> bool\n",
    "\n",
    "def one_edit_apart(s1: str, s2: str) -> bool:\n",
    " \n",
    "    if s1 == s2: return True\n",
    "    len_1 = len(s1)\n",
    "    len_2 = len(s2)\n",
    "    if len_2 == len_1:\n",
    "        flag = 0\n",
    "        for i in range(len_1):\n",
    "            if s1[i] != s2[i]:\n",
    "                if flag == 1: return False\n",
    "                else: flag = 1\n",
    "        return True\n",
    " \n",
    "    if abs(len_1 - len_2) == 1:\n",
    "        if len_1 < len_2:\n",
    "            len_1, len_2 = len_2, len_1\n",
    "            s1, s2 = s2, s1\n",
    "        i = 0\n",
    "        flag = 0\n",
    "        while i < len_1 - 1:\n",
    "            if s1[i + flag] != s2[i]:\n",
    "                if flag == 1:  return False\n",
    "                else: \n",
    "                    flag = 1\n",
    "                    continue\n",
    "            i += 1\n",
    "        return True\n",
    "    else: return False"
   ]
  },
  {
   "cell_type": "code",
   "execution_count": 184,
   "id": "fbe41e10",
   "metadata": {},
   "outputs": [
    {
     "data": {
      "text/plain": [
       "'fdsg%20gfdgf%20dfdsg%20sfd%20'"
      ]
     },
     "execution_count": 184,
     "metadata": {},
     "output_type": "execute_result"
    }
   ],
   "source": [
    "#Задача9.Дана строка, заменить в ней все пробелы на %20\n",
    "\n",
    "def func(s):\n",
    "    s1 = ''\n",
    "    for i in range(len(s)):\n",
    "        if s[i] == ' ':\n",
    "            s1 += '%20'\n",
    "        else:\n",
    "            s1 += s[i]\n",
    "    return s1\n",
    "\n",
    "func('fdsg gfdgf dfdsg sfd')\n",
    "            "
   ]
  },
  {
   "cell_type": "code",
   "execution_count": 185,
   "id": "81da1483",
   "metadata": {},
   "outputs": [],
   "source": [
    "#Задача10. Найти в тексте подстроку, что она совпадает с точностью до перестановки букв(анаграмма)\n",
    "\n",
    "def find_substr(line : str, pattern : str):\n",
    "    dict1 = {}\n",
    "    dict2 = {}\n",
    "    for c in pattern:\n",
    "        if (dict1.get(c) != None):\n",
    "            dict1[c] += 1\n",
    "        else:\n",
    "            dict1[c] = 1\n",
    "    print(dict1)\n",
    "    start = 0\n",
    "    stop = len(pattern)\n",
    "    for i in range(start,stop):\n",
    "        if dict2.get(line[i]) != None:\n",
    "            dict2[line[i]] += 1\n",
    "        else:\n",
    "            dict2[line[i]] = 1\n",
    "    while (stop < len(line)-1):\n",
    "        print(dict2)\n",
    "        if dict2 == dict1:\n",
    "            return start,stop-1\n",
    "        else:\n",
    "            if dict2[line[start]] == 1:\n",
    "                del dict2[line[start]]\n",
    "            else:\n",
    "                dict2[line[start]] -= 1\n",
    "            start += 1\n",
    "            stop +=1\n",
    "            if dict2.get(line[stop-1]) != None:\n",
    "                dict2[line[stop-1]] += 1\n",
    "            else:\n",
    "                dict2[line[stop-1]] = 1\n",
    "    return False"
   ]
  },
  {
   "cell_type": "code",
   "execution_count": 186,
   "id": "9df10253",
   "metadata": {},
   "outputs": [],
   "source": [
    "#Задача11. Симметричное ли дерево ? \n",
    "\n",
    "class Tree:\n",
    "\n",
    "    def _init_(self,value=None,left=None,right=None):\n",
    "        self.value = value\n",
    "        self.left = left\n",
    "        self.right = right\n",
    "        \n",
    "def check_sym(l,r):\n",
    "    if l==None and r==None:\n",
    "        return True\n",
    "    if l != None and r != None and l.value == r.value:\n",
    "        return check_sym(l.left,r.right)\n",
    "    else:\n",
    "        return False"
   ]
  },
  {
   "cell_type": "code",
   "execution_count": null,
   "id": "b661f2e3",
   "metadata": {},
   "outputs": [],
   "source": [
    "#Задача12. Парсинг смайлов.\n",
    "\n",
    "def del_smile(s):\n",
    "    while i < len(s):\n",
    "        if s[i-1] == ':' and (s[i] == ')':\n",
    "            start = i-1\n",
    "            \n",
    "            while(s[i] == ')'):\n",
    "                "
   ]
  },
  {
   "cell_type": "markdown",
   "id": "3324ae61",
   "metadata": {},
   "source": [
    "Вашей программе будет дана последовательность чисел. Требуется определить, какое минимальное количество и каких чисел надо приписать в конец этой последовательности, чтобы она стала симметричной. (Задача F в тренировках яндекс алгоритмы)\n",
    "Решение основано на алгоритме КМП, посчитаем массив из префикс функций."
   ]
  },
  {
   "cell_type": "code",
   "execution_count": 24,
   "id": "c06a6607",
   "metadata": {},
   "outputs": [
    {
     "name": "stdout",
     "output_type": "stream",
     "text": [
      "[0, 0, 1, 2, 3, 4]\n"
     ]
    }
   ],
   "source": [
    "def prefix(s):\n",
    "    p = [0]*len(s)\n",
    "    j = 0\n",
    "    i = 1\n",
    "    while (i < len(s)):\n",
    "        if (s[i] == s[j]):\n",
    "            p[i] = j + 1\n",
    "            i += 1\n",
    "            j += 1\n",
    "        else:\n",
    "            if j==0:\n",
    "                p[i] = 0\n",
    "                i += 1\n",
    "            else:\n",
    "                j = p[j-1]\n",
    "    return p\n",
    "\n",
    "\n",
    "def (p,s_all,s):\n",
    "    i = 0\n",
    "    j = 0\n",
    "    while(i < len(s_all)):\n",
    "        if s_all[i] == s[j]:\n",
    "            i += 1\n",
    "            j += 1\n",
    "            if j == len(s):\n",
    "                print('Симметрична')\n",
    "        else:\n",
    "            if j>0:\n",
    "                j = p[j-1]\n",
    "            else:\n",
    "                i += 1\n",
    "            "
   ]
  },
  {
   "cell_type": "code",
   "execution_count": 36,
   "id": "85fe0f82",
   "metadata": {},
   "outputs": [
    {
     "name": "stdout",
     "output_type": "stream",
     "text": [
      "1 2 3 -1 -5 6 4\n"
     ]
    }
   ],
   "source": [
    "mas = list(map(lambda x : abs(int(x)),input().split()))"
   ]
  },
  {
   "cell_type": "code",
   "execution_count": 37,
   "id": "4294d453",
   "metadata": {},
   "outputs": [
    {
     "data": {
      "text/plain": [
       "[1, 2, 3, 1, 5, 6, 4]"
      ]
     },
     "execution_count": 37,
     "metadata": {},
     "output_type": "execute_result"
    }
   ],
   "source": [
    "mas"
   ]
  },
  {
   "cell_type": "code",
   "execution_count": null,
   "id": "f0bd2d6e",
   "metadata": {},
   "outputs": [],
   "source": [
    "mas = list(map(int,input().split()))\n",
    "if len(mas) >= 4:\n",
    "    tmp = sorted([mas[0],mas[1],mas[2],mas[3]])\n",
    "    max1 = tmp[3]\n",
    "    max2 = tmp[2]\n",
    "    min2 = tmp[1]\n",
    "    min1 = tmp[0]\n",
    "    for i in range(4,len(mas)):\n",
    "        if mas[i] > max1:\n",
    "            max2 = max1\n",
    "            max1 = mas[i]\n",
    "        else:\n",
    "            if mas[i] > max2:\n",
    "                max2 =mas[i]\n",
    "        if mas[i]<min1:\n",
    "            min2 = min1\n",
    "            min1 = mas[i]\n",
    "        else:\n",
    "            if mas[i] < min2:\n",
    "                min2 = mas[i]\n",
    "    if max1*max2 > min1*min2:\n",
    "        res = (max2, max1)\n",
    "    else:\n",
    "        res = (min1,min2)\n",
    "else:\n",
    "    if len(mas) == 2:\n",
    "        if mas[0] > mas[1]:\n",
    "            res = (mas[1], mas[0])\n",
    "        else:\n",
    "            res = (mas[0], mas[1])\n",
    "    else:\n",
    "        mas = sorted(mas)\n",
    "        if mas[0] * mas[1] > mas[1] * mas[2]:\n",
    "            res = (mas[0],mas[1])\n",
    "        else:\n",
    "            res = (mas[1], mas[2])\n",
    "print(*res)"
   ]
  },
  {
   "cell_type": "code",
   "execution_count": 45,
   "id": "a1506c7c",
   "metadata": {},
   "outputs": [],
   "source": []
  },
  {
   "cell_type": "code",
   "execution_count": 3,
   "id": "56074e43",
   "metadata": {},
   "outputs": [],
   "source": [
    "### Дан массив отсортированный целых чисел, нужно найти сумму двух чисел массива\n",
    "### максимально приближенную к наперёд заданному значению O(n)\n",
    "\n",
    "def func(arr,q):\n",
    "    left = 0\n",
    "    right = len(arr) - 1\n",
    "    i = 0\n",
    "    n = len(arr)\n",
    "    min_diff = arr[-1] + 100\n",
    "    while(left<right):\n",
    "        sum_tmp = arr[left] + arr[right]\n",
    "        diff = abs(q - sum_tmp)\n",
    "        if diff < min_diff:\n",
    "            min_diff = diff\n",
    "            min_sum = sum_tmp\n",
    "        if sum_tmp > q:\n",
    "            right = right - 1\n",
    "        else:\n",
    "            if sum_tmp == q:\n",
    "                return sum_tmp\n",
    "            else:\n",
    "                left = left + 1\n",
    "    return sum_tmp\n",
    "        "
   ]
  },
  {
   "cell_type": "code",
   "execution_count": 11,
   "id": "6e56265a",
   "metadata": {},
   "outputs": [
    {
     "data": {
      "text/plain": [
       "[3, 3, 5, 7, 6, 0, 0, 0, 0, 0, 0]"
      ]
     },
     "execution_count": 11,
     "metadata": {},
     "output_type": "execute_result"
    }
   ],
   "source": [
    "##Все нули справа сделать за О(N)\n",
    "def swap_zeros(arr):\n",
    "    pos = 0\n",
    "    for i in range(len(arr)):\n",
    "        if arr[i] != 0:\n",
    "            arr[pos] = arr[i]\n",
    "            pos += 1\n",
    "    for i in range(pos,len(arr)):\n",
    "        arr[i] = 0\n",
    "    return arr\n",
    "\n",
    "\n",
    "swap_zeros([0,0,3,0,3,5,7,0,6,0,0])"
   ]
  },
  {
   "cell_type": "code",
   "execution_count": 3,
   "id": "e951df96",
   "metadata": {},
   "outputs": [],
   "source": [
    "def delete_smails(s):\n",
    "    mode = 0\n",
    "    i = 0\n",
    "    length = len(s)\n",
    "    while (i<length):\n",
    "        if s[i] == ':':\n",
    "            mode = 1\n",
    "            pos = i\n",
    "        else:\n",
    "            mode = 0\n",
    "            \n",
    "        if (mode == 1) and s[i] == ')':\n",
    "            while(s[i] == ')' and i<length):\n",
    "                i += 1\n",
    "            s = s[0:pos] + s[i:]\n",
    "            length -= i-pos\n",
    "            mode = 0\n",
    "            \n",
    "        if (mode == 1) and s[i] == '(':\n",
    "            while(s[i] == '(' and i<length):\n",
    "                i += 1\n",
    "            s = s[0:pos] + s[i:]\n",
    "            length -= i - pos\n",
    "            mode = 0\n",
    "        i+=1\n",
    "    return s\n",
    "                \n",
    "            "
   ]
  },
  {
   "cell_type": "code",
   "execution_count": 5,
   "id": "d389230d",
   "metadata": {},
   "outputs": [
    {
     "data": {
      "text/plain": [
       "'(:::)'"
      ]
     },
     "execution_count": 5,
     "metadata": {},
     "output_type": "execute_result"
    }
   ],
   "source": [
    "delete_smails('(:::)')"
   ]
  },
  {
   "cell_type": "markdown",
   "id": "a6e6ae37",
   "metadata": {},
   "source": [
    "Перевернуть каждое слово в тексте"
   ]
  },
  {
   "cell_type": "code",
   "execution_count": 24,
   "id": "94b10036",
   "metadata": {},
   "outputs": [],
   "source": [
    "def reverse_array(arr):\n",
    "    for i in range(len(arr)//2 + 1):\n",
    "        tmp = arr[i]\n",
    "        arr[i] = arr[-i-1]\n",
    "        arr[-i-1] = tmp\n",
    "    return arr"
   ]
  },
  {
   "cell_type": "code",
   "execution_count": 25,
   "id": "59e35555",
   "metadata": {},
   "outputs": [
    {
     "data": {
      "text/plain": [
       "[6, 5, 4, 2, 1]"
      ]
     },
     "execution_count": 25,
     "metadata": {},
     "output_type": "execute_result"
    }
   ],
   "source": [
    "reverse_array([1,2,4,5,6])"
   ]
  },
  {
   "cell_type": "code",
   "execution_count": 34,
   "id": "36fd41a8",
   "metadata": {},
   "outputs": [],
   "source": [
    "def reverse_string(s):\n",
    "    s = s.split()\n",
    "    s = reverse_array(s)\n",
    "    res = ''\n",
    "    for i in s:\n",
    "        res += i + ' '\n",
    "    return res"
   ]
  },
  {
   "cell_type": "code",
   "execution_count": 94,
   "id": "1d19f008",
   "metadata": {},
   "outputs": [
    {
     "data": {
      "text/plain": [
       "'dsafdf fdafd '"
      ]
     },
     "execution_count": 94,
     "metadata": {},
     "output_type": "execute_result"
    }
   ],
   "source": [
    "reverse_string('dsafdf fdafd')"
   ]
  },
  {
   "cell_type": "markdown",
   "id": "8b2d963e",
   "metadata": {},
   "source": [
    " Задача 3, найти в тексте подстроку, что она совпадает с точностью до перестановки букв"
   ]
  },
  {
   "cell_type": "code",
   "execution_count": 104,
   "id": "f9500ccf",
   "metadata": {},
   "outputs": [],
   "source": [
    "def find_substr(line : str, pattern : str):\n",
    "    dict1 = {}\n",
    "    dict2 = {}\n",
    "    for c in pattern:\n",
    "        if (dict1.get(c) != None):\n",
    "            dict1[c] += 1\n",
    "        else:\n",
    "            dict1[c] = 1\n",
    "    print(dict1)\n",
    "    start = 0\n",
    "    stop = len(pattern)\n",
    "    for i in range(start,stop):\n",
    "        if dict2.get(line[i]) != None:\n",
    "            dict2[line[i]] += 1\n",
    "        else:\n",
    "            dict2[line[i]] = 1\n",
    "    while (stop < len(line)-1):\n",
    "        print(dict2)\n",
    "        if dict2 == dict1:\n",
    "            return start,stop-1\n",
    "        else:\n",
    "            if dict2[line[start]] == 1:\n",
    "                del dict2[line[start]]\n",
    "            else:\n",
    "                dict2[line[start]] -= 1\n",
    "            start += 1\n",
    "            stop +=1\n",
    "            if dict2.get(line[stop-1]) != None:\n",
    "                dict2[line[stop-1]] += 1\n",
    "            else:\n",
    "                dict2[line[stop-1]] = 1\n",
    "    return False\n",
    "            "
   ]
  },
  {
   "cell_type": "code",
   "execution_count": 105,
   "id": "e9459e27",
   "metadata": {},
   "outputs": [
    {
     "name": "stdout",
     "output_type": "stream",
     "text": [
      "{'s': 1, 'd': 1, 'f': 1}\n",
      "{'f': 1, 'd': 1, 's': 1}\n"
     ]
    },
    {
     "data": {
      "text/plain": [
       "(0, 2)"
      ]
     },
     "execution_count": 105,
     "metadata": {},
     "output_type": "execute_result"
    }
   ],
   "source": [
    "find_substr('fdsfdgfdgfdg', 'sdf')"
   ]
  },
  {
   "cell_type": "markdown",
   "id": "f31fb9d7",
   "metadata": {},
   "source": [
    "Даны два вектора, нужно из первого удалить элементы, которые есть во втором , дополнительно ничего не создавать"
   ]
  },
  {
   "cell_type": "code",
   "execution_count": 101,
   "id": "0163b990",
   "metadata": {},
   "outputs": [
    {
     "data": {
      "text/plain": [
       "[]"
      ]
     },
     "execution_count": 101,
     "metadata": {},
     "output_type": "execute_result"
    }
   ],
   "source": [
    "func_del([1,2,3,5],[1,2,3,5])"
   ]
  },
  {
   "cell_type": "code",
   "execution_count": 136,
   "id": "b28e92c1",
   "metadata": {},
   "outputs": [
    {
     "data": {
      "text/plain": [
       "True"
      ]
     },
     "execution_count": 136,
     "metadata": {},
     "output_type": "execute_result"
    }
   ],
   "source": [
    "check_sim([(-1,-1),(1,1)])"
   ]
  },
  {
   "cell_type": "markdown",
   "id": "e7242c0a",
   "metadata": {},
   "source": [
    "Реализовать функцию, проверяющую, можно ли одну строку получить из другой не более, чем за одно исправление (удаление, добавление, изменение символа)"
   ]
  },
  {
   "cell_type": "code",
   "execution_count": 180,
   "id": "82d023cc",
   "metadata": {},
   "outputs": [],
   "source": [
    "def one_edit_apart(s1: str, s2: str) -> bool:\n",
    " \n",
    "    if s1 == s2: return True\n",
    "    len_1 = len(s1)\n",
    "    len_2 = len(s2)\n",
    "    if len_2 == len_1:\n",
    "        flag = 0\n",
    "        for i in range(len_1):\n",
    "            if s1[i] != s2[i]:\n",
    "                if flag == 1: return False\n",
    "                else: flag = 1\n",
    "        return True\n",
    " \n",
    "    if abs(len_1 - len_2) == 1:\n",
    "        if len_1 < len_2:\n",
    "            len_1, len_2 = len_2, len_1\n",
    "            s1, s2 = s2, s1\n",
    "        i = 0\n",
    "        flag = 0\n",
    "        while i < len_1 - 1:\n",
    "            if s1[i + flag] != s2[i]:\n",
    "                if flag == 1:  return False\n",
    "                else: \n",
    "                    flag = 1\n",
    "                    continue\n",
    "            i += 1\n",
    "        return True\n",
    "    else: return False"
   ]
  },
  {
   "cell_type": "code",
   "execution_count": 181,
   "id": "92c3dd24",
   "metadata": {},
   "outputs": [
    {
     "data": {
      "text/plain": [
       "True"
      ]
     },
     "execution_count": 181,
     "metadata": {},
     "output_type": "execute_result"
    }
   ],
   "source": [
    "one_edit_apart('fdsf','fdsf')"
   ]
  },
  {
   "cell_type": "markdown",
   "id": "d9677baa",
   "metadata": {},
   "source": [
    "Дана квадратная матрица NxN, заполненная нулями и единицами таким образом, что в каждой строке все нули располагаются левее всех единиц (возможны строки, состоящие полностью из нулей или полностью из единиц). Требуется определить номер первой колонки, в которой есть хоть одна единица.\n",
    "(сложность O(n) должна быть !!) (вроде он сказал что здесь будет O(2n) )"
   ]
  },
  {
   "cell_type": "code",
   "execution_count": 168,
   "id": "56703643",
   "metadata": {},
   "outputs": [
    {
     "name": "stdout",
     "output_type": "stream",
     "text": [
      "1\n"
     ]
    }
   ],
   "source": [
    "a = [[0,0,0,1],[0,1,1,1],[0,0,1,1], [0,0,0,0]]\n",
    "N = len(a)\n",
    "min_i = N\n",
    "index = []\n",
    "index_prob = []\n",
    "for i in range(N):\n",
    "    if a[i][i] == 1:\n",
    "        if i < min_i:\n",
    "            min_i = i\n",
    "        index.append(i)\n",
    "min_i2 = min_i\n",
    "for i in index:\n",
    "    for j in range(0,min_i):\n",
    "        if a[i][j] == 1:\n",
    "            if j<min_i2:\n",
    "                min_i2 = j\n",
    "print(min_i2) # если колонки считать от нуля, сложность вроде как "
   ]
  },
  {
   "cell_type": "code",
   "execution_count": null,
   "id": "5643e832",
   "metadata": {},
   "outputs": [],
   "source": [
    "3n - 1 , n + n/2\n",
    "\n",
    "\n",
    "0 0 0 0 0 0\n",
    "0 0 1 1 1 1\n",
    "0 0 0 1 1 1\n",
    "0 0 1 1 1 1\n",
    "1 1 1 1 1 1\n",
    "0 0 0 1 1 1"
   ]
  },
  {
   "cell_type": "code",
   "execution_count": null,
   "id": "ba98f7a8",
   "metadata": {},
   "outputs": [],
   "source": []
  },
  {
   "cell_type": "markdown",
   "id": "d1e91257",
   "metadata": {},
   "source": [
    "Написать прогу для подсчета РОК_АУК"
   ]
  },
  {
   "cell_type": "code",
   "execution_count": 5,
   "id": "922c36e8",
   "metadata": {},
   "outputs": [],
   "source": [
    "from sklearn.metrics import roc_auc_score as auc"
   ]
  },
  {
   "cell_type": "code",
   "execution_count": 67,
   "id": "9a1c651f",
   "metadata": {},
   "outputs": [
    {
     "data": {
      "text/plain": [
       "0.16666666666666666"
      ]
     },
     "execution_count": 67,
     "metadata": {},
     "output_type": "execute_result"
    }
   ],
   "source": [
    "auc([1,0,1,1],[0.4,0.7,0.4,0.7])"
   ]
  },
  {
   "cell_type": "code",
   "execution_count": null,
   "id": "3f087943",
   "metadata": {},
   "outputs": [],
   "source": [
    "0.7 - 1\n",
    "0.7 - 0\n",
    "0.4 - 1\n",
    "0.4 - 0"
   ]
  },
  {
   "cell_type": "code",
   "execution_count": 69,
   "id": "93b8f067",
   "metadata": {},
   "outputs": [
    {
     "name": "stdout",
     "output_type": "stream",
     "text": [
      "[(0.7, [1, 1]), (0.4, [1, 0])]\n"
     ]
    },
    {
     "data": {
      "text/plain": [
       "0.8333333333333334"
      ]
     },
     "execution_count": 69,
     "metadata": {},
     "output_type": "execute_result"
    }
   ],
   "source": [
    "from collections import defaultdict\n",
    "def auc2(y_true, y_score):\n",
    "    dict1 = defaultdict(list)\n",
    "    ones = sum(y_true)\n",
    "    zeros = len(y_true) - ones\n",
    "    all_square = ones*zeros\n",
    "    for i in range(len(y_score)):\n",
    "        dict1[y_score[i]].append(y_true[i])\n",
    "    dict1 = sorted(dict1.items(), reverse = True)\n",
    "    s = 0\n",
    "    print(dict1)\n",
    "    for i in dict1:\n",
    "        cnt1 = sum(i[1])\n",
    "        cnt0 = len(i[1])-cnt1\n",
    "        if cnt1 != 0 and cnt0 != 0:\n",
    "            zeros -= cnt0\n",
    "            s += cnt1*cnt0/2 + zeros\n",
    "        else:\n",
    "            if cnt1 > 0:\n",
    "                s += cnt1 * zeros\n",
    "            else:\n",
    "                zeros -= 1\n",
    "    return s/all_square\n",
    "\n",
    "auc2([1,1,0,1],[0.4,0.7,0.4,0.7])"
   ]
  },
  {
   "cell_type": "code",
   "execution_count": 16,
   "id": "4029f5f8",
   "metadata": {},
   "outputs": [
    {
     "name": "stdout",
     "output_type": "stream",
     "text": [
      "-5 -30000 -12\n",
      "-5 -12 -30000\n"
     ]
    }
   ],
   "source": [
    "arr = list(map(int,input().split()))\n",
    "max_true = max(arr[0],arr[1],arr[2])\n",
    "max_true3 = min(arr[0],arr[1],arr[2])\n",
    "max_true2 = arr[0] + arr[1] + arr[2] - max_true- max_true3\n",
    "max_neg = max_true3\n",
    "max_neg2 = max_true2\n",
    "\n",
    "for i in arr[3:]:\n",
    "\tif i >= 0:\n",
    "\t\tif i >= max_true:\n",
    "\t\t\tmax_true3=max_true2\n",
    "\t\t\tmax_true2 = max_true\n",
    "\t\t\tmax_true = i\n",
    "\t\telse:\n",
    "\t\t\tif i >= max_true2:\n",
    "\t\t\t\tmax_true3 = max_true2\n",
    "\t\t\t\tmax_true2 = i\n",
    "\t\t\telse:\n",
    "\t\t\t\tif i > max_true3:\n",
    "\t\t\t\t\tmax_true3 = i\n",
    "\telse:\n",
    "\t\tif i <= max_neg:\n",
    "\t\t\tmax_neg2 = max_neg\n",
    "\t\t\tmax_neg = i\n",
    "\t\telse:\n",
    "\t\t\tif i < max_neg2:\n",
    "\t\t\t\tmax_neg2 = i\n",
    "if max_neg2 * max_neg * max_true > max_true * max_true2 * max_true3:\n",
    "\tprint(max_neg2, max_neg, max_true)\n",
    "else:\n",
    "\tprint(max_true, max_true2, max_true3)"
   ]
  },
  {
   "cell_type": "code",
   "execution_count": 3,
   "id": "8f3be066",
   "metadata": {},
   "outputs": [
    {
     "ename": "KeyboardInterrupt",
     "evalue": "Interrupted by user",
     "output_type": "error",
     "traceback": [
      "\u001b[0;31m---------------------------------------------------------------------------\u001b[0m",
      "\u001b[0;31mKeyboardInterrupt\u001b[0m                         Traceback (most recent call last)",
      "\u001b[0;32m<ipython-input-3-0da744513338>\u001b[0m in \u001b[0;36m<module>\u001b[0;34m\u001b[0m\n\u001b[0;32m----> 1\u001b[0;31m \u001b[0ma\u001b[0m\u001b[0;34m,\u001b[0m\u001b[0mb\u001b[0m \u001b[0;34m=\u001b[0m \u001b[0mmap\u001b[0m\u001b[0;34m(\u001b[0m\u001b[0mint\u001b[0m\u001b[0;34m,\u001b[0m\u001b[0minput\u001b[0m\u001b[0;34m(\u001b[0m\u001b[0;34m)\u001b[0m\u001b[0;34m.\u001b[0m\u001b[0msplit\u001b[0m\u001b[0;34m(\u001b[0m\u001b[0;34m)\u001b[0m\u001b[0;34m)\u001b[0m\u001b[0;34m\u001b[0m\u001b[0;34m\u001b[0m\u001b[0m\n\u001b[0m\u001b[1;32m      2\u001b[0m \u001b[0mtmp1\u001b[0m \u001b[0;34m=\u001b[0m \u001b[0mset\u001b[0m\u001b[0;34m(\u001b[0m\u001b[0;34m)\u001b[0m\u001b[0;34m\u001b[0m\u001b[0;34m\u001b[0m\u001b[0m\n\u001b[1;32m      3\u001b[0m \u001b[0mtmp2\u001b[0m \u001b[0;34m=\u001b[0m \u001b[0mset\u001b[0m\u001b[0;34m(\u001b[0m\u001b[0;34m)\u001b[0m\u001b[0;34m\u001b[0m\u001b[0;34m\u001b[0m\u001b[0m\n\u001b[1;32m      4\u001b[0m \u001b[0;32mfor\u001b[0m \u001b[0mi\u001b[0m \u001b[0;32min\u001b[0m \u001b[0mrange\u001b[0m\u001b[0;34m(\u001b[0m\u001b[0ma\u001b[0m\u001b[0;34m)\u001b[0m\u001b[0;34m:\u001b[0m\u001b[0;34m\u001b[0m\u001b[0;34m\u001b[0m\u001b[0m\n\u001b[1;32m      5\u001b[0m         \u001b[0mtmp1\u001b[0m\u001b[0;34m.\u001b[0m\u001b[0madd\u001b[0m\u001b[0;34m(\u001b[0m\u001b[0mint\u001b[0m\u001b[0;34m(\u001b[0m\u001b[0minput\u001b[0m\u001b[0;34m(\u001b[0m\u001b[0;34m)\u001b[0m\u001b[0;34m)\u001b[0m\u001b[0;34m)\u001b[0m\u001b[0;34m\u001b[0m\u001b[0;34m\u001b[0m\u001b[0m\n",
      "\u001b[0;32m~/miniconda3/envs/danz_ik/lib/python3.8/site-packages/ipykernel/kernelbase.py\u001b[0m in \u001b[0;36mraw_input\u001b[0;34m(self, prompt)\u001b[0m\n\u001b[1;32m    846\u001b[0m                 \u001b[0;34m\"raw_input was called, but this frontend does not support input requests.\"\u001b[0m\u001b[0;34m\u001b[0m\u001b[0;34m\u001b[0m\u001b[0m\n\u001b[1;32m    847\u001b[0m             )\n\u001b[0;32m--> 848\u001b[0;31m         return self._input_request(str(prompt),\n\u001b[0m\u001b[1;32m    849\u001b[0m             \u001b[0mself\u001b[0m\u001b[0;34m.\u001b[0m\u001b[0m_parent_ident\u001b[0m\u001b[0;34m,\u001b[0m\u001b[0;34m\u001b[0m\u001b[0;34m\u001b[0m\u001b[0m\n\u001b[1;32m    850\u001b[0m             \u001b[0mself\u001b[0m\u001b[0;34m.\u001b[0m\u001b[0m_parent_header\u001b[0m\u001b[0;34m,\u001b[0m\u001b[0;34m\u001b[0m\u001b[0;34m\u001b[0m\u001b[0m\n",
      "\u001b[0;32m~/miniconda3/envs/danz_ik/lib/python3.8/site-packages/ipykernel/kernelbase.py\u001b[0m in \u001b[0;36m_input_request\u001b[0;34m(self, prompt, ident, parent, password)\u001b[0m\n\u001b[1;32m    890\u001b[0m             \u001b[0;32mexcept\u001b[0m \u001b[0mKeyboardInterrupt\u001b[0m\u001b[0;34m:\u001b[0m\u001b[0;34m\u001b[0m\u001b[0;34m\u001b[0m\u001b[0m\n\u001b[1;32m    891\u001b[0m                 \u001b[0;31m# re-raise KeyboardInterrupt, to truncate traceback\u001b[0m\u001b[0;34m\u001b[0m\u001b[0;34m\u001b[0m\u001b[0;34m\u001b[0m\u001b[0m\n\u001b[0;32m--> 892\u001b[0;31m                 \u001b[0;32mraise\u001b[0m \u001b[0mKeyboardInterrupt\u001b[0m\u001b[0;34m(\u001b[0m\u001b[0;34m\"Interrupted by user\"\u001b[0m\u001b[0;34m)\u001b[0m \u001b[0;32mfrom\u001b[0m \u001b[0;32mNone\u001b[0m\u001b[0;34m\u001b[0m\u001b[0;34m\u001b[0m\u001b[0m\n\u001b[0m\u001b[1;32m    893\u001b[0m             \u001b[0;32mexcept\u001b[0m \u001b[0mException\u001b[0m \u001b[0;32mas\u001b[0m \u001b[0me\u001b[0m\u001b[0;34m:\u001b[0m\u001b[0;34m\u001b[0m\u001b[0;34m\u001b[0m\u001b[0m\n\u001b[1;32m    894\u001b[0m                 \u001b[0mself\u001b[0m\u001b[0;34m.\u001b[0m\u001b[0mlog\u001b[0m\u001b[0;34m.\u001b[0m\u001b[0mwarning\u001b[0m\u001b[0;34m(\u001b[0m\u001b[0;34m\"Invalid Message:\"\u001b[0m\u001b[0;34m,\u001b[0m \u001b[0mexc_info\u001b[0m\u001b[0;34m=\u001b[0m\u001b[0;32mTrue\u001b[0m\u001b[0;34m)\u001b[0m\u001b[0;34m\u001b[0m\u001b[0;34m\u001b[0m\u001b[0m\n",
      "\u001b[0;31mKeyboardInterrupt\u001b[0m: Interrupted by user"
     ]
    }
   ],
   "source": [
    "a,b = map(int,input().split())\n",
    "tmp1 = set()\n",
    "tmp2 = set()\n",
    "for i in range(a):\n",
    "\ttmp1.add(int(input()))\n",
    "for i in range(b):\n",
    "\ttmp2.add(int(input()))\n",
    "res1 = sorted(tmp1.intersection(tmp2))\n",
    "res0 = len(res1)\n",
    "res3 = sorted(tmp1.difference(res1))\n",
    "res2 = len(res3)\n",
    "res5 = sorted(tmp2.difference(res1))\n",
    "res4 = len(res5)\n",
    "print(res0)\n",
    "print(*res1)\n",
    "print(res2)\n",
    "print(*res3)\n",
    "print(res4)\n",
    "print(*res5)"
   ]
  },
  {
   "cell_type": "code",
   "execution_count": 5,
   "id": "b89caa39",
   "metadata": {},
   "outputs": [
    {
     "name": "stdout",
     "output_type": "stream",
     "text": [
      "She sells sea shells on the sea shore; The shells that she sells are sea shells I'm sure. So if she sells sea shells on the sea shore, I'm sure that the shells are sea shore shells.\n",
      "19\n"
     ]
    }
   ],
   "source": [
    "a = input().split()\n",
    "st = set()\n",
    "for i in a:\n",
    "    if i not in st:\n",
    "        st.add(i)\n",
    "print(len(st))"
   ]
  },
  {
   "cell_type": "code",
   "execution_count": 6,
   "id": "93a3e410",
   "metadata": {},
   "outputs": [],
   "source": [
    "import sys\n",
    "a = sys.stdin.read()"
   ]
  },
  {
   "cell_type": "code",
   "execution_count": 8,
   "id": "ad7b7355",
   "metadata": {},
   "outputs": [
    {
     "data": {
      "text/plain": [
       "0"
      ]
     },
     "execution_count": 8,
     "metadata": {},
     "output_type": "execute_result"
    }
   ],
   "source": [
    "b = set()\n",
    "len(b)"
   ]
  },
  {
   "cell_type": "code",
   "execution_count": 10,
   "id": "e25d9728",
   "metadata": {},
   "outputs": [
    {
     "name": "stdout",
     "output_type": "stream",
     "text": [
      "1 2 3\n",
      "112233\n",
      "0\n"
     ]
    }
   ],
   "source": [
    "a = set(map(int,input().split()))\n",
    "s = input()\n",
    "cnt = 0\n",
    "b = set()\n",
    "for i in s:\n",
    "\tif int(i) not in a:\n",
    "\t\tif int(i) not in b:\n",
    "\t\t\tb.add(i)\n",
    "print(len(b))"
   ]
  },
  {
   "cell_type": "code",
   "execution_count": 11,
   "id": "1e948733",
   "metadata": {},
   "outputs": [
    {
     "name": "stdout",
     "output_type": "stream",
     "text": [
      "ABBACAB\n",
      "BCABB\n",
      "3\n"
     ]
    }
   ],
   "source": [
    "a = input()\n",
    "b = input()\n",
    "tmp1 = set()\n",
    "tmp2 = set()\n",
    "for i in range(len(a)-1):\n",
    "\ttmp1.add(a[i] + a[i+1])\n",
    "for j in range(len(b)-1):\n",
    "\ttmp2.add(b[j] + b[j+1])\n",
    "print(len(tmp1.intersection(tmp2)))"
   ]
  },
  {
   "cell_type": "code",
   "execution_count": 36,
   "id": "3192e1d1",
   "metadata": {},
   "outputs": [
    {
     "name": "stdout",
     "output_type": "stream",
     "text": [
      "ABBACAB\n",
      "BCABB\n",
      "4\n"
     ]
    }
   ],
   "source": [
    "a = input()\n",
    "b = input()\n",
    "tmp1 = []\n",
    "tmp2 = []\n",
    "cnt = 0\n",
    "if len(a)>1 and len(b)>1:\n",
    "    for i in range(len(a)-1):\n",
    "        tmp1.append(a[i] + a[i+1])\n",
    "    for j in range(len(b)-1):\n",
    "        tmp2.append(b[j] + b[j+1])\n",
    "    for i in tmp1:\n",
    "        for j in tmp2:\n",
    "            if i==j:\n",
    "                cnt += 1\n",
    "print(cnt)"
   ]
  },
  {
   "cell_type": "code",
   "execution_count": 44,
   "id": "2a3b0fb1",
   "metadata": {},
   "outputs": [
    {
     "name": "stdout",
     "output_type": "stream",
     "text": [
      "3\n",
      "3\n",
      "Rus\n",
      "Eng\n",
      "Jap\n",
      "2\n",
      "Rus\n",
      "Eng\n",
      "1\n",
      "Eng\n",
      "1\n",
      "Eng\n",
      "3\n",
      "Eng Rus Jap\n"
     ]
    }
   ],
   "source": [
    "N = int(input())\n",
    "all_set = set()\n",
    "inter_set = set()\n",
    "K = int(input())\n",
    "for i in range(K):\n",
    "\telem = input()\n",
    "\tall_set.add(elem)\n",
    "\tinter_set.add(elem)\n",
    "for i in range(1,N):\n",
    "    cur_set = set()\n",
    "    k = int(input())\n",
    "    for j in range(k):\n",
    "        language = input()\n",
    "        cur_set.add(language)\n",
    "        if language not in all_set:\n",
    "            all_set.add(language)\n",
    "    inter_set = inter_set.intersection(cur_set)\n",
    "print(len(inter_set))\n",
    "for i in inter_set:\n",
    "    print(i)\n",
    "print(len(all_set))\n",
    "for i in all_set:\n",
    "    print(i)"
   ]
  },
  {
   "cell_type": "code",
   "execution_count": 47,
   "id": "d5bc215a",
   "metadata": {},
   "outputs": [
    {
     "name": "stdout",
     "output_type": "stream",
     "text": [
      "5\n",
      "3\n"
     ]
    }
   ],
   "source": [
    "dict1 = {'1':5,'2':3}\n",
    "for i in dict1:\n",
    "    print(dict1[i])"
   ]
  },
  {
   "cell_type": "code",
   "execution_count": 57,
   "id": "c3a69c16",
   "metadata": {},
   "outputs": [],
   "source": [
    "sys.stdin = 'apple orange banana banana orange'"
   ]
  },
  {
   "cell_type": "code",
   "execution_count": 54,
   "id": "46107565",
   "metadata": {},
   "outputs": [
    {
     "name": "stdout",
     "output_type": "stream",
     "text": [
      "my\n"
     ]
    }
   ],
   "source": [
    "import sys\n",
    "a = ''\n",
    "for line in sys.stdin:\n",
    "    a += line\n",
    "a = a.split()\n",
    "\n",
    "dict1 = {}\n",
    "max = 0\n",
    "for i in a:\n",
    "\tif dict1.get(i) != None:\n",
    "\t\tdict1[i] += 1\n",
    "\telse:\n",
    "\t\tdict1[i] = 1\n",
    "\tif dict1[i] > max:\n",
    "\t\tmax = dict1[i]\n",
    "\t\tkey = i\n",
    "print(key)"
   ]
  },
  {
   "cell_type": "code",
   "execution_count": 61,
   "id": "5157404c",
   "metadata": {},
   "outputs": [
    {
     "name": "stdout",
     "output_type": "stream",
     "text": [
      "['apple', 'orange', 'banana', 'banana', 'orange']\n"
     ]
    }
   ],
   "source": [
    "print(a)"
   ]
  },
  {
   "cell_type": "code",
   "execution_count": 52,
   "id": "e2519d7b",
   "metadata": {},
   "outputs": [
    {
     "name": "stdout",
     "output_type": "stream",
     "text": [
      "banana\n"
     ]
    }
   ],
   "source": [
    "print(key)"
   ]
  },
  {
   "cell_type": "code",
   "execution_count": 55,
   "id": "425c37d9",
   "metadata": {},
   "outputs": [
    {
     "data": {
      "text/plain": [
       "False"
      ]
     },
     "execution_count": 55,
     "metadata": {},
     "output_type": "execute_result"
    }
   ],
   "source": [
    "'ding' > 'my'"
   ]
  },
  {
   "cell_type": "code",
   "execution_count": 66,
   "id": "54507a2b",
   "metadata": {},
   "outputs": [
    {
     "name": "stdout",
     "output_type": "stream",
     "text": [
      "banana\n"
     ]
    }
   ],
   "source": [
    "import sys\n",
    "a = ''\n",
    "for line in sys.stdin:\n",
    "    a += line\n",
    "a = a.split()\n",
    "\n",
    "dict1 = {}\n",
    "max1 = 0\n",
    "for i in a:\n",
    "    if dict1.get(i) != None:\n",
    "        dict1[i] += 1\n",
    "    else:\n",
    "        dict1[i] = 1\n",
    "    if dict1[i] > max1:\n",
    "        max1 = dict1[i]\n",
    "        key = i\n",
    "    else:\n",
    "        if dict1[i] == max1:\n",
    "            if i<key:\n",
    "                key = i\n",
    "print(key)"
   ]
  },
  {
   "cell_type": "code",
   "execution_count": 68,
   "id": "c10e76d9",
   "metadata": {},
   "outputs": [
    {
     "name": "stdout",
     "output_type": "stream",
     "text": [
      "1 2 3 4 5\n"
     ]
    },
    {
     "ename": "TypeError",
     "evalue": "cannot convert dictionary update sequence element #0 to a sequence",
     "output_type": "error",
     "traceback": [
      "\u001b[0;31m---------------------------------------------------------------------------\u001b[0m",
      "\u001b[0;31mTypeError\u001b[0m                                 Traceback (most recent call last)",
      "\u001b[0;32m<ipython-input-68-447099fa2bdc>\u001b[0m in \u001b[0;36m<module>\u001b[0;34m\u001b[0m\n\u001b[0;32m----> 1\u001b[0;31m \u001b[0mdict1\u001b[0m \u001b[0;34m=\u001b[0m \u001b[0mdict\u001b[0m\u001b[0;34m(\u001b[0m\u001b[0mmap\u001b[0m\u001b[0;34m(\u001b[0m\u001b[0mint\u001b[0m\u001b[0;34m,\u001b[0m\u001b[0minput\u001b[0m\u001b[0;34m(\u001b[0m\u001b[0;34m)\u001b[0m\u001b[0;34m.\u001b[0m\u001b[0msplit\u001b[0m\u001b[0;34m(\u001b[0m\u001b[0;34m)\u001b[0m\u001b[0;34m)\u001b[0m\u001b[0;34m)\u001b[0m\u001b[0;34m\u001b[0m\u001b[0;34m\u001b[0m\u001b[0m\n\u001b[0m",
      "\u001b[0;31mTypeError\u001b[0m: cannot convert dictionary update sequence element #0 to a sequence"
     ]
    }
   ],
   "source": [
    "dict1 = dict(map(int,input().split()))"
   ]
  },
  {
   "cell_type": "code",
   "execution_count": 70,
   "id": "1772dbe3",
   "metadata": {},
   "outputs": [
    {
     "name": "stdout",
     "output_type": "stream",
     "text": [
      "5\n",
      "1 50 3 4 3\n",
      "16\n",
      "1 2 3 4 5 1 3 3 4 5 5 5 5 5 4 5\n",
      "YES\n",
      "NO\n",
      "NO\n",
      "NO\n",
      "YES\n"
     ]
    }
   ],
   "source": [
    "n = int(input())\n",
    "dict1 = {}\n",
    "arr = list(map(int,input().split()))\n",
    "for i in range(len(arr)):\n",
    "\tdict1[i+1] = arr[i]\n",
    "k = int(input())\n",
    "arr2 = list(map(int,input().split()))\n",
    "for i in arr2:\n",
    "\tdict1[i] -= 1\n",
    "for i in dict1:\n",
    "\tif dict1[i] < 0:\n",
    "\t\tprint('YES')\n",
    "\telse:\n",
    "\t\tprint('NO')"
   ]
  },
  {
   "cell_type": "code",
   "execution_count": 72,
   "id": "18746536",
   "metadata": {},
   "outputs": [
    {
     "name": "stdout",
     "output_type": "stream",
     "text": [
      "1 -1 0\n",
      "0 1\n"
     ]
    }
   ],
   "source": [
    "mas = list(map(int,input().split()))\n",
    "if len(mas) >= 4:\n",
    "    tmp = sorted([mas[0],mas[1],mas[2],mas[3]])\n",
    "    max1 = tmp[3]\n",
    "    max2 = tmp[2]\n",
    "    min2 = tmp[1]\n",
    "    min1 = tmp[0]\n",
    "    for i in range(4,len(mas)):\n",
    "        if mas[i] > max1:\n",
    "            max2 = max1\n",
    "            max1 = mas[i]\n",
    "        else:\n",
    "            if mas[i] > max2:\n",
    "                max2 =mas[i]\n",
    "        if mas[i]<min1:\n",
    "            min2 = min1\n",
    "            min1 = mas[i]\n",
    "        else:\n",
    "            if mas[i] < min2:\n",
    "                min2 = mas[i]\n",
    "    if max1*max2 > min1*min2:\n",
    "        res = (max2, max1)\n",
    "    else:\n",
    "        res = (min1,min2)\n",
    "else:\n",
    "    if len(mas) == 2:\n",
    "        if mas[0] > mas[1]:\n",
    "            res = (mas[1], mas[0])\n",
    "        else:\n",
    "            res = (mas[0], mas[1])\n",
    "    else:\n",
    "        mas = sorted(mas)\n",
    "        if mas[0] * mas[1] > mas[1] * mas[2]:\n",
    "            res = (mas[0],mas[1])\n",
    "        else:\n",
    "            res = (mas[1], mas[2])\n",
    "print(*res)"
   ]
  },
  {
   "cell_type": "markdown",
   "id": "7738af99",
   "metadata": {},
   "source": [
    "Префиксная сумма"
   ]
  },
  {
   "cell_type": "code",
   "execution_count": 113,
   "id": "e23bfa95",
   "metadata": {},
   "outputs": [],
   "source": [
    "def makeprefixsum(nums):\n",
    "    prefix = []\n",
    "    prefix.append(0)\n",
    "    for i in range(1,len(nums) + 1):\n",
    "        prefix.append(prefix[i-1] + nums[i-1])\n",
    "    return prefix\n",
    "\n",
    "def rsq(prefixsum,l,r):\n",
    "    return prefixsum[r] - prefixsum[l]\n",
    "\n",
    "\n",
    "\n",
    "def func(a,b):\n",
    "    if a[0] >= b[0] and a[0] < b[1]:\n",
    "        return a[0],min(a[1],b[1])\n",
    "    if a[1] <= b[1] and a[1] > b[0]:\n",
    "        return max(a[0],b[0]),a[1]\n",
    "    if a[0]<=b[0] and a[1] >= b[1]:\n",
    "        return b[0],b[1]\n",
    "    if b[0]<=a[0] and b[1] >= a[1]:\n",
    "        return a[0],a[1]\n",
    "    return False"
   ]
  },
  {
   "cell_type": "code",
   "execution_count": 144,
   "id": "efbbfd14",
   "metadata": {},
   "outputs": [
    {
     "data": {
      "text/plain": [
       "[0, 0, 3, 9, 12, 20]"
      ]
     },
     "execution_count": 144,
     "metadata": {},
     "output_type": "execute_result"
    }
   ],
   "source": [
    "arr = [0,3,6,3,8]\n",
    "makeprefixsum(arr)"
   ]
  },
  {
   "cell_type": "code",
   "execution_count": 82,
   "id": "fe8c5f4d",
   "metadata": {},
   "outputs": [
    {
     "name": "stdout",
     "output_type": "stream",
     "text": [
      "3\n",
      "1 2 3\n",
      "2 \n",
      "1 2\n",
      "1 1\n"
     ]
    }
   ],
   "source": [
    "def func(maiki,shtani):\n",
    "    stil = abs(maiki[0] - shtani[0])\n",
    "    pos = 0\n",
    "    for i in range(len(maiki)):\n",
    "        for j in range(pos,len(shtani)):\n",
    "            if abs(maiki[i] - shtani[j]) == 0:\n",
    "                return maiki[i],shtani[j]\n",
    "            if abs(maiki[i] - shtani[j]) <= stil:\n",
    "                stil = abs(maiki[i] - shtani[j])\n",
    "                maika = maiki[i]\n",
    "                shtanina = shtani[j]\n",
    "                pos += 1\n",
    "    return maika, shtanina\n",
    "\n",
    "\n",
    "n = int(input())\n",
    "maiki = list(map(int,input().split()))\n",
    "k = int(input())\n",
    "shtani = list(map(int,input().split()))\n",
    "print(*func(maiki,shtani))"
   ]
  },
  {
   "cell_type": "code",
   "execution_count": 84,
   "id": "e3b2a383",
   "metadata": {},
   "outputs": [
    {
     "name": "stdout",
     "output_type": "stream",
     "text": [
      "2\n",
      "3 4\n",
      "3\n",
      "1 2 3\n",
      "3 3\n"
     ]
    }
   ],
   "source": [
    "def func(maiki,shtani):\n",
    "    stil = abs(maiki[0] - shtani[0])\n",
    "    pos = 0\n",
    "    for i in range(len(maiki)):\n",
    "        if maiki[i] == maiki[i-1]:\n",
    "            continue\n",
    "        for j in range(pos,len(shtani)):\n",
    "            if abs(maiki[i] - shtani[j]) == 0:\n",
    "                return maiki[i],shtani[j]\n",
    "            if abs(maiki[i] - shtani[j]) <= stil:\n",
    "                stil = abs(maiki[i] - shtani[j])\n",
    "                maika = maiki[i]\n",
    "                shtanina = shtani[j]\n",
    "                pos = j\n",
    "    return maika, shtanina\n",
    "\n",
    "\n",
    "n = int(input())\n",
    "maiki = list(map(int,input().split()))\n",
    "k = int(input())\n",
    "shtani = list(map(int,input().split()))\n",
    "print(*func(maiki,shtani))"
   ]
  },
  {
   "cell_type": "code",
   "execution_count": null,
   "id": "7b797394",
   "metadata": {},
   "outputs": [],
   "source": [
    "def dif(pos1,pos2):\n",
    "    return abs(maiki[pos1] - shtani[pos2])\n",
    "\n",
    "first = 0\n",
    "second = 0\n",
    "while (first != n-1 or second != k-1):\n",
    "    if dif(first,second+1) < dif(first+1,second):\n",
    "        second += 1\n",
    "    else:\n",
    "        first += 1\n",
    "    "
   ]
  },
  {
   "cell_type": "code",
   "execution_count": 94,
   "id": "bc716e24",
   "metadata": {},
   "outputs": [],
   "source": [
    "###Задача с литкода, вернуть два индекса чисел массива, которые в суммме дают нужный таргет\n",
    "\n",
    "def twoSum(nums, target):\n",
    "        dict1 = {}\n",
    "        for i in range(len(nums)):\n",
    "            need = target - nums[i]\n",
    "            if dict1.get(nums[i]) != None:\n",
    "                return [dict1[nums[i]],i]\n",
    "            else:\n",
    "                dict1[need] = i"
   ]
  },
  {
   "cell_type": "code",
   "execution_count": 103,
   "id": "4b3011f1",
   "metadata": {},
   "outputs": [
    {
     "name": "stdout",
     "output_type": "stream",
     "text": [
      "9646324351\n"
     ]
    }
   ],
   "source": [
    "###задача с литкода перевернуть интеджер\n",
    "def reverse_number(n):\n",
    "    r = 0\n",
    "    if n>0:\n",
    "        while n > 0:\n",
    "            r *= 10\n",
    "            r += n % 10\n",
    "            n //= 10\n",
    "        return r\n",
    "    else:\n",
    "        n = abs(n)\n",
    "        while n > 0:\n",
    "            r *= 10\n",
    "            r += n % 10\n",
    "            n //= 10\n",
    "        r = r - 2*r\n",
    "        return r\n",
    "\n",
    "print(reverse_number(1534236469))"
   ]
  },
  {
   "cell_type": "code",
   "execution_count": null,
   "id": "bedc8364",
   "metadata": {},
   "outputs": [],
   "source": []
  }
 ],
 "metadata": {
  "kernelspec": {
   "display_name": "Python 3 (ipykernel)",
   "language": "python",
   "name": "python3"
  },
  "language_info": {
   "codemirror_mode": {
    "name": "ipython",
    "version": 3
   },
   "file_extension": ".py",
   "mimetype": "text/x-python",
   "name": "python",
   "nbconvert_exporter": "python",
   "pygments_lexer": "ipython3",
   "version": "3.7.5"
  }
 },
 "nbformat": 4,
 "nbformat_minor": 5
}
