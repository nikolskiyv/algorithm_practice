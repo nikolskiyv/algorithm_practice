{
 "cells": [
  {
   "cell_type": "markdown",
   "id": "b85fe117",
   "metadata": {},
   "source": [
    "### 35. Implement Queue Using Stack"
   ]
  },
  {
   "cell_type": "code",
   "execution_count": null,
   "id": "2fcfc9eb",
   "metadata": {},
   "outputs": [],
   "source": [
    "class MyQueue:\n",
    "\n",
    "    def __init__(self):\n",
    "        self.push_stack = []\n",
    "        self.pop_stack = []\n",
    "\n",
    "    def push(self, x: int) -> None:\n",
    "        self.push_stack.append(x)\n",
    "\n",
    "    def pop(self) -> int:\n",
    "        if self.empty():\n",
    "            return\n",
    "        if len(self.pop_stack):\n",
    "            return self.pop_stack.pop()\n",
    "        else:\n",
    "            while len(self.push_stack):\n",
    "                self.pop_stack.append(self.push_stack.pop())\n",
    "        return self.pop_stack.pop()\n",
    "\n",
    "    def peek(self) -> int:\n",
    "\n",
    "        if self.empty():\n",
    "            return\n",
    "        if len(self.pop_stack):\n",
    "            return self.pop_stack[-1]\n",
    "        else:\n",
    "            while len(self.push_stack):\n",
    "                self.pop_stack.append(self.push_stack.pop())\n",
    "        return self.pop_stack[-1]\n",
    "\n",
    "    def empty(self) -> bool:\n",
    "        return len(self.push_stack)==False and len(self.pop_stack) == False"
   ]
  },
  {
   "cell_type": "markdown",
   "id": "a1a3874e",
   "metadata": {},
   "source": [
    "### 36. Add Two Numbers"
   ]
  },
  {
   "cell_type": "markdown",
   "id": "e8162e07",
   "metadata": {},
   "source": [
    "- Input: l1 = [2,4,3], l2 = [5,6,4]\n",
    "- Output: [7,0,8]\n",
    "- Explanation: 342 + 465 = 807."
   ]
  },
  {
   "cell_type": "code",
   "execution_count": null,
   "id": "12203b88",
   "metadata": {},
   "outputs": [],
   "source": [
    "class Solution:\n",
    "    def addTwoNumbers(self, l1: Optional[ListNode], l2: Optional[ListNode]) -> Optional[ListNode]:\n",
    "        head = None\n",
    "        temp = None\n",
    "        carry = 0\n",
    "        while l1 is not None or l2 is not None:\n",
    "            sum_value = carry\n",
    "            if l1 is not None:\n",
    "                sum_value += l1.val\n",
    "                l1 = l1.next\n",
    "            if l2 is not None:\n",
    "                sum_value += l2.val\n",
    "                l2 = l2.next\n",
    "            node = ListNode(sum_value % 10)\n",
    "            carry = sum_value // 10\n",
    "            if temp is None:\n",
    "                temp = head = node\n",
    "            else:\n",
    "                temp.next = node\n",
    "                temp = temp.next\n",
    "        if carry > 0:\n",
    "            temp.next = ListNode(carry)\n",
    "        return head"
   ]
  },
  {
   "cell_type": "markdown",
   "id": "f2abb59f",
   "metadata": {},
   "source": [
    "### 37. Merge Sorted Array"
   ]
  },
  {
   "cell_type": "markdown",
   "id": "d88ed983",
   "metadata": {},
   "source": [
    "- Input: nums1 = [1,2,3,0,0,0], m = 3, nums2 = [2,5,6], n = 3\n",
    "- Output: [1,2,2,3,5,6]\n",
    "- Explanation: The arrays we are merging are [1,2,3] and [2,5,6].\n",
    "- The result of the merge is [1,2,2,3,5,6] with the underlined elements coming from nums1."
   ]
  },
  {
   "cell_type": "code",
   "execution_count": null,
   "id": "ccd55b3f",
   "metadata": {},
   "outputs": [],
   "source": [
    "# Time O(n+m)\n",
    "# Space O(n+m)\n",
    "\n",
    "def mergeArrays(arr1, arr2, n1, n2): \n",
    "    arr3 = [None] * (n1 + n2) \n",
    "    i = 0\n",
    "    j = 0\n",
    "    k = 0\n",
    "\n",
    "    while i < n1 and j < n2: \n",
    "        # Проверяем, является ли текущий элемент первого массива меньше чем текущий элемент\n",
    "        # второй массив. Если да, сохраним первый элемент массива и увеличиваем первый массив\n",
    "        # индекс. В противном случае сделайте то же самое со вторым массивом\n",
    "\n",
    "        if arr1[i] < arr2[j]: \n",
    "            arr3[k] = arr1[i] \n",
    "            k = k + 1\n",
    "            i = i + 1\n",
    "        else: \n",
    "            arr3[k] = arr2[j] \n",
    "            k = k + 1\n",
    "            j = j + 1\n",
    "\n",
    "    # Сохраним оставшиеся элементы первого массива\n",
    "    while i < n1: \n",
    "        arr3[k] = arr1[i]; \n",
    "        k = k + 1\n",
    "        i = i + 1\n",
    "\n",
    "    # Сохраняем оставшиеся элементы второго массива\n",
    "    while j < n2: \n",
    "        arr3[k] = arr2[j]; \n",
    "        k = k + 1\n",
    "        j = j + 1\n",
    "\n",
    "    for i in range(n1 + n2): \n",
    "        print(str(arr3[i]), end = \" \") "
   ]
  },
  {
   "cell_type": "markdown",
   "id": "9720753f",
   "metadata": {},
   "source": [
    "### 38. Merge Two Sorted Lists"
   ]
  },
  {
   "cell_type": "markdown",
   "id": "48129995",
   "metadata": {},
   "source": [
    "- Input: list1 = [1,2,4], list2 = [1,3,4]\n",
    "- Output: [1,1,2,3,4,4]"
   ]
  },
  {
   "cell_type": "code",
   "execution_count": 1,
   "id": "8c60bad5",
   "metadata": {},
   "outputs": [],
   "source": [
    "# Time O(n)\n",
    "# Space O(1)\n",
    "\n",
    "# Объединяет два списка с заголовками h1 и h2.\n",
    "# Предполагается, что данные h1 меньше, чем\n",
    "# или равно данным h2.\n",
    "\n",
    "def mergeUtil(h1, h2): \n",
    "    # если только один узел в первом списке просто указать голову на второй список\n",
    "\n",
    "    if (h1.next == None):\n",
    "        h1.next = h2 \n",
    "        return h1 \n",
    "\n",
    "    # Инициализируем текущий и следующий указатели обоих списков\n",
    "\n",
    "    curr1 = h1 \n",
    "    next1 = h1.next\n",
    "    curr2 = h2 \n",
    "    next2 = h2.next\n",
    "\n",
    "    while next1 != None and curr2 != None:\n",
    "        # если curr2 находится между curr1 и next1, то делаем curr1.curr2.next1\n",
    "\n",
    "        if curr2.data >= curr1.data and curr2.data <= next1.data: \n",
    "            next2 = curr2.next\n",
    "            curr1.next = curr2 \n",
    "            curr2.next = next1 \n",
    "\n",
    "            # теперь пусть curr1 и curr2 указывают на свои непосредственные указатели next\n",
    "\n",
    "            curr1 = curr2 \n",
    "            curr2 = next2 \n",
    "        else: \n",
    "            # если больше узлов в первом списке\n",
    "            if (next1.next): \n",
    "                next1 = next1.next\n",
    "                curr1 = curr1.next\n",
    "            # иначе указать последний узел первого списка к остальным узлам второго списка\n",
    "            else: \n",
    "                next1.next = curr2 \n",
    "                return h1 \n",
    "\n",
    "    return h1 \n",
    "\n",
    "  \n",
    "# Объединяет два заданных списка на месте. Эта функция в основном сравнивает голову узлы и вызовы mergeUtil()\n",
    "def merge(h1, h2): \n",
    "    if (h1 == None): \n",
    "        return h2 \n",
    "\n",
    "    if (h2 == None): \n",
    "        return h1 \n",
    "\n",
    "    # Начнем со связанного списка, данные заголовка которого наименьшие\n",
    "    if (h1.data < h2.data): \n",
    "        return mergeUtil(h1, h2) \n",
    "    else: \n",
    "        return mergeUtil(h2, h1)"
   ]
  },
  {
   "cell_type": "markdown",
   "id": "5289c0ac",
   "metadata": {},
   "source": [
    "### 39. Max Consecutive Ones III"
   ]
  },
  {
   "cell_type": "markdown",
   "id": "35c5e292",
   "metadata": {},
   "source": [
    "Дан двоичный массив nums и целое число k, вернуть максимальное количество последовательных единиц в массиве, если вы можете поменять не более k нулей."
   ]
  },
  {
   "cell_type": "code",
   "execution_count": 4,
   "id": "6d190d56",
   "metadata": {},
   "outputs": [],
   "source": [
    "# Time O(n)\n",
    "# Space O(1)\n",
    "from typing import List\n",
    "\n",
    "class Solution:\n",
    "    def longestOnes(self, nums: List[int], k: int) -> int:\n",
    "        if not nums or len(nums) == 0:\n",
    "            return 0\n",
    "\n",
    "        left, right = 0, 0\n",
    "        if nums[right] == 0:\n",
    "            k -= 1\n",
    "\n",
    "        n = len(nums)\n",
    "        max_length = 0\n",
    "\n",
    "        for left in range(n):\n",
    "\n",
    "            while right + 1 < n and ( (k > 0) or nums[right + 1] == 1 ):\n",
    "                if nums[right + 1] == 0:\n",
    "                    k -= 1\n",
    "                right += 1\n",
    "\n",
    "            if k >= 0:\n",
    "                max_length = max(max_length, right - left + 1)\n",
    "\n",
    "            if nums[left] == 0:\n",
    "                k += 1\n",
    "\n",
    "        return max_length"
   ]
  },
  {
   "cell_type": "markdown",
   "id": "e580c2e1",
   "metadata": {},
   "source": [
    "### 40. Longest Palindromic Substring"
   ]
  },
  {
   "cell_type": "markdown",
   "id": "2f420e58",
   "metadata": {},
   "source": [
    "Учитывая строку s, вернуть самый длинный палиндром"
   ]
  },
  {
   "cell_type": "code",
   "execution_count": 7,
   "id": "be484e8b",
   "metadata": {},
   "outputs": [],
   "source": [
    "# Time O(n2)\n",
    "# Space O(1)\n",
    "\n",
    "def longestPalindrome(s):\n",
    "    res = \"\"\n",
    "    for i in range(len(s)):        \n",
    "        odd  = palindromeAt(s, i, i)\n",
    "        even = palindromeAt(s, i, i+1)\n",
    "        \n",
    "        res = max(res, odd, even, key=len)\n",
    "    return res\n",
    " \n",
    "# начиная с l,r расширить наружу, чтобы найти самый большой палиндром\n",
    "def palindromeAt(s, l, r):    \n",
    "    while l >= 0 and r < len(s) and s[l] == s[r]:\n",
    "        l -= 1\n",
    "        r += 1\n",
    "    return s[l+1:r]"
   ]
  },
  {
   "cell_type": "markdown",
   "id": "af2b7c5c",
   "metadata": {},
   "source": [
    "### 41. Jewels and Stones"
   ]
  },
  {
   "cell_type": "markdown",
   "id": "775b83c2",
   "metadata": {},
   "source": [
    "Вам даны нити драгоценностей, представляющие типы камней, которые являются драгоценностями, и камни, представляющие камни, которые у вас есть. Каждый символ в камнях - это тип камня, который у вас есть. Вы хотите знать, сколько из камней, которые у вас есть, также являются драгоценностями.\n",
    "\n",
    "Буквы чувствительны к регистру, поэтому «а» считается отличным от «А» типом камня."
   ]
  },
  {
   "cell_type": "code",
   "execution_count": 10,
   "id": "f4781251",
   "metadata": {},
   "outputs": [],
   "source": [
    "# Time O(n)\n",
    "# Space O(1)\n",
    "\n",
    "def count_jewels_in_stones2(J, S):\n",
    "    s_set = set(J)\n",
    "    count_jewels_in_collection = 0\n",
    "\n",
    "    for item in S:\n",
    "        if item in s_set:\n",
    "            count_jewels_in_collection += 1\n",
    "    return count_jewels_in_collection"
   ]
  },
  {
   "cell_type": "markdown",
   "id": "fd14f9ea",
   "metadata": {},
   "source": [
    "### 42. Lowest Common Ancestor of a Binary Tree"
   ]
  },
  {
   "cell_type": "markdown",
   "id": "4823570e",
   "metadata": {},
   "source": [
    "Для заданного бинарного дерева найдите наименьшего общего предка (LCA) двух заданных узлов в дереве.\n",
    "\n",
    "Согласно определению LCA в Википедии: «Наименьший общий предок определяется между двумя узлами p и q как наименьший узел в T, у которого есть потомки p и q (где мы позволяем узлу быть потомком самого себя). ”"
   ]
  },
  {
   "cell_type": "code",
   "execution_count": 12,
   "id": "7aafb8e1",
   "metadata": {},
   "outputs": [],
   "source": [
    "# Time O(n)\n",
    "# Space O(n)\n",
    "\n",
    "class LowestCommonAncestorFinder:\n",
    "    def lowestCommonAncestor(self, root, p, q):\n",
    "        stack = [root]\n",
    "        parent = {root: None}\n",
    "        while stack:\n",
    "            node = stack.pop()\n",
    "            if node.left:\n",
    "                parent[node.left] = node\n",
    "                stack.append(node.left)\n",
    "            if node.right:\n",
    "                parent[node.right] = node\n",
    "                stack.append(node.right)\n",
    "        ancestors = set()\n",
    "        while p:\n",
    "            ancestors.add(p)\n",
    "            p = parent[p]\n",
    "        while q not in ancestors:\n",
    "            q = parent[q]\n",
    "        return q"
   ]
  },
  {
   "cell_type": "markdown",
   "id": "0a894263",
   "metadata": {},
   "source": [
    "### 43. Intersection Of Two Arrays ii"
   ]
  },
  {
   "cell_type": "markdown",
   "id": "7bf34c45",
   "metadata": {},
   "source": [
    "Даны два целочисленных массива nums1 и nums2, вернуть массив их пересечения. Каждый элемент в результате должен появляться столько раз, сколько он отображается в обоих массивах, и вы можете возвращать результат в любом порядке."
   ]
  },
  {
   "cell_type": "code",
   "execution_count": 13,
   "id": "3a19caca",
   "metadata": {},
   "outputs": [],
   "source": [
    "class Solution(object):\n",
    "    def intersect(self, nums1, nums2):\n",
    "\n",
    "        counts = {}\n",
    "        res = []\n",
    "\n",
    "        for num in nums1:\n",
    "            counts[num] = counts.get(num, 0) + 1\n",
    "\n",
    "        for num in nums2:\n",
    "            if num in counts and counts[num] > 0:\n",
    "                res.append(num)\n",
    "                counts[num] -= 1\n",
    "\n",
    "        return res"
   ]
  },
  {
   "cell_type": "code",
   "execution_count": 14,
   "id": "d762ad5a",
   "metadata": {},
   "outputs": [],
   "source": [
    "# Time O(mlogm + nlogn)\n",
    "# Space O(1)\n",
    "\n",
    "class Solution:\n",
    "    def intersect(self, nums1, nums2):\n",
    "        # подход: отсортировать два списка и использовать два указателя для сравнения\n",
    "\n",
    "        nums1.sort()\n",
    "        nums2.sort()\n",
    "        \n",
    "        p1 = p2 = 0\n",
    "        result = []\n",
    "\n",
    "        while p1 < len(nums1) and p2 < len(nums2):\n",
    "            num1 = nums1[p1]\n",
    "            num2 = nums2[p2]\n",
    "\n",
    "            if num1 < num2:\n",
    "                p1 += 1\n",
    "            elif num1 > num2:\n",
    "                p2 += 1\n",
    "            else:\n",
    "                result.append(num1)\n",
    "                p1 += 1\n",
    "                p2 += 1\n",
    "\n",
    "        return result"
   ]
  },
  {
   "cell_type": "markdown",
   "id": "c56b2613",
   "metadata": {},
   "source": [
    "### 44. Missing number"
   ]
  },
  {
   "cell_type": "markdown",
   "id": "3564bc35",
   "metadata": {},
   "source": [
    "Дан массив nums, содержащий n различных чисел в диапазоне [0, n], вернуть единственное число в диапазоне, отсутствующее в массиве."
   ]
  },
  {
   "cell_type": "code",
   "execution_count": 15,
   "id": "c50ced2a",
   "metadata": {},
   "outputs": [],
   "source": [
    "class Solution:\n",
    "    def missingNumber(self, nums: List[int]) -> int:\n",
    "        n = len(nums)\n",
    "        n_elements_sum = n * (n+1) // 2\n",
    "        return n_elements_sum - sum(nums)"
   ]
  },
  {
   "cell_type": "markdown",
   "id": "c6d7f558",
   "metadata": {},
   "source": [
    "### 45. Evaluate Reverse Polish Notation"
   ]
  },
  {
   "cell_type": "code",
   "execution_count": null,
   "id": "0f734947",
   "metadata": {},
   "outputs": [],
   "source": [
    "# Time O(n)\n",
    "# Space O(n)\n",
    "\n",
    "import math\n",
    "\n",
    "class Solution:\n",
    "    def evalRPN(self, tokens: List[str]) -> int:\n",
    "        stack = []\n",
    "        operators = {'+', '-', '*', '/'}\n",
    "        \n",
    "        if len(tokens) == 1:\n",
    "            return int(tokens[0])\n",
    "        for token in tokens:\n",
    "            if token not in operators:\n",
    "                stack.append(int(token))\n",
    "            else:\n",
    "                sec_operand = stack.pop()\n",
    "                fir_operand = stack.pop()\n",
    "                tmp = 0\n",
    "                if token == '+':\n",
    "                    tmp = fir_operand + sec_operand\n",
    "                elif token == '-':\n",
    "                    tmp = fir_operand - sec_operand\n",
    "                elif token == '*':\n",
    "                    tmp = fir_operand * sec_operand\n",
    "                elif token == '/':\n",
    "                    tmp = fir_operand / sec_operand\n",
    "                    tmp = math.trunc(tmp)\n",
    "                stack.append(tmp)\n",
    "                \n",
    "        return stack.pop()"
   ]
  },
  {
   "cell_type": "markdown",
   "id": "3cd91c8c",
   "metadata": {},
   "source": [
    "### 46. Median of two sorted arrays"
   ]
  },
  {
   "cell_type": "markdown",
   "id": "1ac73f82",
   "metadata": {},
   "source": [
    "Даны два отсортированных массива nums1 и nums2 размера m и n соответственно, вернуть медиану двух отсортированных массивов.\n",
    "\n",
    "Общая сложность времени выполнения должна быть O(log (m+n))."
   ]
  },
  {
   "cell_type": "code",
   "execution_count": 17,
   "id": "c35b67cb",
   "metadata": {},
   "outputs": [],
   "source": [
    "# Time O(log(m+n))\n",
    "\n",
    "class Solution:\n",
    "    def findMedianSortedArrays(self, nums1: List[int], nums2: List[int]) -> float:\n",
    "        num = nums1 + nums2\n",
    "        num = sorted(num)\n",
    "        l = len(num)\n",
    "        if l % 2 == 0:\n",
    "            return (num[l//2-1] + num[l//2]) / 2 * 1.0\n",
    "        else:\n",
    "            return num[l//2] * 1.0"
   ]
  },
  {
   "cell_type": "code",
   "execution_count": null,
   "id": "b9cf8450",
   "metadata": {},
   "outputs": [],
   "source": [
    "# Time O(log(min(n,m)))\n",
    "\n",
    "class Solution:\n",
    "    def findMedianSortedArrays(self, A, B):\n",
    "        l = len(A) + len(B)\n",
    "        if l % 2 == 1:\n",
    "            return self.findKth(A, B, l//2)\n",
    "        else:\n",
    "            return (self.findKth(A, B, l//2 - 1) + self.findKth(A, B, l//2)) / 2.0\n",
    "            \n",
    "            \n",
    "    def findKth(self, A, B, k):\n",
    "        if len(A) > len(B):\n",
    "            A, B = (B, A)\n",
    "        if not A:\n",
    "            return B[k]\n",
    "        if k == len(A) + len(B) - 1:\n",
    "            return max(A[-1], B[-1])\n",
    "    \n",
    "        i = min(len(A)-1, k/2)\n",
    "        j = min(len(B)-1, k-i)\n",
    "    \n",
    "        if A[i] > B[j]:\n",
    "            return self.kth(A[:i], B[j:], i)\n",
    "        else:\n",
    "            return self.kth(A[i:], B[:j], j)"
   ]
  },
  {
   "cell_type": "markdown",
   "id": "203b3ecd",
   "metadata": {},
   "source": [
    "### 47. Simplify Path"
   ]
  },
  {
   "cell_type": "markdown",
   "id": "aab9124c",
   "metadata": {},
   "source": [
    "- Input: path = \"/home//foo/\"\n",
    "- Output: \"/home/foo\""
   ]
  },
  {
   "cell_type": "code",
   "execution_count": 18,
   "id": "2f7163b0",
   "metadata": {},
   "outputs": [],
   "source": [
    "class Solution:\n",
    "    def simplifyPath(self, path: str) -> str:\n",
    "        path = path.split('/')\n",
    "        res = \"\"\n",
    "        res_stack = []\n",
    "        for index, char in enumerate(path):\n",
    "            if char == \"..\":\n",
    "                if res_stack:\n",
    "                    res_stack.pop()\n",
    "            elif char == \".\" or char == \"\":\n",
    "                pass\n",
    "            else:\n",
    "                res_stack.append('/' + char)\n",
    "        if len(res_stack) == 0:\n",
    "            return \"/\"\n",
    "        return res.join(res_stack)"
   ]
  },
  {
   "cell_type": "markdown",
   "id": "4762bd98",
   "metadata": {},
   "source": [
    "### 48. Is Subsequence"
   ]
  },
  {
   "cell_type": "markdown",
   "id": "1e7dd70f",
   "metadata": {},
   "source": [
    "Имея две строки s и t, вернуть true, если s является подпоследовательностью t, или false в противном случае.\n",
    "\n",
    "Подпоследовательность строки — это новая строка, образованная из исходной строки путем удаления некоторых (может быть ни одного) символов без нарушения взаимного расположения оставшихся символов. (т. е. «ace» является подпоследовательностью «abcde», а «aec» — нет)."
   ]
  },
  {
   "cell_type": "code",
   "execution_count": 19,
   "id": "93b70187",
   "metadata": {},
   "outputs": [],
   "source": [
    "# Time O(n)\n",
    "# Space O(1)\n",
    "\n",
    "class Solution:\n",
    "    def isSubsequence(self, s: str, t: str) -> bool:\n",
    "        if not s:\n",
    "            return True\n",
    "        i = 0\n",
    "        \n",
    "        for c in t:\n",
    "            if c == s[i]:\n",
    "                i += 1\n",
    "            if i >= len(s):\n",
    "                break\n",
    "        \n",
    "        if i == len(s):     \n",
    "            return True\n",
    "        \n",
    "        return False"
   ]
  },
  {
   "cell_type": "markdown",
   "id": "166eb423",
   "metadata": {},
   "source": [
    "### 49. Squares Of A Sorted Array"
   ]
  },
  {
   "cell_type": "markdown",
   "id": "b6a7bdee",
   "metadata": {},
   "source": [
    "Дан целочисленный массив nums, отсортированный в неубывающем порядке, вернуть массив квадратов каждого числа, отсортированного в неубывающем порядке.\n",
    "\n",
    "- Input: nums = [-4,-1,0,3,10]\n",
    "\n",
    "- Output: [0,1,9,16,100]"
   ]
  },
  {
   "cell_type": "code",
   "execution_count": null,
   "id": "2992f4bc",
   "metadata": {},
   "outputs": [],
   "source": [
    "# Time O(n)\n",
    "\n",
    "def sortedSquares(self, A):\n",
    "    answer = [0] * len(A)\n",
    "    l, r = 0, len(A) - 1\n",
    "    \n",
    "    while l <= r:\n",
    "        left, right = abs(A[l]), abs(A[r])\n",
    "        if left > right:\n",
    "            answer[r - l] = left * left\n",
    "            l += 1\n",
    "        else:\n",
    "            answer[r - l] = right * right\n",
    "            r -= 1\n",
    "    return answer"
   ]
  },
  {
   "cell_type": "markdown",
   "id": "d2561051",
   "metadata": {},
   "source": [
    "### 50. Remove Nth Node From End of List"
   ]
  },
  {
   "cell_type": "code",
   "execution_count": null,
   "id": "593142a7",
   "metadata": {},
   "outputs": [],
   "source": [
    "# Time O(n)\n",
    "\n",
    "class Solution:\n",
    "    def removeNthFromEnd(self, head: Optional[ListNode], n: int) -> Optional[ListNode]:\n",
    "        fast, slow = head, head\n",
    "        for _ in range(n):\n",
    "            fast = fast.next\n",
    "            \n",
    "        if not fast:\n",
    "            return head.next\n",
    "        \n",
    "        while fast.next:\n",
    "            fast, slow = fast.next, slow.next\n",
    "        slow.next = slow.next.next\n",
    "        return head"
   ]
  },
  {
   "cell_type": "markdown",
   "id": "7f46a8ef",
   "metadata": {},
   "source": [
    "### 51. Perfect Squares"
   ]
  },
  {
   "cell_type": "markdown",
   "id": "a52cf03d",
   "metadata": {},
   "source": [
    "Given an integer n, return the least number of perfect square numbers that sum to n.\n",
    "\n",
    "- Input: n = 12\n",
    "- Output: 3\n",
    "- Explanation: 12 = 4 + 4 + 4."
   ]
  },
  {
   "cell_type": "code",
   "execution_count": 29,
   "id": "c22d5389",
   "metadata": {},
   "outputs": [],
   "source": [
    "# Time O(sqrt(n))\n",
    "# Space O(1)\n",
    "\n",
    "class Solution:\n",
    "    def numSquares(self, n):\n",
    "        if int(sqrt(n)) ** 2 == n:\n",
    "            return 1\n",
    "        for j in range(int(sqrt(n)) + 1):\n",
    "            if int(sqrt(n - j*j))**2 == n - j*j:\n",
    "                return 2\n",
    "            \n",
    "        while n % 4 == 0: \n",
    "            n >>= 2\n",
    "        if n % 8 == 7:\n",
    "            return 4\n",
    "        return 3"
   ]
  },
  {
   "cell_type": "markdown",
   "id": "00f33aff",
   "metadata": {},
   "source": [
    "### 52. Max Stack"
   ]
  },
  {
   "cell_type": "markdown",
   "id": "01e3f348",
   "metadata": {},
   "source": [
    "Разработайте максимальный стек, который поддерживает push, pop, top, peekMax и popMax.\n",
    "\n",
    "- push(x) — Поместить элемент x в стек.\n",
    "- pop() — удалить элемент с вершины стека и вернуть его.\n",
    "- top() — Получить элемент сверху.\n",
    "- peekMax() — Получить максимальный элемент в стеке.\n",
    "- popMax() — получает максимальный элемент в стеке и удаляет его. Если вы найдете более одного максимального элемента, удалите только самый верхний."
   ]
  },
  {
   "cell_type": "code",
   "execution_count": 30,
   "id": "5ad79d2c",
   "metadata": {},
   "outputs": [],
   "source": [
    "class MaxStack(object):\n",
    "\n",
    "    def __init__(self):\n",
    "        self.stack = []\n",
    "        self.max_stack = []\n",
    "\n",
    "    def push(self, x):\n",
    "        self.stack.append(x)\n",
    "        if len(self.max_stack) == 0:\n",
    "            self.max_stack.append(x)\n",
    "            return\n",
    "        \n",
    "        if self.max_stack[-1] > x:\n",
    "            self.max_stack.append(self.max_stack[-1])\n",
    "        else:\n",
    "            self.max_stack.append(x)\n",
    "\n",
    "    def pop(self):\n",
    "        if len(self.stack) != 0:\n",
    "            self.max_stack.pop(-1)\n",
    "            return self.stack.pop(-1)\n",
    "\n",
    "    def top(self):\n",
    "        return self.stack[-1]\n",
    "\n",
    "    def peekMax(self):\n",
    "        if len(self.max_stack) != 0:\n",
    "            return self.max_stack[-1]\n",
    "\n",
    "    def popMax(self):\n",
    "        val = self.peekMax()\n",
    "        buff = []\n",
    "        \n",
    "        while self.top() != val:\n",
    "            buff.append(self.pop())\n",
    "        self.pop()\n",
    "        \n",
    "        while len(buff) != 0:\n",
    "            self.push(buff.pop(-1))\n",
    "        return val"
   ]
  },
  {
   "cell_type": "markdown",
   "id": "f85d618e",
   "metadata": {},
   "source": [
    "### 53. Lowest common ancestor of a binary tree iii"
   ]
  },
  {
   "cell_type": "markdown",
   "id": "7b6336bf",
   "metadata": {},
   "source": [
    "Учитывая два узла бинарного дерева nodeA и nodeB, вернуть их наименьший общий предок (LCA). Каждый узел имеет следующие атрибуты: int val, Node left, Node right, int parent."
   ]
  },
  {
   "cell_type": "markdown",
   "id": "102a80bf",
   "metadata": {},
   "source": [
    "**Алгоритм**\n",
    "\n",
    "Этот метод немного сложен, и большинство людей не смогут придумать его за короткий промежуток времени.\n",
    "\n",
    "\n",
    "Идея такова: мы будем использовать 2 указателя (pointerA, pointerB), которые идут от nodeA и nodeB вверх соответственно. \n",
    "\n",
    "Предположим, что узел А расположен на более мелком уровне, чем узел В, т. е. глубина (узел А) < глубины (узел В), указатель А достигнет вершины быстрее, чем указатель В.\n",
    "\n",
    "\n",
    "Предположим, что разница в глубине между узлом A и узлом B равна diff, к тому времени, когда указатель A достигнет вершины, указатель B будет отставать от него на разные уровни. Теперь, если указатель A сбрасывает свой путь и продолжает движение вверх от узла B вместо узла A, ему потребуются различные шаги, чтобы достичь уровня узла A, к тому времени указатель B уже догнал и будет на том же уровне указателя A (указатель B перезапустится с узла A после достигнув вершины).\n",
    "\n",
    "\n",
    "Теперь единственное, что нужно сделать, это сравнить указатель A и указатель B на пути вверх. Если pointerA и pointerB указывают на один и тот же узел, мы нашли самого младшего общего предка."
   ]
  },
  {
   "cell_type": "code",
   "execution_count": 31,
   "id": "836e2afe",
   "metadata": {},
   "outputs": [],
   "source": [
    "# Time O(n)\n",
    "# Space O(1)\n",
    "\n",
    "def lowestCommonAncestor(self, a, b):\n",
    "    pointerA, pointerB = a, b\n",
    "        \n",
    "    while pointerA != pointerB:\n",
    "        pointerA = pointerA.parent if pointerA else b\n",
    "        pointerB = pointerB.parent if pointerA else a\n",
    "            \n",
    "    return pointerA"
   ]
  },
  {
   "cell_type": "markdown",
   "id": "e3291555",
   "metadata": {},
   "source": [
    "**Алгоритм**\n",
    "\n",
    "Один из способов решить эту проблему — пройти от одного из узлов до самого верха и сохранить всех предков в хэш-карте. После этого мы перейдем от другого узла к вершине дерева и вернем узел, если он уже есть в хэш-карте. Если да, то мы нашли низшего общего предка."
   ]
  },
  {
   "cell_type": "code",
   "execution_count": 33,
   "id": "6d6b5ef3",
   "metadata": {},
   "outputs": [],
   "source": [
    "# Time O(n)\n",
    "# Space O(n)\n",
    "\n",
    "def lowestCommonAncestor(self, a: 'Node', b: 'Node') -> 'Node':\n",
    "    ancestors = set()\n",
    "    \n",
    "    while a is not None:\n",
    "        ancestors.add(a)\n",
    "        a = a.parent\n",
    "        \n",
    "    while b is not None:\n",
    "        if b in ancestors:\n",
    "            return b\n",
    "        b = b.parent"
   ]
  },
  {
   "cell_type": "markdown",
   "id": "56957102",
   "metadata": {},
   "source": [
    "### 54. Longest substring with at most two distinct characters"
   ]
  },
  {
   "cell_type": "code",
   "execution_count": 34,
   "id": "c8550a35",
   "metadata": {},
   "outputs": [],
   "source": [
    "# Time:  O(n)\n",
    "# Space: O(1)\n",
    "\n",
    "class Solution():\n",
    "    def lengthOfLongestSubstringTwoDistinct(self, s):\n",
    "        longest, start, distinct_count, visited = 0, 0, 0, [0 for _ in range(256)]\n",
    "        \n",
    "        for i, char in enumerate(s):\n",
    "            if visited[ord(char)] == 0:\n",
    "                distinct_count += 1\n",
    "                \n",
    "            visited[ord(char)] += 1\n",
    "            \n",
    "            while distinct_count > 2:\n",
    "                visited[ord(s[start])] -= 1\n",
    "                if visited[ord(s[start])] == 0:\n",
    "                    distinct_count -= 1\n",
    "                start += 1\n",
    "                \n",
    "            longest = max(longest, i - start + 1)\n",
    "        return longest"
   ]
  },
  {
   "cell_type": "markdown",
   "id": "b044f162",
   "metadata": {},
   "source": [
    "### 55. Maximal Rectangle"
   ]
  },
  {
   "cell_type": "markdown",
   "id": "4b45878a",
   "metadata": {},
   "source": [
    "Дана бинарная матрица строк x столбцов, заполненная нулями и единицами, найти самый большой прямоугольник, содержащий только единицы, и вернуть его площадь."
   ]
  },
  {
   "cell_type": "markdown",
   "id": "7f78af0f",
   "metadata": {},
   "source": [
    "Наконец, есть очень умный способ со сложностью O(nm), использующий задачу 0084. Действительно, для каждой строки мы можем вычислить высоту нашей линии горизонта, учитывая предыдущую строку за O(m) и сделать это n раз. Дополнительная сложность — O(m), потому что на самом деле нам нужно хранить только одну строку за раз."
   ]
  },
  {
   "cell_type": "code",
   "execution_count": 35,
   "id": "88efedf2",
   "metadata": {},
   "outputs": [],
   "source": [
    "# Time O(nm)\n",
    "# Space O(m)\n",
    "\n",
    "class Solution:\n",
    "    def maximalRectangle(self, matrix):\n",
    "        def hist(heights):\n",
    "            stack, ans = [], 0\n",
    "            for i, h in enumerate(heights + [0]):\n",
    "                while stack and heights[stack[-1]] >= h:\n",
    "                    H = heights[stack.pop()]\n",
    "                    W = i if not stack else i-stack[-1]-1\n",
    "                    ans = max(ans, H*W)\n",
    "                stack.append(i)\n",
    "            return ans\n",
    "        \n",
    "        if not matrix or not matrix[0]:\n",
    "            return 0\n",
    "        m, n, ans = len(matrix[0]), len(matrix), 0\n",
    "        row = [0] * m\n",
    "        for i in range(n):\n",
    "            for j in range(m):\n",
    "                row[j] = 0 if matrix[i][j] == \"0\" else row[j] + 1\n",
    "            ans = max(ans, hist(row))\n",
    "            \n",
    "        return ans"
   ]
  },
  {
   "cell_type": "markdown",
   "id": "7fdf887f",
   "metadata": {},
   "source": [
    "### 56. Search in Rotated Sorted Array"
   ]
  },
  {
   "cell_type": "markdown",
   "id": "d63bb619",
   "metadata": {},
   "source": [
    "- Input: nums = [4,5,6,7,0,1,2], target = 0\n",
    "- Output: 4"
   ]
  },
  {
   "cell_type": "code",
   "execution_count": 37,
   "id": "edb9b14c",
   "metadata": {},
   "outputs": [],
   "source": [
    "# Time O(logn)\n",
    "# Space O(1)\n",
    "\n",
    "class Solution:\n",
    "    def search(self, nums, target):\n",
    "        low = 0\n",
    "        high = len(nums)\n",
    "        \n",
    "        while low < high:\n",
    "            mid = low + (high-low)//2\n",
    "            if nums[mid] == target:\n",
    "                return mid\n",
    "            if nums[low] <= nums[mid]:\n",
    "                if target >= nums[low] and target < nums[mid]:\n",
    "                    high = mid\n",
    "                else:\n",
    "                    low = mid + 1\n",
    "            else:\n",
    "                if target <= nums[high-1] and target > nums[mid]:\n",
    "                    low = mid + 1\n",
    "                else:\n",
    "                    high = mid\n",
    "        return -1"
   ]
  },
  {
   "cell_type": "markdown",
   "id": "99d508d4",
   "metadata": {},
   "source": [
    "### 57. Two Sum II - Input Array Is Sorted"
   ]
  },
  {
   "cell_type": "markdown",
   "id": "3ec6b28f",
   "metadata": {},
   "source": [
    "- Input: numbers = [2,7,11,15], target = 9\n",
    "- Output: [1,2]\n",
    "- Explanation: The sum of 2 and 7 is 9. Therefore, index1 = 1, index2 = 2. We return [1, 2]."
   ]
  },
  {
   "cell_type": "code",
   "execution_count": 39,
   "id": "d44ae6c6",
   "metadata": {},
   "outputs": [],
   "source": [
    "# Time O(n)\n",
    "# Space O(1)\n",
    "\n",
    "class Solution:\n",
    "    def twoSum(self, numbers: List[int], target: int) -> List[int]:        \n",
    "        i = 0\n",
    "        j = len(numbers) - 1\n",
    "        \n",
    "        while i < j:\n",
    "            if numbers[i] + numbers[j] < target:\n",
    "                i += 1\n",
    "            elif numbers[i] + numbers[j] > target:\n",
    "                j -= 1\n",
    "            else:\n",
    "                return [i + 1, j + 1]\n",
    "            \n",
    "        return []"
   ]
  },
  {
   "cell_type": "markdown",
   "id": "8de5e7a8",
   "metadata": {},
   "source": [
    "### 58. Remove Duplicates from Sorted Array - Space O(1)"
   ]
  },
  {
   "cell_type": "markdown",
   "id": "99d5c4e1",
   "metadata": {},
   "source": [
    "- Input: nums = [0,0,1,1,1,2,2,3,3,4]\n",
    "- Output: 5, nums = [0,1,2,3,4,,,,,]"
   ]
  },
  {
   "cell_type": "code",
   "execution_count": 40,
   "id": "870eab84",
   "metadata": {},
   "outputs": [],
   "source": [
    "class Solution:\n",
    "    def removeDuplicates(self, nums: List[int]) -> int:\n",
    "        if len(nums) == 0:\n",
    "            return 0\n",
    "        \n",
    "        length = 1\n",
    "        previous = nums[0]\n",
    "        index = 1\n",
    "        \n",
    "        for i in range(1, len(nums)):\n",
    "            if nums[i] != previous:\n",
    "                length += 1\n",
    "                previous = nums[i]\n",
    "                nums[index] = nums[i]\n",
    "                index+=1\n",
    "        return length"
   ]
  },
  {
   "cell_type": "markdown",
   "id": "73db24aa",
   "metadata": {},
   "source": [
    "### 59. Find minium in rotated sorted array"
   ]
  },
  {
   "cell_type": "markdown",
   "id": "3756c787",
   "metadata": {},
   "source": [
    "[3,4,5,1,2] -> 1"
   ]
  },
  {
   "cell_type": "code",
   "execution_count": 4,
   "id": "6ee263f0",
   "metadata": {},
   "outputs": [],
   "source": [
    "from typing import List\n",
    "\n",
    "# Time O(logn)\n",
    "# Space O(1)\n",
    "\n",
    "class Solution:\n",
    "    def findMin(self, nums: List[int]) -> int:\n",
    "        # Если в списке только один элемент, вернуть этот элемент.\n",
    "        if len(nums) == 1:\n",
    "            return nums[0]\n",
    "\n",
    "        \n",
    "        left = 0\n",
    "        right = len(nums) - 1\n",
    "\n",
    "        # если последний элемент больше первого, то вращения нет.\n",
    "        # например 1 < 2 < 3 < 4 < 5 < 7. Уже отсортированный массив.\n",
    "        # Следовательно, наименьший элемент является первым элементом. А[0]\n",
    "        if nums[right] > nums[0]:\n",
    "            return nums[0]\n",
    "\n",
    "        while right >= left:\n",
    "\n",
    "            mid = left + (right - left) // 2\n",
    "\n",
    "            # если средний элемент больше, чем его следующий элемент, \n",
    "            # то элемент mid+1 является наименьшим\n",
    "            # Эта точка будет точкой изменения. \n",
    "            # От большего значения к меньшему.\n",
    "            if nums[mid] > nums[mid + 1]:\n",
    "                return nums[mid + 1]\n",
    "            \n",
    "            # если средний элемент меньше предыдущего, \n",
    "            # то средний элемент наименьший\n",
    "            if nums[mid - 1] > nums[mid]:\n",
    "                return nums[mid]\n",
    "\n",
    "            # если значение среднего элемента больше, \n",
    "            # чем 0-й элемент, это означает\n",
    "            # наименьшее значение по-прежнему где-то справа, \n",
    "            # так как мы по-прежнему имеем дело с элементами больше, чем nums[0]\n",
    "            if nums[mid] > nums[0]:\n",
    "                left = mid + 1\n",
    "                \n",
    "            # если nums[0] больше среднего значения, \n",
    "            # это означает, что наименьшее значение находится где-то слева\n",
    "            else:\n",
    "                right = mid - 1"
   ]
  },
  {
   "cell_type": "markdown",
   "id": "7ea2d8a2",
   "metadata": {},
   "source": [
    "### 60. Range sum of BST"
   ]
  },
  {
   "cell_type": "markdown",
   "id": "7a1937d8",
   "metadata": {},
   "source": [
    "вернуть сумму значений всех узлов со значением в инклюзивном диапазоне [low, high]."
   ]
  },
  {
   "cell_type": "markdown",
   "id": "1af9ad38",
   "metadata": {},
   "source": [
    "Мы проходим по дереву, используя поиск в глубину. \n",
    "Если node.val выходит за пределы диапазона [low, high] (например, node.val < low), то мы знаем, \n",
    "что только правая ветвь может иметь узлы со значением внутри [low, high].\n",
    "\n",
    "Мы демонстрируем две реализации — одну с использованием рекурсивного алгоритма, а другую — с итеративным."
   ]
  },
  {
   "cell_type": "code",
   "execution_count": 6,
   "id": "0a34e287",
   "metadata": {},
   "outputs": [
    {
     "ename": "NameError",
     "evalue": "name 'TreeNode' is not defined",
     "output_type": "error",
     "traceback": [
      "\u001b[0;31m---------------------------------------------------------------------------\u001b[0m",
      "\u001b[0;31mNameError\u001b[0m                                 Traceback (most recent call last)",
      "\u001b[0;32m/var/folders/1f/0qfny53s1f54hmwr3c2dpq9w0000gn/T/ipykernel_79720/3111127895.py\u001b[0m in \u001b[0;36m<module>\u001b[0;34m\u001b[0m\n\u001b[1;32m      1\u001b[0m \u001b[0;32mfrom\u001b[0m \u001b[0mtyping\u001b[0m \u001b[0;32mimport\u001b[0m \u001b[0mOptional\u001b[0m\u001b[0;34m\u001b[0m\u001b[0;34m\u001b[0m\u001b[0m\n\u001b[1;32m      2\u001b[0m \u001b[0;34m\u001b[0m\u001b[0m\n\u001b[0;32m----> 3\u001b[0;31m \u001b[0;32mclass\u001b[0m \u001b[0mSolution\u001b[0m\u001b[0;34m:\u001b[0m\u001b[0;34m\u001b[0m\u001b[0;34m\u001b[0m\u001b[0m\n\u001b[0m\u001b[1;32m      4\u001b[0m     \u001b[0;32mdef\u001b[0m \u001b[0mrangeSumBST\u001b[0m\u001b[0;34m(\u001b[0m\u001b[0mself\u001b[0m\u001b[0;34m,\u001b[0m \u001b[0mroot\u001b[0m\u001b[0;34m:\u001b[0m \u001b[0mOptional\u001b[0m\u001b[0;34m[\u001b[0m\u001b[0mTreeNode\u001b[0m\u001b[0;34m]\u001b[0m\u001b[0;34m,\u001b[0m \u001b[0mlow\u001b[0m\u001b[0;34m:\u001b[0m \u001b[0mint\u001b[0m\u001b[0;34m,\u001b[0m \u001b[0mhigh\u001b[0m\u001b[0;34m:\u001b[0m \u001b[0mint\u001b[0m\u001b[0;34m)\u001b[0m \u001b[0;34m->\u001b[0m \u001b[0mint\u001b[0m\u001b[0;34m:\u001b[0m\u001b[0;34m\u001b[0m\u001b[0;34m\u001b[0m\u001b[0m\n\u001b[1;32m      5\u001b[0m         \u001b[0mans\u001b[0m \u001b[0;34m=\u001b[0m \u001b[0;36m0\u001b[0m\u001b[0;34m\u001b[0m\u001b[0;34m\u001b[0m\u001b[0m\n",
      "\u001b[0;32m/var/folders/1f/0qfny53s1f54hmwr3c2dpq9w0000gn/T/ipykernel_79720/3111127895.py\u001b[0m in \u001b[0;36mSolution\u001b[0;34m()\u001b[0m\n\u001b[1;32m      2\u001b[0m \u001b[0;34m\u001b[0m\u001b[0m\n\u001b[1;32m      3\u001b[0m \u001b[0;32mclass\u001b[0m \u001b[0mSolution\u001b[0m\u001b[0;34m:\u001b[0m\u001b[0;34m\u001b[0m\u001b[0;34m\u001b[0m\u001b[0m\n\u001b[0;32m----> 4\u001b[0;31m     \u001b[0;32mdef\u001b[0m \u001b[0mrangeSumBST\u001b[0m\u001b[0;34m(\u001b[0m\u001b[0mself\u001b[0m\u001b[0;34m,\u001b[0m \u001b[0mroot\u001b[0m\u001b[0;34m:\u001b[0m \u001b[0mOptional\u001b[0m\u001b[0;34m[\u001b[0m\u001b[0mTreeNode\u001b[0m\u001b[0;34m]\u001b[0m\u001b[0;34m,\u001b[0m \u001b[0mlow\u001b[0m\u001b[0;34m:\u001b[0m \u001b[0mint\u001b[0m\u001b[0;34m,\u001b[0m \u001b[0mhigh\u001b[0m\u001b[0;34m:\u001b[0m \u001b[0mint\u001b[0m\u001b[0;34m)\u001b[0m \u001b[0;34m->\u001b[0m \u001b[0mint\u001b[0m\u001b[0;34m:\u001b[0m\u001b[0;34m\u001b[0m\u001b[0;34m\u001b[0m\u001b[0m\n\u001b[0m\u001b[1;32m      5\u001b[0m         \u001b[0mans\u001b[0m \u001b[0;34m=\u001b[0m \u001b[0;36m0\u001b[0m\u001b[0;34m\u001b[0m\u001b[0;34m\u001b[0m\u001b[0m\n\u001b[1;32m      6\u001b[0m         \u001b[0mstack\u001b[0m \u001b[0;34m=\u001b[0m \u001b[0;34m[\u001b[0m\u001b[0mroot\u001b[0m\u001b[0;34m]\u001b[0m\u001b[0;34m\u001b[0m\u001b[0;34m\u001b[0m\u001b[0m\n",
      "\u001b[0;31mNameError\u001b[0m: name 'TreeNode' is not defined"
     ]
    }
   ],
   "source": [
    "from typing import Optional\n",
    "\n",
    "class TreeNode:\n",
    "    def __init__(self, val=0, left=None, right=None):\n",
    "        self.val = val\n",
    "        self.left = left\n",
    "        self.right = right\n",
    "\n",
    "class Solution:\n",
    "    def rangeSumBST(self, root: Optional[TreeNode], low: int, high: int) -> int:\n",
    "        ans = 0\n",
    "        stack = [root]\n",
    "        while stack:\n",
    "            node = stack.pop()\n",
    "            if node:\n",
    "                if low <= node.val <= high:\n",
    "                    ans += node.val\n",
    "                if low < node.val:\n",
    "                    stack.append(node.left)\n",
    "                if node.val < high:\n",
    "                    stack.append(node.right)\n",
    "        return ans"
   ]
  },
  {
   "cell_type": "markdown",
   "id": "de507128",
   "metadata": {},
   "source": [
    "### 61. Partition Labels"
   ]
  },
  {
   "cell_type": "markdown",
   "id": "bee4a0b0",
   "metadata": {},
   "source": [
    "Вам дана строка s. Мы хотим разделить строку на как можно больше частей, чтобы каждая буква встречалась не более чем в одной части.\n",
    "\n",
    "Обратите внимание, что разбиение сделано таким образом, что после объединения всех частей по порядку результирующая строка должна быть s.\n",
    "\n",
    "Возвращает список целых чисел, представляющих размер этих частей."
   ]
  },
  {
   "cell_type": "code",
   "execution_count": 7,
   "id": "dc9e9fdc",
   "metadata": {},
   "outputs": [],
   "source": [
    "class Solution:\n",
    "    # Time: O(n), Space: O(1)\n",
    "    def partitionLabels(self, s: str) -> List[int]:\n",
    "        helper_dict = {}\n",
    "        for i, char in enumerate(s):\n",
    "            helper_dict[char] = i\n",
    "            \n",
    "        left, right = 0, 0\n",
    "        res = []\n",
    "        \n",
    "        for i, char in enumerate(s):\n",
    "            right = max(right, helper_dict[char])\n",
    "            if i == right:\n",
    "                res.append(right-left+1)\n",
    "                left = right + 1\n",
    "                \n",
    "        return res"
   ]
  },
  {
   "cell_type": "markdown",
   "id": "fb953776",
   "metadata": {},
   "source": [
    "### 62. Product of array except self"
   ]
  },
  {
   "cell_type": "markdown",
   "id": "27c04574",
   "metadata": {},
   "source": [
    "Учитывая целочисленный массив nums, вернуть такой массив ответа, что answer[i] равен произведению всех элементов nums, кроме nums[i].\n",
    "\n",
    "Произведение любого префикса или суффикса чисел гарантированно соответствует 32-битному целому числу.\n",
    "\n",
    "Вы должны написать алгоритм, который выполняется за время O(n) и не использует операцию деления."
   ]
  },
  {
   "cell_type": "code",
   "execution_count": 8,
   "id": "51b4ba68",
   "metadata": {},
   "outputs": [],
   "source": [
    "class Solution:\n",
    "    def productExceptSelf(self, nums: List[int]) -> List[int]:\n",
    "        ans = [1 for _ in nums]\n",
    "        \n",
    "        left = 1\n",
    "        right = 1\n",
    "        \n",
    "        for i in range(len(nums)):\n",
    "            ans[i] *= left\n",
    "            ans[-1-i] *= right\n",
    "            left *= nums[i]\n",
    "            right *= nums[-1-i]\n",
    "        \n",
    "        return ans"
   ]
  },
  {
   "cell_type": "markdown",
   "id": "c1870786",
   "metadata": {},
   "source": [
    "### 63. Binary Tree Maximum Path Sum"
   ]
  },
  {
   "cell_type": "markdown",
   "id": "07687443",
   "metadata": {},
   "source": [
    "Путь в бинарном дереве — это последовательность узлов, в которой каждая пара соседних узлов в последовательности имеет соединяющее их ребро. Узел может появиться в последовательности не более одного раза. Обратите внимание, что путь не обязательно должен проходить через корень.\n",
    "\n",
    "Сумма путей пути — это сумма значений узлов пути.\n",
    "\n",
    "Учитывая корень двоичного дерева, вернуть максимальную сумму пути любого непустого пути."
   ]
  },
  {
   "cell_type": "code",
   "execution_count": null,
   "id": "0f51eb98",
   "metadata": {},
   "outputs": [],
   "source": [
    "class Solution:\n",
    "    def max_path_sum(self, root: Optional[TreeNode]) -> int:\n",
    "        max_path = -float('inf')\n",
    "\n",
    "        # обход по порядку поддерева с корнем в `node`\n",
    "        def gain_from_subtree(node: Optional[TreeNode]) -> int:\n",
    "            nonlocal max_path\n",
    "\n",
    "            if not node:\n",
    "                return 0\n",
    "\n",
    "            # добавляем усиление из левого поддерева. Обратите внимание, что если\n",
    "            # коэффициент усиления отрицателен, его можно игнорировать или считать равным 0.\n",
    "            # Вот почему мы используем здесь `max`.\n",
    "            gain_from_left = max(gain_from_subtree(node.left), 0)\n",
    "\n",
    "            # добавить сумму усиления/пути из правого поддерева. 0, если отрицательный\n",
    "            gain_from_right = max(gain_from_subtree(node.right), 0)\n",
    "\n",
    "            # если левое или правое усиление отрицательно, они учитываются\n",
    "            # как 0, так что этот оператор заботится обо всех четырех сценариях\n",
    "            max_path = max(max_path, gain_from_left + gain_from_right + node.val)\n",
    "\n",
    "            # вернуть максимальную сумму для пути, начинающегося в корне поддерева\n",
    "            return max(\n",
    "                gain_from_left + node.val,\n",
    "                gain_from_right + node.val\n",
    "            )\n",
    "\n",
    "        gain_from_subtree(root)\n",
    "        return max_path"
   ]
  },
  {
   "cell_type": "markdown",
   "id": "dc98a838",
   "metadata": {},
   "source": [
    "### 64. Continuous Subarray Sum"
   ]
  },
  {
   "cell_type": "markdown",
   "id": "8f92067e",
   "metadata": {},
   "source": [
    "Дан массив и число. Определить, содержит ли массив хороший подмассив."
   ]
  },
  {
   "cell_type": "code",
   "execution_count": 10,
   "id": "30154331",
   "metadata": {},
   "outputs": [],
   "source": [
    "# Time O(n)\n",
    "# Space O(min{n, k})\n",
    "\n",
    "class Solution:\n",
    "    def checkSubarraySum(self, nums: List[int], k: int) -> bool:\n",
    "        # инициализируем словарь индексом 0 для суммы 0\n",
    "        hash_map = {0: 0}\n",
    "        s = 0\n",
    "        for i in range(len(nums)):\n",
    "            s += nums[i]\n",
    "            # если остаток s % k встречается впервые\n",
    "            if s % k not in hash_map:\n",
    "                hash_map[s % k] = i + 1\n",
    "                \n",
    "            # если размер подмассива не меньше двух\n",
    "            elif hash_map[s % k] < i:\n",
    "                return True\n",
    "        return False\n"
   ]
  },
  {
   "cell_type": "markdown",
   "id": "6cd88db7",
   "metadata": {},
   "source": [
    "### 65. Reverse Words in a String III"
   ]
  },
  {
   "cell_type": "markdown",
   "id": "64e01e4c",
   "metadata": {},
   "source": [
    "Для строки s изменить порядок символов в каждом слове в предложении, сохраняя при этом пробелы и первоначальный порядок слов."
   ]
  },
  {
   "cell_type": "markdown",
   "id": "2c6fa614",
   "metadata": {},
   "source": [
    "- Input: s = \"God Ding\"\n",
    "- Output: \"doG gniD\""
   ]
  },
  {
   "cell_type": "code",
   "execution_count": 11,
   "id": "275cb788",
   "metadata": {},
   "outputs": [],
   "source": [
    "def reverseWords_manual(s):  # O(n) both\n",
    "    res = ''\n",
    "    l, r = 0, 0\n",
    "    while r < len(s):\n",
    "        if s[r] != ' ':\n",
    "            r += 1\n",
    "        elif s[r] == ' ':\n",
    "            res += s[l:r + 1][::-1]\n",
    "            r += 1\n",
    "            l = r\n",
    "    res += ' '\n",
    "    res += s[l:r + 2][::-1]\n",
    "    return res[1:]"
   ]
  },
  {
   "cell_type": "code",
   "execution_count": 12,
   "id": "e993aebd",
   "metadata": {},
   "outputs": [],
   "source": [
    "def reverseWords(self, s):\n",
    "    return ' '.join(x[::-1] for x in s.split())"
   ]
  },
  {
   "cell_type": "markdown",
   "id": "6cae6a25",
   "metadata": {},
   "source": [
    "### 66. Add Strings"
   ]
  },
  {
   "cell_type": "code",
   "execution_count": 13,
   "id": "394f3605",
   "metadata": {},
   "outputs": [],
   "source": [
    "# Time O(m+n)\n",
    "class Solution:\n",
    "    def addStrings(self, num1: str, num2: str) -> str:\n",
    "        ans = []\n",
    "        i1, i2 = len(num1) - 1, len(num2) - 1\n",
    "        carry = 0\n",
    "        \n",
    "        while i1 >= 0 or i2 >= 0 or carry > 0:\n",
    "            if i1 >= 0:\n",
    "                carry += ord(num1[i1]) - ord('0')\n",
    "                i1 -= 1\n",
    "            if i2 >= 0:\n",
    "                carry += ord(num2[i2]) - ord('0')\n",
    "                i2 -= 1\n",
    "            ans.append(chr(carry % 10 + ord('0')))\n",
    "            carry //= 10\n",
    "        return \"\".join(ans)[::-1]"
   ]
  },
  {
   "cell_type": "markdown",
   "id": "33817db2",
   "metadata": {},
   "source": [
    "### 67. Palindrome Linked List"
   ]
  },
  {
   "cell_type": "markdown",
   "id": "fb3d3436",
   "metadata": {},
   "source": [
    "- Input: head = [1,2,2,1]\n",
    "- Output: true"
   ]
  },
  {
   "cell_type": "code",
   "execution_count": 16,
   "id": "c037593b",
   "metadata": {},
   "outputs": [],
   "source": [
    "# Definition for singly-linked list.\n",
    "class ListNode:\n",
    "    def __init__(self, val=0, next=None):\n",
    "        self.val = val\n",
    "        self.next = next\n",
    "        \n",
    "class Solution:\n",
    "    def isPalindrome(self, head: Optional[ListNode]) -> bool:\n",
    "        slow, fast, prev = head, head, None\n",
    "        \n",
    "        while fast and fast.next:\n",
    "            slow, fast = slow.next, fast.next.next\n",
    "        prev, slow, prev.next = slow, slow.next, None\n",
    "        \n",
    "        while slow:\n",
    "            temp = slow.next\n",
    "            slow.next, prev, slow = prev, slow, temp\n",
    "            \n",
    "        fast, slow = head, prev\n",
    "        \n",
    "        while slow:\n",
    "            if fast.val != slow.val: return False\n",
    "            fast, slow = fast.next, slow.next\n",
    "        return True"
   ]
  },
  {
   "cell_type": "markdown",
   "id": "7261a508",
   "metadata": {},
   "source": [
    "### 68. First Unique Character in a String"
   ]
  },
  {
   "cell_type": "markdown",
   "id": "4fe0b5d7",
   "metadata": {},
   "source": [
    "Для заданной строки s найти в ней первый неповторяющийся символ и вернуть его индекс.\n",
    "Если он не существует, верните -1."
   ]
  },
  {
   "cell_type": "code",
   "execution_count": 20,
   "id": "f488a7c2",
   "metadata": {},
   "outputs": [],
   "source": [
    "# Time O(n)\n",
    "# Space O(1)\n",
    "\n",
    "class Solution:\n",
    "    def firstUniqChar(self, s: str) -> int:\n",
    "        cnt = {}\n",
    "        for c in s:\n",
    "            if c not in cnt:\n",
    "                cnt[c] = 1\n",
    "            else:\n",
    "                cnt[c] += 1\n",
    "                \n",
    "        for i in range(len(s)):\n",
    "            if cnt[s[i]] == 1:\n",
    "                return i\n",
    "            \n",
    "        return -1"
   ]
  },
  {
   "cell_type": "code",
   "execution_count": 21,
   "id": "d7e1ec1d",
   "metadata": {},
   "outputs": [],
   "source": [
    "class Solution(object):\n",
    "    def firstUniqChar(self, s):\n",
    "        for i in range(len(s)):\n",
    "            if s[i] not in s[:i]+s[i+1:]:\n",
    "                return i\n",
    "        return -1"
   ]
  }
 ],
 "metadata": {
  "kernelspec": {
   "display_name": "Python 3 (ipykernel)",
   "language": "python",
   "name": "python3"
  },
  "language_info": {
   "codemirror_mode": {
    "name": "ipython",
    "version": 3
   },
   "file_extension": ".py",
   "mimetype": "text/x-python",
   "name": "python",
   "nbconvert_exporter": "python",
   "pygments_lexer": "ipython3",
   "version": "3.9.13"
  }
 },
 "nbformat": 4,
 "nbformat_minor": 5
}
