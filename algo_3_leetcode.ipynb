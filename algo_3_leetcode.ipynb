{
 "cells": [
  {
   "cell_type": "markdown",
   "id": "6e410fd2",
   "metadata": {},
   "source": [
    "## 1. Две суммы"
   ]
  },
  {
   "cell_type": "code",
   "execution_count": 2,
   "id": "3c61caa6",
   "metadata": {},
   "outputs": [],
   "source": [
    "from typing import List\n",
    "\n",
    "def twoSum(nums: List[int], target: int) -> List[int]:\n",
    "        required = {}\n",
    "        for i in range(len(nums)):\n",
    "            if target - nums[i] in required:\n",
    "                return [required[target - nums[i]], i]\n",
    "            else:\n",
    "                required[nums[i]] = i"
   ]
  },
  {
   "cell_type": "markdown",
   "id": "1f347cc5",
   "metadata": {},
   "source": [
    "## 2. Сложить два списка как число"
   ]
  },
  {
   "cell_type": "code",
   "execution_count": 5,
   "id": "51426f6b",
   "metadata": {},
   "outputs": [],
   "source": [
    "from typing import Optional\n",
    "\n",
    "class ListNode:\n",
    "    def __init__(self, val=0, next=None):\n",
    "        self.val = val\n",
    "        self.next = next\n",
    "\n",
    "def addTwoNumbers(l1: Optional[ListNode], l2: Optional[ListNode]) -> Optional[ListNode]:\n",
    "        head = None\n",
    "        temp = None\n",
    "        carry = 0\n",
    "        while l1 is not None or l2 is not None:\n",
    "            sum_value = carry\n",
    "            if l1 is not None:\n",
    "                sum_value += l1.val\n",
    "                l1 = l1.next\n",
    "            if l2 is not None:\n",
    "                sum_value += l2.val\n",
    "                l2 = l2.next\n",
    "            node = ListNode(sum_value % 10)\n",
    "            carry = sum_value // 10\n",
    "            if temp is None:\n",
    "                temp = head = node\n",
    "            else:\n",
    "                temp.next = node\n",
    "                temp = temp.next\n",
    "        if carry > 0:\n",
    "            temp.next = ListNode(carry)\n",
    "        return head"
   ]
  },
  {
   "cell_type": "markdown",
   "id": "4c4f0bc0",
   "metadata": {},
   "source": [
    "## 3. Самый длинный подотрезок без повторов"
   ]
  },
  {
   "cell_type": "code",
   "execution_count": 7,
   "id": "b20adde7",
   "metadata": {},
   "outputs": [],
   "source": [
    "def lengthOfLongestSubstring(self, string: str) -> int:\n",
    "        seen = {}\n",
    "        maximum_length = 0\n",
    "        start = 0\n",
    "\n",
    "        for end in range(len(string)):\n",
    "            if string[end] in seen:\n",
    "                start = max(start, seen[string[end]] + 1)\n",
    "            seen[string[end]] = end\n",
    "            maximum_length = max(maximum_length, end-start + 1)\n",
    "        return maximum_length"
   ]
  },
  {
   "cell_type": "markdown",
   "id": "f21b9830",
   "metadata": {},
   "source": [
    "## 4. Медиана двух отсортированных массивов"
   ]
  },
  {
   "cell_type": "code",
   "execution_count": 9,
   "id": "317223ca",
   "metadata": {},
   "outputs": [],
   "source": [
    "def findMedianSortedArrays(nums1: List[int], nums2: List[int]) -> float:\n",
    "        num = nums1 + nums2\n",
    "        num = sorted(num)\n",
    "        l = len(num)\n",
    "        if l % 2 == 0:\n",
    "            return (num[l//2-1] + num[l//2]) / 2 * 1.0\n",
    "        else:\n",
    "            return num[l//2] * 1.0"
   ]
  },
  {
   "cell_type": "markdown",
   "id": "27ce78c0",
   "metadata": {},
   "source": [
    "## 5. Самый длинный подотрезок палиндром"
   ]
  },
  {
   "cell_type": "code",
   "execution_count": 10,
   "id": "d30327d4",
   "metadata": {},
   "outputs": [],
   "source": [
    "def longestPalindrome(s: str) -> str:\n",
    "        def expand(st, low, high):\n",
    "            length = len(st)\n",
    " \n",
    "            while low >= 0 and high < length and st[low] == st[high]:\n",
    "                low = low - 1\n",
    "                high = high + 1\n",
    " \n",
    "            return st[low + 1:high]\n",
    " \n",
    "        if not s or not len(s):\n",
    "            return ''\n",
    " \n",
    "        max_str = ''\n",
    "        max_length = 0\n",
    " \n",
    "        for i in range(len(s)):\n",
    "            curr_str = expand(s, i, i)\n",
    "            curr_length = len(curr_str)\n",
    " \n",
    "            if curr_length > max_length:\n",
    "                max_length = curr_length\n",
    "                max_str = curr_str\n",
    " \n",
    "            curr_str = expand(s, i, i + 1)\n",
    "            curr_length = len(curr_str)\n",
    "        \n",
    "            if curr_length > max_length:\n",
    "                max_length = curr_length\n",
    "                max_str = curr_str\n",
    " \n",
    "        return max_str\n",
    "        "
   ]
  },
  {
   "cell_type": "markdown",
   "id": "e6f797f6",
   "metadata": {},
   "source": [
    "## 6. Удалить n-й узел в списке"
   ]
  },
  {
   "cell_type": "code",
   "execution_count": 11,
   "id": "4ebe3b6b",
   "metadata": {},
   "outputs": [],
   "source": [
    "def removeNthFromEnd(head: Optional[ListNode], n: int) -> Optional[ListNode]:\n",
    "        fast, slow = head, head\n",
    "        for _ in range(n):\n",
    "            fast = fast.next\n",
    "        if not fast:\n",
    "            return head.next\n",
    "        while fast.next:\n",
    "            fast, slow = fast.next, slow.next\n",
    "        slow.next = slow.next.next\n",
    "        return head"
   ]
  },
  {
   "cell_type": "markdown",
   "id": "cf54961e",
   "metadata": {},
   "source": [
    "## 7. Сбалансирована ли скобочная последовательность"
   ]
  },
  {
   "cell_type": "code",
   "execution_count": 12,
   "id": "aa093245",
   "metadata": {},
   "outputs": [],
   "source": [
    "# Time: O(n) / Space: O(n)\n",
    "def isValid(self, s: str) -> bool:\n",
    "        stack = []\n",
    "        for char in s:\n",
    "            if char in [\"(\", \"{\", \"[\"]:\n",
    "                stack.append(char)\n",
    "            else:\n",
    "                if not stack:\n",
    "                    return False\n",
    "                current_char = stack.pop()\n",
    "                if current_char == '(':\n",
    "                    if char != \")\":\n",
    "                        return False\n",
    "                if current_char == '{':\n",
    "                    if char != \"}\":\n",
    "                        return False\n",
    "                if current_char == '[':\n",
    "                    if char != \"]\":\n",
    "                        return False\n",
    " \n",
    "        if stack:\n",
    "            return False\n",
    "        return True"
   ]
  },
  {
   "cell_type": "markdown",
   "id": "788c06fc",
   "metadata": {},
   "source": [
    "## 8. Объединить два отсортированных списка"
   ]
  },
  {
   "cell_type": "code",
   "execution_count": 13,
   "id": "4bc7a9fa",
   "metadata": {},
   "outputs": [],
   "source": [
    "def mergeTwoLists(self, l1: Optional[ListNode], l2: Optional[ListNode]) -> Optional[ListNode]:\n",
    "        if l1 is None:\n",
    "            return l2\n",
    "        if l2 is None:\n",
    "            return l1\n",
    "\n",
    "        if l1.val < l2.val:\n",
    "            temp = head = ListNode(l1.val)\n",
    "            l1 = l1.next\n",
    "        else:\n",
    "            temp = head = ListNode(l2.val)\n",
    "            l2 = l2.next\n",
    "\n",
    "        while l1 is not None and l2 is not None:\n",
    "            if l1.val < l2.val:\n",
    "                temp.next = ListNode(l1.val)\n",
    "                l1 = l1.next\n",
    "            else:\n",
    "                temp.next = ListNode(l2.val)\n",
    "                l2 = l2.next\n",
    "            temp = temp.next\n",
    "\n",
    "        while l1 is not None:\n",
    "            temp.next = ListNode(l1.val)\n",
    "            l1 = l1.next\n",
    "            temp = temp.next\n",
    "\n",
    "        while l2 is not None:\n",
    "            temp.next = ListNode(l2.val)\n",
    "            l2 = l2.next\n",
    "            temp = temp.next\n",
    "        return head"
   ]
  },
  {
   "cell_type": "markdown",
   "id": "ca085b6d",
   "metadata": {},
   "source": [
    "## 9. Генерация скобочных последовательностей"
   ]
  },
  {
   "cell_type": "code",
   "execution_count": 14,
   "id": "0bc68bfb",
   "metadata": {},
   "outputs": [],
   "source": [
    "def generateParenthesis(self, n: int) -> List[str]:\n",
    "        def generate(result: List[str], s: str, _open: int, close: int, n: int):\n",
    "            if _open == n and close == n:\n",
    "                result.append(s)\n",
    "                return\n",
    "            if _open < n:\n",
    "                generate(result, s + \"(\", _open + 1, close, n)\n",
    "            if close < _open:\n",
    "                generate(result, s + \")\", _open, close + 1, n)\n",
    "            \n",
    "        result = []\n",
    "\n",
    "        generate(result, \"\", 0, 0, n)\n",
    "        return result"
   ]
  },
  {
   "cell_type": "markdown",
   "id": "46c007d2",
   "metadata": {},
   "source": [
    "## 10. Объединить k отсортированных списков"
   ]
  },
  {
   "cell_type": "code",
   "execution_count": 19,
   "id": "38082b28",
   "metadata": {},
   "outputs": [],
   "source": [
    "def SortedMerge(a, b):\n",
    "        result = None\n",
    "        if a == None:\n",
    "            return b\n",
    "        elif b == None:\n",
    "            return a\n",
    "        if a.val <= b.val:\n",
    "            result = a\n",
    "            result.next = SortedMerge(a.next, b)\n",
    "        else:\n",
    "            result = b\n",
    "            result.next = SortedMerge(a, b.next)\n",
    "        return result\n",
    "    \n",
    "def mergeKLists(arr: List[Optional[ListNode]]) -> Optional[ListNode]:\n",
    "        if len(arr) == 0:\n",
    "            return None\n",
    "        last = len(arr) - 1\n",
    "        while last != 0:\n",
    "            i = 0\n",
    "            j = last\n",
    "            while i < j:\n",
    "                arr[i] = SortedMerge(arr[i], arr[j])\n",
    "                i += 1\n",
    "                j -= 1\n",
    "                if i >= j:\n",
    "                    last = j\n",
    "\n",
    "        return arr[0]"
   ]
  },
  {
   "cell_type": "markdown",
   "id": "3c2b660b",
   "metadata": {},
   "source": [
    "## 11. Найти первое вхождение одной строки в другую"
   ]
  },
  {
   "cell_type": "code",
   "execution_count": 20,
   "id": "7a5bbd87",
   "metadata": {},
   "outputs": [],
   "source": [
    "def strStr(haystack: str, needle: str) -> int:\n",
    "        if not needle:\n",
    "            return 0;\n",
    "        \n",
    "        n = len(haystack)\n",
    "        m = len(needle)\n",
    "        \n",
    "        for i in range(n-m+1):\n",
    "            if haystack[i:m+i] == needle:\n",
    "                return i\n",
    "        return -1"
   ]
  },
  {
   "cell_type": "markdown",
   "id": "3998d037",
   "metadata": {},
   "source": [
    "## 12. Поиск в циклически сдвинутом массиве"
   ]
  },
  {
   "cell_type": "code",
   "execution_count": 21,
   "id": "df60fa6d",
   "metadata": {},
   "outputs": [],
   "source": [
    "def search(nums: List[int], target: int) -> int:\n",
    "        if nums is None or len(nums) == 0:\n",
    "            return -1\n",
    "        \n",
    "        left, right = 0, len(nums) - 1\n",
    "\n",
    "        while left < right:\n",
    "            middle = left + (right - left) // 2\n",
    "            if nums[middle] > nums[right]:\n",
    "                left = middle + 1\n",
    "            else:\n",
    "                right = middle\n",
    "        pivot = left\n",
    "        left, right = 0, len(nums) - 1\n",
    "        if nums[pivot] <= target <= nums[right]:\n",
    "            left = pivot\n",
    "        else:\n",
    "            right = pivot\n",
    "        while left <= right:\n",
    "            middle = left + (right - left) // 2\n",
    "            if nums[middle] == target:\n",
    "                return middle\n",
    "            elif nums[middle] < target:\n",
    "                left = middle + 1\n",
    "            else:\n",
    "                right = middle - 1\n",
    "        return -1"
   ]
  },
  {
   "cell_type": "markdown",
   "id": "b98fe7b0",
   "metadata": {},
   "source": [
    "## 13. Найти первое и последнее вхождение в отсортированном списке"
   ]
  },
  {
   "cell_type": "code",
   "execution_count": null,
   "id": "34e65a94",
   "metadata": {},
   "outputs": [],
   "source": [
    "def findFirstOccurrence(nums, target):\n",
    "        left, right = 0, len(nums) - 1\n",
    "        firstOccurrence = -1\n",
    "        while left <= right:\n",
    "            middle = left + (right - left) // 2\n",
    "            if target == nums[middle]:\n",
    "                firstOccurrence = middle\n",
    "                right = middle - 1\n",
    "            elif target < nums[middle]:\n",
    "                right = middle - 1\n",
    "            else:\n",
    "                left = middle + 1\n",
    "        return firstOccurrence\n",
    "\n",
    "def findLastOccurrence(nums, target):\n",
    "        left, right = 0, len(nums) - 1\n",
    "        lastOccurrence = -1\n",
    "        while left <= right:\n",
    "            middle = left + (right - left) // 2\n",
    "            if target == nums[middle]:\n",
    "                lastOccurrence = middle\n",
    "                left = middle + 1\n",
    "            elif target < nums[middle]:\n",
    "                right = middle - 1\n",
    "            else:\n",
    "                left = middle + 1\n",
    "        return lastOccurrence\n",
    "    \n",
    "    def searchRange(nums: List[int], target: int) -> List[int]:\n",
    "        return [findFirstOccurrence(nums, target), findLastOccurrence(nums, target)]"
   ]
  },
  {
   "cell_type": "markdown",
   "id": "07a6e996",
   "metadata": {},
   "source": [
    "## 14. Найти кол-во воды в ямах"
   ]
  },
  {
   "cell_type": "code",
   "execution_count": 22,
   "id": "b01d1716",
   "metadata": {},
   "outputs": [],
   "source": [
    "def trap(height: List[int]) -> int:\n",
    "        if not height:\n",
    "            return 0\n",
    "        \n",
    "        size = len(height)\n",
    "        area = 0\n",
    "        left_max, right_max = [0] * size, [0] * size\n",
    "        \n",
    "        left_max[0] = height[0]\n",
    "        for i in range(1, size):\n",
    "            left_max[i] = max(height[i], left_max[i - 1])\n",
    "            \n",
    "        right_max[size - 1] = height[size - 1]\n",
    "        for i in range(size-2, -1, -1):\n",
    "            right_max[i] = max(height[i], right_max[i + 1])\n",
    "        \n",
    "        for i in range(1, size-1):\n",
    "            area = area + (min(left_max[i], right_max[i]) - height[i])\n",
    "        return area"
   ]
  },
  {
   "cell_type": "markdown",
   "id": "28e76666",
   "metadata": {},
   "source": [
    "## 15. Развернуть матрицу на 90 градусов"
   ]
  },
  {
   "cell_type": "code",
   "execution_count": 23,
   "id": "507ef1c8",
   "metadata": {},
   "outputs": [],
   "source": [
    "def rotate(matrix: List[List[int]]) -> None:\n",
    "        lMat = len(matrix)\n",
    "        for i in range(lMat):\n",
    "            for j in range(i + 1,lMat):\n",
    "                matrix[i][j], matrix[j][i] = matrix[j][i], matrix[i][j]\n",
    "        for i in range(lMat):\n",
    "            matrix[i].reverse()"
   ]
  },
  {
   "cell_type": "markdown",
   "id": "0d3cd961",
   "metadata": {},
   "source": [
    "## 16. Сортировка анаграмм"
   ]
  },
  {
   "cell_type": "code",
   "execution_count": 24,
   "id": "68b4d575",
   "metadata": {},
   "outputs": [],
   "source": [
    "def groupAnagrams(self, strings: List[str]) -> List[List[str]]:\n",
    "        anagrams = dict()\n",
    "        anagramGroups = []\n",
    "        \n",
    "        for string in strings:\n",
    "            sortedString = \"\".join(sorted(string))\n",
    "            stringList = anagrams.get(sortedString)\n",
    "            \n",
    "            if stringList is None:\n",
    "                anagrams[sortedString] = []\n",
    "            anagrams[sortedString].append(string)\n",
    "        \n",
    "        \n",
    "        for sortedString in anagrams:\n",
    "            anagramGroups.append(anagrams[sortedString])\n",
    "        \n",
    "        return anagramGroups"
   ]
  },
  {
   "cell_type": "markdown",
   "id": "3684ccca",
   "metadata": {},
   "source": [
    "## 17. Объединить интервалы"
   ]
  },
  {
   "cell_type": "code",
   "execution_count": 25,
   "id": "005ee00e",
   "metadata": {},
   "outputs": [],
   "source": [
    "# Time: O(nlogn) / Space: O(1)\n",
    "def merge(self, arr: List[List[int]]) -> List[List[int]]:\n",
    "        arr.sort(key = lambda x: x[0])\n",
    "        m = []\n",
    "        \n",
    "        s = -10000\n",
    "        max = -100000\n",
    "        \n",
    "        for i in range(len(arr)):\n",
    "            a = arr[i]\n",
    "            if a[0] > max:\n",
    "                if i != 0:\n",
    "                    m.append([s, max])\n",
    "                max = a[1]\n",
    "                s = a[0]\n",
    "            else:\n",
    "                if a[1] >= max:\n",
    "                    max = a[1]\n",
    "                    \n",
    "        if max != -100000 and [s, max] not in m:\n",
    "            m.append([s, max])\n",
    "\n",
    "        return m"
   ]
  },
  {
   "cell_type": "markdown",
   "id": "e83a2a51",
   "metadata": {},
   "source": [
    "## 18. Генерация спиральной матрицы"
   ]
  },
  {
   "cell_type": "code",
   "execution_count": 26,
   "id": "71a71218",
   "metadata": {},
   "outputs": [],
   "source": [
    "def generateMatrix(self, n: int) -> List[List[int]]:\n",
    "        ans = [[0] * n for _ in range(n)]\n",
    " \n",
    "        i = 0\n",
    "        j = 1\n",
    "        while j <= n*n:\n",
    "            for rightcol in range(i, n-i):\n",
    "                ans[i][rightcol] = j\n",
    "                j += 1\n",
    "            \n",
    "            downrow = -1\n",
    "            for downrow in range(i+1, n-i):\n",
    "                ans[downrow][rightcol] = j\n",
    "                j += 1\n",
    "            if downrow == -1:\n",
    "                break\n",
    "            icol = -1\n",
    "            for icol in range(rightcol-1, -1+i, -1):\n",
    "                ans[downrow][icol] = j\n",
    "                j += 1\n",
    "            if icol == -1:\n",
    "                break\n",
    "            for uprow in range(downrow-1, i, -1):\n",
    "                ans[uprow][icol] = j\n",
    "                j += 1\n",
    "            i += 1\n",
    "        return ans"
   ]
  },
  {
   "cell_type": "markdown",
   "id": "b746f8e1",
   "metadata": {},
   "source": [
    "## 19. Конвертация пути"
   ]
  },
  {
   "cell_type": "code",
   "execution_count": 28,
   "id": "3b80551c",
   "metadata": {},
   "outputs": [],
   "source": [
    "def simplifyPath(self, path: str) -> str:\n",
    "        path = path.split('/')\n",
    "        res = \"\"\n",
    "        res_stack = []\n",
    "        for index, char in enumerate(path):\n",
    "            if char == \"..\":\n",
    "                if res_stack:\n",
    "                    res_stack.pop()\n",
    "            elif char == \".\" or char == \"\":\n",
    "                pass\n",
    "            else:\n",
    "                res_stack.append('/'+char)\n",
    "        if len(res_stack) == 0:\n",
    "            return \"/\"\n",
    "        return res.join(res_stack)"
   ]
  },
  {
   "cell_type": "markdown",
   "id": "76104735",
   "metadata": {},
   "source": [
    "## 20. Наибольший прямоугольник из \"1\""
   ]
  },
  {
   "cell_type": "code",
   "execution_count": 29,
   "id": "5768bc00",
   "metadata": {},
   "outputs": [],
   "source": [
    "# Time: O(mn), Space: O(n)\n",
    "def maximalRectangle(self, matrix: List[List[str]]) -> int:\n",
    "        if not matrix:\n",
    "            return 0\n",
    "\n",
    "        ans = 0\n",
    "        hist = [0] * len(matrix[0])\n",
    "\n",
    "        def largestRectangleArea(heights: List[int]) -> int:\n",
    "            ans = 0\n",
    "            stack = []\n",
    "\n",
    "            for i in range(len(heights) + 1):\n",
    "                while stack and (i == len(heights) or heights[stack[-1]] > heights[i]):\n",
    "                    h = heights[stack.pop()]\n",
    "                    w = i - stack[-1] - 1 if stack else i\n",
    "                    ans = max(ans, h * w)\n",
    "                stack.append(i)\n",
    "\n",
    "            return ans\n",
    "\n",
    "        for row in matrix:\n",
    "            for i, num in enumerate(row):\n",
    "                hist[i] = 0 if num == '0' else hist[i] + 1\n",
    "            ans = max(ans, largestRectangleArea(hist))\n",
    "\n",
    "        return ans"
   ]
  },
  {
   "cell_type": "markdown",
   "id": "50f36671",
   "metadata": {},
   "source": [
    "## 21. Объединение отсортированных массивов"
   ]
  },
  {
   "cell_type": "code",
   "execution_count": 31,
   "id": "14913552",
   "metadata": {},
   "outputs": [],
   "source": [
    "def merge(self, nums1: List[int], m: int, nums2: List[int], n: int) -> None:\n",
    "        p1 = m-1\n",
    "        p2 = n-1\n",
    "        pos = m+n-1\n",
    "        \n",
    "        while p1>=0 and p2>=0:\n",
    "            if nums1[p1]>nums2[p2]:\n",
    "                nums1[pos] = nums1[p1]\n",
    "                p1-=1\n",
    "            else:\n",
    "                nums1[pos] = nums2[p2]\n",
    "                p2-=1\n",
    "            pos-=1\n",
    "        nums1[:p2+1] = nums2[:p2+1]"
   ]
  },
  {
   "cell_type": "markdown",
   "id": "fcf6219c",
   "metadata": {},
   "source": [
    "## 22. Валидное ли бинарное дерево"
   ]
  },
  {
   "cell_type": "code",
   "execution_count": 33,
   "id": "3e8e3c22",
   "metadata": {},
   "outputs": [],
   "source": [
    "class TreeNode:\n",
    "    def __init__(self, val=0, left=None, right=None):\n",
    "        self.val = val\n",
    "        self.left = left\n",
    "        self.right = right\n",
    "\n",
    "def isValidBST(self, root: Optional[TreeNode], l=None, r=None) -> bool:\n",
    "        if root == None:\n",
    "            return True\n",
    "        if l != None and root.val <= l.val:\n",
    "            return False\n",
    "        if r != None and root.val >= r.val:\n",
    "            return False\n",
    "        return self.isValidBST(root.left, l, root) and self.isValidBST(root.right, root, r)"
   ]
  },
  {
   "cell_type": "markdown",
   "id": "875d207a",
   "metadata": {},
   "source": [
    "## 23. Симметричное ли дерево"
   ]
  },
  {
   "cell_type": "code",
   "execution_count": 34,
   "id": "b6cbad5d",
   "metadata": {},
   "outputs": [],
   "source": [
    "def check_leftright(self, node1, node2):\n",
    "        if not node1 and not node2:\n",
    "            return True\n",
    "        elif node1 and node2 and node1.val == node2.val:\n",
    "            return self.check_leftright(node1.left,node2.right) and check_leftright(node1.right,node2.left)\n",
    "        else:\n",
    "            return False\n",
    "\n",
    "def isSymmetric(self, root: Optional[TreeNode]) -> bool:\n",
    "        if not root:\n",
    "            return True\n",
    "        return check_leftright(root.left, root.right)"
   ]
  },
  {
   "cell_type": "markdown",
   "id": "220e8a16",
   "metadata": {},
   "source": [
    "## 24. Проверка строки на палиндром"
   ]
  },
  {
   "cell_type": "code",
   "execution_count": 35,
   "id": "8cfbbd64",
   "metadata": {},
   "outputs": [],
   "source": [
    "def isPalindrome(self, s: str) -> bool:\n",
    "        s = s.lower()\n",
    "        strs = collections.deque()\n",
    "        \n",
    "        for char in s:\n",
    "            if char.isalnum():\n",
    "                strs.append(char)\n",
    "        \n",
    "        s = ''.join(strs)\n",
    "        \n",
    "        return s == s[::-1]"
   ]
  },
  {
   "cell_type": "markdown",
   "id": "6b0537e2",
   "metadata": {},
   "source": [
    "## 25. Реализовать LRU кэш"
   ]
  },
  {
   "cell_type": "code",
   "execution_count": 36,
   "id": "f8c010a0",
   "metadata": {},
   "outputs": [],
   "source": [
    "from collections import deque\n",
    "\n",
    "class LRUCache:\n",
    "\n",
    "    def __init__(self, capacity: int):\n",
    "        self.cache = deque()\n",
    "        self.dict = {}\n",
    "        self.capacity = capacity\n",
    "    \n",
    "\n",
    "    def get(self, key: int) -> int:\n",
    "        if key in self.dict.keys():\n",
    "            self.put(key, self.dict[key])\n",
    "            return self.dict[key]\n",
    "        else:return -1\n",
    "\n",
    "    def put(self, key: int, value: int) -> None:\n",
    "        if key in self.dict.keys():\n",
    "            self.dict[key] = value\n",
    "            self.cache.remove(key)\n",
    "            self.cache.append(key)\n",
    "        else:\n",
    "            if len(self.dict) == self.capacity:\n",
    "                keytoremove = self.cache[0]\n",
    "                self.cache.remove(keytoremove)\n",
    "                del(self.dict[keytoremove])\n",
    "\n",
    "            self.cache.append(key)\n",
    "            self.dict[key] = value"
   ]
  },
  {
   "cell_type": "markdown",
   "id": "7b1ac1df",
   "metadata": {},
   "source": [
    "## 26. ПОЛИЗ"
   ]
  },
  {
   "cell_type": "code",
   "execution_count": 37,
   "id": "e8c37ce6",
   "metadata": {},
   "outputs": [],
   "source": [
    "def evalRPN(self, tokens: List[str]) -> int:\n",
    "        stack = []\n",
    "        operators = {'+', '-', '*', '/'}\n",
    "        if len(tokens) == 1:\n",
    "            return int(tokens[0])\n",
    "        for token in tokens:\n",
    "            if token not in operators:\n",
    "                stack.append(int(token))\n",
    "            else:\n",
    "                sec_operand = stack.pop()\n",
    "                fir_operand = stack.pop()\n",
    "                tmp=0\n",
    "                if token == '+':\n",
    "                    tmp = fir_operand + sec_operand\n",
    "                elif token == '-':\n",
    "                    tmp = fir_operand - sec_operand\n",
    "                elif token == '*':\n",
    "                    tmp = fir_operand * sec_operand\n",
    "                elif token == '/':\n",
    "                    tmp = fir_operand / sec_operand\n",
    "                    tmp = math.trunc(tmp)\n",
    "                stack.append(tmp)\n",
    "        return stack.pop()"
   ]
  },
  {
   "cell_type": "markdown",
   "id": "3ac1be7b",
   "metadata": {},
   "source": [
    "## 27. Количество островов"
   ]
  },
  {
   "cell_type": "code",
   "execution_count": 38,
   "id": "540677ea",
   "metadata": {},
   "outputs": [],
   "source": [
    "def numIslands(self, grid: List[List[str]]) -> int:\n",
    "        def dfs(x, y):\n",
    "            if x < 0 or x >= len(grid) or y < 0 or y >= len(grid[0]) or grid[x][y] != '1': return\n",
    "            \n",
    "            grid[x][y] = '0'\n",
    "            \n",
    "            for i, j in [(x - 1, y), (x, y - 1), (x + 1, y), (x, y + 1)]:\n",
    "                dfs(i, j)\n",
    "        \n",
    "        if not grid or not grid[0]:\n",
    "            return 0\n",
    "        \n",
    "        res = 0\n",
    "        \n",
    "        for i in range(len(grid)):\n",
    "            for j in range(len(grid[0])):\n",
    "                if grid[i][j] == '1':\n",
    "                    dfs(i, j)\n",
    "                    res += 1\n",
    "        return res"
   ]
  },
  {
   "cell_type": "markdown",
   "id": "97094d3f",
   "metadata": {},
   "source": [
    "## 28. Перевернуть список"
   ]
  },
  {
   "cell_type": "code",
   "execution_count": 39,
   "id": "d856b3c6",
   "metadata": {},
   "outputs": [],
   "source": [
    "def reverseList(self, head: Optional[ListNode]) -> Optional[ListNode]:\n",
    "        if head == None:\n",
    "            return None\n",
    "        \n",
    "        stack, temp = [], head\n",
    "        while temp:\n",
    "            stack.append(temp)\n",
    "            temp = temp.next\n",
    "        head = temp = stack.pop()\n",
    "        while len(stack) > 0:\n",
    "            temp.next = stack.pop()\n",
    "            temp = temp.next\n",
    "  \n",
    "        temp.next = None\n",
    "        return head"
   ]
  },
  {
   "cell_type": "markdown",
   "id": "340b14e5",
   "metadata": {},
   "source": [
    "## 29. Запаковка чисел в массиве"
   ]
  },
  {
   "cell_type": "code",
   "execution_count": 40,
   "id": "ef472b2f",
   "metadata": {},
   "outputs": [],
   "source": [
    "def summaryRanges(self, nums: List[int]) -> List[str]:\n",
    "        l = len(nums)\n",
    "        if l == 0:\n",
    "            return []\n",
    "        nums.append(float('inf'))\n",
    "        res, start = [], 0\n",
    "        for i in range(l):\n",
    "            if nums[i + 1] != nums[i] + 1:\n",
    "                res.append(str(nums[i]) if i == start else \"%s->%s\" % (nums[start], nums[i]))\n",
    "                start = i + 1\n",
    "        return res"
   ]
  },
  {
   "cell_type": "markdown",
   "id": "7e22ed56",
   "metadata": {},
   "source": [
    "## 30. Реализация очереди через стек"
   ]
  },
  {
   "cell_type": "code",
   "execution_count": 41,
   "id": "8f2bc3db",
   "metadata": {},
   "outputs": [],
   "source": [
    "class MyQueue:\n",
    "\n",
    "    def __init__(self):\n",
    "        self.push_stack = []\n",
    "        self.pop_stack = []\n",
    "\n",
    "    def push(self, x: int) -> None:\n",
    "        self.push_stack.append(x)\n",
    "\n",
    "    def pop(self) -> int:\n",
    "        if self.empty():\n",
    "            return\n",
    "        if len(self.pop_stack):\n",
    "            return self.pop_stack.pop()\n",
    "        else:\n",
    "            while len(self.push_stack):\n",
    "                self.pop_stack.append(self.push_stack.pop())\n",
    "        return self.pop_stack.pop()\n",
    "\n",
    "    def peek(self) -> int:\n",
    "        if self.empty(): return\n",
    "        if len(self.pop_stack):\n",
    "            return self.pop_stack[-1]\n",
    "        else:\n",
    "            while len(self.push_stack):\n",
    "                self.pop_stack.append(self.push_stack.pop())\n",
    "        return self.pop_stack[-1]\n",
    "\n",
    "    def empty(self) -> bool:\n",
    "        return len(self.push_stack) == False and len(self.pop_stack) == False"
   ]
  },
  {
   "cell_type": "markdown",
   "id": "24335c9d",
   "metadata": {},
   "source": [
    "## 31. Является ли список палиндромом"
   ]
  },
  {
   "cell_type": "code",
   "execution_count": 42,
   "id": "e555d073",
   "metadata": {},
   "outputs": [],
   "source": [
    "def isPalindrome(head: Optional[ListNode]) -> bool:\n",
    "        slow, fast, prev = head, head, None\n",
    "        while fast and fast.next:\n",
    "            slow, fast = slow.next, fast.next.next\n",
    "        prev, slow, prev.next = slow, slow.next, None\n",
    "        while slow:\n",
    "            temp = slow.next\n",
    "            slow.next, prev, slow = prev, slow, temp\n",
    "        fast, slow = head, prev\n",
    "        while slow:\n",
    "            if fast.val != slow.val: return False\n",
    "            fast, slow = fast.next, slow.next\n",
    "        return True"
   ]
  },
  {
   "cell_type": "markdown",
   "id": "f121e581",
   "metadata": {},
   "source": [
    "## 32. Вернуть массив, где res[i] - произведение arr[0]*...*arr[i-1]*arr[i+1]*...arr[-1]"
   ]
  },
  {
   "cell_type": "code",
   "execution_count": 43,
   "id": "34aa6a2e",
   "metadata": {},
   "outputs": [],
   "source": [
    "def productExceptSelf(nums: List[int]) -> List[int]:\n",
    "        start, end, n = 1, 1, len(nums)\n",
    "        out = [1] * n \n",
    "        for i in range(n):\n",
    "            out[i] *= start\n",
    "            start *= nums[i]\n",
    "            out[~i] *= end\n",
    "            end *= nums[~i]\n",
    "        return out"
   ]
  },
  {
   "cell_type": "markdown",
   "id": "fc593ded",
   "metadata": {},
   "source": [
    "## 33. Найти пропущенное число в массиве [0..n]"
   ]
  },
  {
   "cell_type": "code",
   "execution_count": null,
   "id": "a0825884",
   "metadata": {},
   "outputs": [],
   "source": [
    "def missingNumber(nums: List[int]) -> int:\n",
    "        n = len(nums)\n",
    "        n_elements_sum = n * (n + 1) // 2\n",
    "        return n_elements_sum - sum(nums)"
   ]
  },
  {
   "cell_type": "markdown",
   "id": "6a1da98c",
   "metadata": {},
   "source": [
    "## 34. Для заданного целого числа n верните наименьшее количество совершенных квадратных чисел, сумма которых равна n."
   ]
  },
  {
   "cell_type": "code",
   "execution_count": 44,
   "id": "d75e61ee",
   "metadata": {},
   "outputs": [],
   "source": [
    "def numSquares(self, n: int) -> int:\n",
    "        dp = [n]*(n+1)\n",
    "        dp[0] = 0\n",
    "        dp[1] = 1\n",
    "\n",
    "        for target in range(2, n+1):\n",
    "            tmp = int(math.sqrt(target))\n",
    "            for s in range(tmp, 0, -1):\n",
    "                sq = s*s\n",
    "                dp[target] = min(dp[target], dp[target - sq] + 1)\n",
    "                if dp[target] == 2 or dp[target] == 1: \n",
    "                    break\n",
    "        return dp[n]"
   ]
  },
  {
   "cell_type": "markdown",
   "id": "b6ed96ef",
   "metadata": {},
   "source": [
    "## 35. Переместить все нули массива в конец (без его копии)"
   ]
  },
  {
   "cell_type": "code",
   "execution_count": 45,
   "id": "e35e1dce",
   "metadata": {},
   "outputs": [],
   "source": [
    "def moveZeroes(self, nums: List[int]) -> None:\n",
    "        count = 0\n",
    "     \n",
    "        for i in range(len(nums)):\n",
    "            if nums[i] != 0:\n",
    "                nums[count] = nums[i]\n",
    "                count+=1\n",
    "     \n",
    "        while count < len(nums):\n",
    "            nums[count] = 0\n",
    "            count += 1"
   ]
  },
  {
   "cell_type": "markdown",
   "id": "bfb7ad00",
   "metadata": {},
   "source": [
    "## 36. Проложить путь для аэропортов"
   ]
  },
  {
   "cell_type": "code",
   "execution_count": 46,
   "id": "dd17676f",
   "metadata": {},
   "outputs": [],
   "source": [
    "def findItinerary(self, tickets: List[List[str]]) -> List[str]:\n",
    "        def dfs(graph, airport, res):            \n",
    "            while graph[airport]:\n",
    "                next = graph[airport].pop()\n",
    "                dfs(graph, next, res)\n",
    "            res.append(airport)            \n",
    "                \n",
    "        graph = collections.defaultdict(list)\n",
    "        for frm, to in tickets:\n",
    "            graph[frm].append(to)\n",
    "        for key in graph:\n",
    "            graph[key].sort(reverse = True)\n",
    "        res = []\n",
    "        dfs(graph, 'JFK', res)\n",
    "        return res[::-1]"
   ]
  },
  {
   "cell_type": "markdown",
   "id": "ef45f3e3",
   "metadata": {},
   "source": [
    "## 37. Найти пересечение двух массивов"
   ]
  },
  {
   "cell_type": "code",
   "execution_count": 47,
   "id": "c9ee1ebc",
   "metadata": {},
   "outputs": [],
   "source": [
    "def intersect(self, nums1: List[int], nums2: List[int]) -> List[int]:\n",
    "        if len(nums1) > len(nums2):\n",
    "            self.intersect(nums2, nums1)\n",
    "        \n",
    "        hash_map = {}\n",
    "\n",
    "        for num in nums1:\n",
    "            if num not in hash_map:\n",
    "                hash_map[num] = 0\n",
    "            hash_map[num] += 1\n",
    "        \n",
    "        ans = []\n",
    "\n",
    "        for num in nums2:\n",
    "            count = hash_map.get(num, 0)\n",
    "            if count > 0:\n",
    "                ans.append(num)\n",
    "                hash_map[num]-=1\n",
    "        \n",
    "        return ans"
   ]
  },
  {
   "cell_type": "markdown",
   "id": "57c08b21",
   "metadata": {},
   "source": [
    "## 38. Реализовать RandomizeSet"
   ]
  },
  {
   "cell_type": "code",
   "execution_count": 48,
   "id": "5922673c",
   "metadata": {},
   "outputs": [],
   "source": [
    "class RandomizedSet(object):\n",
    "    def __init__(self):\n",
    "        self.valToIndex = dict()\n",
    "        self.valList = list()\n",
    "\n",
    "    def insert(self, val):\n",
    "        if val in self.valToIndex:\n",
    "            return False\n",
    "\n",
    "        self.valToIndex[val] = len(self.valList)\n",
    "        self.valList.append(val)\n",
    "        return True\n",
    "\n",
    "    def remove(self, val):\n",
    "        if val not in self.valToIndex:\n",
    "            return False\n",
    "\n",
    "        lastVal = self.valList[-1]\n",
    "        valIndex = self.valToIndex[val]\n",
    "        if lastVal != val:\n",
    "            self.valToIndex[lastVal] = valIndex\n",
    "            self.valList[valIndex] = lastVal\n",
    "\n",
    "        self.valList.pop()\n",
    "        self.valToIndex.pop(val)\n",
    "        return True\n",
    "\n",
    "    def getRandom(self):\n",
    "        return random.choice( self.valList )"
   ]
  },
  {
   "cell_type": "markdown",
   "id": "962fd3e0",
   "metadata": {},
   "source": [
    "## 39. Является ли одна строка подстрокой другой "
   ]
  },
  {
   "cell_type": "code",
   "execution_count": 49,
   "id": "fa8200b3",
   "metadata": {},
   "outputs": [],
   "source": [
    "def isSubsequence(self, str1: str, str2: str) -> bool:\n",
    "        m = len(str1)\n",
    "        n = len(str2)\n",
    "\n",
    "        j = 0 \n",
    "        i = 0\n",
    "\n",
    "        while j < m and i < n:\n",
    "            if str1[j] == str2[i]:\n",
    "                j = j+1\n",
    "            i = i + 1\n",
    "\n",
    "        return j == m"
   ]
  },
  {
   "cell_type": "markdown",
   "id": "c6ecd139",
   "metadata": {},
   "source": [
    "## 40. Запаковать массив по группам букв"
   ]
  },
  {
   "cell_type": "code",
   "execution_count": 50,
   "id": "09d59cf8",
   "metadata": {},
   "outputs": [],
   "source": [
    "# Time: O(n), Space: O(1)\n",
    "def compress(self, chars: List[str]) -> int:\n",
    "        ans = 0\n",
    "        i = 0\n",
    "\n",
    "        while i < len(chars):\n",
    "            letter = chars[i]\n",
    "            count = 0\n",
    "            while i < len(chars) and chars[i] == letter:\n",
    "                count += 1\n",
    "                i += 1\n",
    "            chars[ans] = letter\n",
    "            ans += 1\n",
    "            if count > 1:\n",
    "                for c in str(count):\n",
    "                    chars[ans] = c\n",
    "                    ans += 1\n",
    "        return ans"
   ]
  },
  {
   "cell_type": "markdown",
   "id": "c6e268d6",
   "metadata": {},
   "source": [
    "## 41. Сериализация/десериализация BST"
   ]
  },
  {
   "cell_type": "code",
   "execution_count": 51,
   "id": "dcf0c79e",
   "metadata": {},
   "outputs": [],
   "source": [
    "class Codec:\n",
    "    def serialize(self, root):\n",
    "        l = []\n",
    "        def preOrder(root):\n",
    "            if root:\n",
    "                l.append(root.val)\n",
    "                preOrder(root.left)\n",
    "                preOrder(root.right)\n",
    "        preOrder(root)\n",
    "        return ' '.join(map(str, l))    \n",
    "        \n",
    "    def deserialize(self, data):\n",
    "        vals = collections.deque([int(val) for val in data.split()])\n",
    "        \n",
    "        def buildTree(vals, minVal, maxVal):\n",
    "            while vals and minVal < vals[0] < maxVal:\n",
    "                val = vals.popleft()\n",
    "                root = TreeNode(val)\n",
    "                root.left = buildTree(vals, minVal, val)\n",
    "                root.right = buildTree(vals, val, maxVal)\n",
    "                return root\n",
    "        return buildTree(vals, float('-inf'), float('inf'))"
   ]
  },
  {
   "cell_type": "markdown",
   "id": "2dec8089",
   "metadata": {},
   "source": [
    "## 42. Подмассив с суммой K"
   ]
  },
  {
   "cell_type": "code",
   "execution_count": 52,
   "id": "41e0d69e",
   "metadata": {},
   "outputs": [],
   "source": [
    "# Time: O(n), Space: O(1)\n",
    "def subarraySum(self, nums: List[int], k: int) -> int:\n",
    "        cnt, total = 0, 0\n",
    "        cache = {0: 1}\n",
    "        for v in nums:\n",
    "            total += v\n",
    "            if cache.get(total - k):\n",
    "                cnt += cache[total - k]              \n",
    "            if cache.get(total):\n",
    "                cache[total] += 1\n",
    "            else:\n",
    "                cache[total] = 1\n",
    "        return cnt"
   ]
  },
  {
   "cell_type": "markdown",
   "id": "5bcf3d3f",
   "metadata": {},
   "source": [
    "## 43. Содержит ли одна строка комбинацию другой"
   ]
  },
  {
   "cell_type": "code",
   "execution_count": 53,
   "id": "2cc50c3f",
   "metadata": {},
   "outputs": [],
   "source": [
    "def checkInclusion(s1: str, s2: str) -> bool:\n",
    "        if len(s2) < len(s1):\n",
    "            return False\n",
    "        \n",
    "        freq_s1, freq_s2 = [0] * 26, [0] * 26\n",
    "            \n",
    "        for x in s1:\n",
    "            freq_s1[ord(x) - ord('a')] += 1\n",
    "            \n",
    "        for x in range(0, len(s2) - len(s1) + 1):\n",
    "            if x == 0:\n",
    "                for y in range(x, x + len(s1)):\n",
    "                        freq_s2[ord(s2[y]) - ord('a')] +=  1        \n",
    "            else:\n",
    "                freq_s2[ord(s2[x + len(s1) - 1]) - ord('a')] +=  1 \n",
    "                \n",
    "            if freq_s2 == freq_s1:\n",
    "                return True\n",
    "            freq_s2[ord(s2[x]) - ord('a')] -=  1\n",
    "                \n",
    "        return False"
   ]
  },
  {
   "cell_type": "markdown",
   "id": "7ad4f249",
   "metadata": {},
   "source": [
    "## 44. Найти K ближайших элементов"
   ]
  },
  {
   "cell_type": "code",
   "execution_count": 54,
   "id": "18730c4c",
   "metadata": {},
   "outputs": [],
   "source": [
    "def findClosestElements(arr: List[int], k: int, x: int) -> List[int]:\n",
    "        i, j = 0, len(arr) - k\n",
    "        while i < j:\n",
    "            mid = (i & j) + ((i^j) >> 1)\n",
    "            if x - arr[mid] > arr[mid + k] - x: # arr is sorted\n",
    "                i = mid + 1\n",
    "            else:\n",
    "                j = mid\n",
    "\n",
    "        return arr[i:i+k]"
   ]
  },
  {
   "cell_type": "markdown",
   "id": "5e7de023",
   "metadata": {},
   "source": [
    "## 45. Максимальное расстояние до ближайшего человека"
   ]
  },
  {
   "cell_type": "code",
   "execution_count": 56,
   "id": "cc92c78f",
   "metadata": {},
   "outputs": [],
   "source": [
    "def maxDistToClosest(seats: List[int]) -> int:\n",
    "        left, count, ans = -1, 0, 0\n",
    "        for i, val in enumerate(seats):            \n",
    "            if val == 0:\n",
    "                count += 1\n",
    "            else:\n",
    "                if left == -1:\n",
    "                    distance = count\n",
    "                else:\n",
    "                    distance = (count + 1) // 2\n",
    "                left = i\n",
    "                count = 0\n",
    "                ans = max(ans, distance)\n",
    "                \n",
    "        return max(ans, count)"
   ]
  },
  {
   "cell_type": "markdown",
   "id": "01cce823",
   "metadata": {},
   "source": [
    "## 46. Количество запросов за определенное время"
   ]
  },
  {
   "cell_type": "code",
   "execution_count": 58,
   "id": "c64cd6e0",
   "metadata": {},
   "outputs": [],
   "source": [
    "class RecentCounter:\n",
    "    def __init__(self):\n",
    "        self.data = []\n",
    "\n",
    "    def ping(self, t):\n",
    "        while self.data and t - self.data[0] > 3000:\n",
    "            self.data.pop(0)\n",
    "        self.data.append(t)\n",
    "        return len(self.data)"
   ]
  },
  {
   "cell_type": "markdown",
   "id": "91399854",
   "metadata": {},
   "source": [
    "## 47. Найти количество не пустых подмассивов, сумма которых делится на k"
   ]
  },
  {
   "cell_type": "code",
   "execution_count": 59,
   "id": "f118abfe",
   "metadata": {},
   "outputs": [],
   "source": [
    "def subarraysDivByK(nums: List[int], k: int) -> int:\n",
    "        ans = 0\n",
    "        prefix = 0\n",
    "        count = [1] + [0] * (k - 1)\n",
    "\n",
    "        for val in nums:\n",
    "            prefix = (prefix + val) % k\n",
    "            ans += count[prefix]\n",
    "            count[prefix] += 1\n",
    "\n",
    "        return ans"
   ]
  },
  {
   "cell_type": "markdown",
   "id": "674b805c",
   "metadata": {},
   "source": [
    "## 48. Собрать массив из квадратов  чисел"
   ]
  },
  {
   "cell_type": "code",
   "execution_count": 61,
   "id": "d9896420",
   "metadata": {},
   "outputs": [],
   "source": [
    "def sortedSquares(nums: List[int]) -> List[int]:\n",
    "        l = len(nums)\n",
    "        left, right = 0, l - 1\n",
    "        res = [0] * l\n",
    "        cur = l - 1\n",
    "        while left <= right:\n",
    "            if abs(nums[left]) > abs(nums[right]):\n",
    "                res[cur] = nums[left] ** 2\n",
    "                left += 1\n",
    "            else:\n",
    "                res[cur] = nums[right] ** 2\n",
    "                right -= 1\n",
    "            cur -= 1\n",
    "        return res"
   ]
  },
  {
   "cell_type": "markdown",
   "id": "2c0922cb",
   "metadata": {},
   "source": [
    "## 49. Найти наибольшую подпоследовательность из \"1\",  если можно добавить k единиц"
   ]
  },
  {
   "cell_type": "code",
   "execution_count": 62,
   "id": "c8a1a2af",
   "metadata": {},
   "outputs": [],
   "source": [
    "def longestOnes(nums: List[int], k: int) -> int:\n",
    "        i = 0\n",
    "        n = len(nums)\n",
    "        j = 0\n",
    "        \n",
    "        countk = k\n",
    "        res = float('-inf')\n",
    "        while j < n and i < n:\n",
    "            if nums[j] == 1:\n",
    "                pass\n",
    "            else:   \n",
    "                if countk > 0:\n",
    "                    countk -= 1\n",
    "                else:\n",
    "                    while countk < 0 or nums[i] == 1:\n",
    "                        if nums[i] == 0:\n",
    "                            countk += 1\n",
    "                        i += 1\n",
    "                    i += 1\n",
    "            res = max(res, j-i+1)  \n",
    "            j += 1\n",
    "        return res"
   ]
  },
  {
   "cell_type": "markdown",
   "id": "94785c20",
   "metadata": {},
   "source": [
    "## 50. Найти самую длинную подпоследовательность из \"1\", если можно удалить один элемент "
   ]
  },
  {
   "cell_type": "code",
   "execution_count": 63,
   "id": "49aa9e04",
   "metadata": {},
   "outputs": [],
   "source": [
    "def longestSubarray(nums: List[int]) -> int:\n",
    "        i = 0\n",
    "        K = 1\n",
    "        n = len(nums)\n",
    "        res = 0\n",
    "        \n",
    "        for j in range(n):\n",
    "            if nums[j] == 0:\n",
    "                K-=1\n",
    "            while i < n and K < 0:\n",
    "                if nums[i] == 0:\n",
    "                    K+=1\n",
    "                i+=1\n",
    "            res = max(res, j-i+1)\n",
    "        return res - 1"
   ]
  }
 ],
 "metadata": {
  "kernelspec": {
   "display_name": "Python 3 (ipykernel)",
   "language": "python",
   "name": "python3"
  },
  "language_info": {
   "codemirror_mode": {
    "name": "ipython",
    "version": 3
   },
   "file_extension": ".py",
   "mimetype": "text/x-python",
   "name": "python",
   "nbconvert_exporter": "python",
   "pygments_lexer": "ipython3",
   "version": "3.9.13"
  }
 },
 "nbformat": 4,
 "nbformat_minor": 5
}
