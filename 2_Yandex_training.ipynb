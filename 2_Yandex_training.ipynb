{
 "cells": [
  {
   "cell_type": "markdown",
   "id": "439f19ce",
   "metadata": {},
   "source": [
    "Гайд по найму: https://yandex.ru/recruitment-guide/backend-developers\n",
    "\n",
    "Оценка сложности алгоритмов: https://habr.com/ru/post/188010/"
   ]
  },
  {
   "cell_type": "code",
   "execution_count": 2,
   "id": "836fc677",
   "metadata": {},
   "outputs": [],
   "source": [
    "from typing import Optional, List\n",
    "from collections import deque"
   ]
  },
  {
   "cell_type": "markdown",
   "id": "2b2216ae",
   "metadata": {},
   "source": [
    "# Связанные списки"
   ]
  },
  {
   "cell_type": "code",
   "execution_count": 118,
   "id": "21730ec4",
   "metadata": {},
   "outputs": [],
   "source": [
    "class ListNode:\n",
    "    def __init__(self, val=0, next=None):\n",
    "        self.val = val\n",
    "        self.next = next"
   ]
  },
  {
   "cell_type": "markdown",
   "id": "7b22de54",
   "metadata": {},
   "source": [
    "1. Вам дан массив из k списков связанных списков, каждый связанный список отсортирован в порядке возрастания.\n",
    "Объедините все связанные списки в один отсортированный связанный список и верните его."
   ]
  },
  {
   "cell_type": "code",
   "execution_count": 120,
   "id": "982d2c68",
   "metadata": {},
   "outputs": [],
   "source": [
    "def SortedMerge(a, b):\n",
    "        result = None\n",
    "        if a == None:\n",
    "            return b\n",
    "        elif b == None:\n",
    "            return a\n",
    "        if a.val <= b.val:\n",
    "            result = a\n",
    "            result.next = SortedMerge(a.next, b)\n",
    "        else:\n",
    "            result = b\n",
    "            result.next = SortedMerge(a, b.next)\n",
    "        return result\n",
    "    \n",
    "def mergeKLists(arr: List[Optional[ListNode]]) -> Optional[ListNode]:\n",
    "        if len(arr) == 0:\n",
    "            return None\n",
    "        last = len(arr) - 1\n",
    "        while last != 0:\n",
    "            i = 0\n",
    "            j = last\n",
    "            while i < j:\n",
    "                arr[i] = SortedMerge(arr[i], arr[j])\n",
    "                i += 1\n",
    "                j -= 1\n",
    "                if i >= j:\n",
    "                    last = j\n",
    "        return arr[0] "
   ]
  },
  {
   "cell_type": "markdown",
   "id": "f75bd903",
   "metadata": {},
   "source": [
    "2. Дан head, заголовок связанного списка, определите, есть ли в связанном списке цикл. В связанном списке есть цикл, если в списке есть какой-то узел, к которому можно снова добраться, непрерывно следуя за указателем next. Внутри pos используется для обозначения индекса узла, к которому подключен следующий указатель tail. Обратите внимание, что pos не передается в качестве параметра. Возвращает true, если в связанном списке есть цикл. В противном случае вернуть false."
   ]
  },
  {
   "cell_type": "code",
   "execution_count": 122,
   "id": "2b542140",
   "metadata": {},
   "outputs": [],
   "source": [
    "# Time: O(n), Data: O(1)\n",
    "def hasCycle(head: Optional[ListNode]) -> bool:\n",
    "        temp = \"\"\n",
    "        while head != None:\n",
    "            if head.next == None:\n",
    "                return False\n",
    "            if head.next == temp:\n",
    "                return True\n",
    "            nxt = head.next\n",
    "            head.next = temp\n",
    "            head = nxt\n",
    "        return False"
   ]
  },
  {
   "cell_type": "markdown",
   "id": "2ae80aa3",
   "metadata": {},
   "source": [
    "3. Вам даны два непустых связанных списка, представляющих два неотрицательных целых числа. Цифры хранятся в обратном порядке, и каждый из их узлов содержит одну цифру. Добавьте два числа и верните сумму в виде связанного списка. Вы можете предположить, что эти два числа не содержат начальных нулей, кроме самого числа 0."
   ]
  },
  {
   "cell_type": "code",
   "execution_count": 70,
   "id": "f61bab6b",
   "metadata": {},
   "outputs": [],
   "source": [
    "def addTwoNumbers(l1: Optional[ListNode], l2: Optional[ListNode]) -> Optional[ListNode]:\n",
    "        head = None\n",
    "        temp = None\n",
    "        carry = 0\n",
    "        while l1 is not None or l2 is not None:\n",
    "            sum_value = carry\n",
    "            if l1 is not None:\n",
    "                sum_value += l1.val\n",
    "                l1 = l1.next\n",
    "            if l2 is not None:\n",
    "                sum_value += l2.val\n",
    "                l2 = l2.next\n",
    "            node = ListNode(sum_value % 10)\n",
    "            carry = sum_value // 10\n",
    "            if temp is None:\n",
    "                temp = head = node\n",
    "            else:\n",
    "                temp.next = node\n",
    "                temp = temp.next\n",
    "        if carry > 0:\n",
    "            temp.next = ListNode(carry)\n",
    "        return head"
   ]
  },
  {
   "cell_type": "markdown",
   "id": "a38fcbb9",
   "metadata": {},
   "source": [
    "4. Дан head односвязного списка, переверните список и верните перевернутый список."
   ]
  },
  {
   "cell_type": "code",
   "execution_count": 71,
   "id": "23a5f374",
   "metadata": {},
   "outputs": [],
   "source": [
    "def reverseList(head: Optional[ListNode]) -> Optional[ListNode]:\n",
    "        if head == None:\n",
    "            return None\n",
    "        stack, temp = [], head\n",
    "        while temp:\n",
    "            stack.append(temp)\n",
    "            temp = temp.next\n",
    "        head = temp = stack.pop()\n",
    "        while len(stack) > 0:\n",
    "            temp.next = stack.pop()\n",
    "            temp = temp.next\n",
    "        temp.next = None\n",
    "        return head"
   ]
  },
  {
   "cell_type": "markdown",
   "id": "e68e5fd9",
   "metadata": {},
   "source": [
    "# Бинарный поиск"
   ]
  },
  {
   "cell_type": "markdown",
   "id": "7a642d56",
   "metadata": {},
   "source": [
    "5. Дан массив целых чисел nums, отсортированный в порядке возрастания, и целочисленная цель, напишите функцию для поиска цели в nums. Если цель существует, верните ее индекс. В противном случае вернуть -1. Вы должны написать алгоритм со сложностью выполнения O(log n)."
   ]
  },
  {
   "cell_type": "code",
   "execution_count": 72,
   "id": "96bcd143",
   "metadata": {},
   "outputs": [],
   "source": [
    "# Time: O(n), Space: O(1)\n",
    "def search(nums: List[int], target: int) -> int:\n",
    "        mid = 0\n",
    "        start = 0\n",
    "        end = len(nums) - 1 \n",
    "        while start <= end:\n",
    "            mid = (start + end) // 2\n",
    "            if target == nums[mid]:\n",
    "                return mid\n",
    "            if target < nums[mid]:\n",
    "                end = mid - 1\n",
    "            else:\n",
    "                start = mid + 1\n",
    "        return -1"
   ]
  },
  {
   "cell_type": "markdown",
   "id": "3a5eff78",
   "metadata": {},
   "source": [
    "6. Мы играем в игру «Угадай». Игра выглядит следующим образом: Я выбираю число от 1 до n. Вы должны угадать, какое число я выбрал. Каждый раз, когда вы угадаете неправильно, я скажу вам, выше или ниже выбранное вами число. Вы вызываете предопределенный API int guess(int num), который возвращает три возможных результата:\n",
    "\n",
    "-1: Ваше предположение больше, чем число, которое я выбрал (т. е. число > выбрать)\n",
    "\n",
    "1: Ваше предположение меньше числа, которое я выбрал (т. е. число < выбрано)\n",
    "\n",
    "0: ваше предположение равно числу, которое я выбрал (т. е. num == pick)"
   ]
  },
  {
   "cell_type": "code",
   "execution_count": 73,
   "id": "857bdebe",
   "metadata": {},
   "outputs": [],
   "source": [
    "def guessNumber(n: int) -> int:\n",
    "        left, right = 1, n\n",
    "        while left <= right:\n",
    "            mid = left + (right - left) // 2\n",
    "            if guess(mid) <= 0:\n",
    "                right = mid - 1\n",
    "            else:\n",
    "                left = mid + 1\n",
    "        return left"
   ]
  },
  {
   "cell_type": "markdown",
   "id": "4bd7128b",
   "metadata": {},
   "source": [
    "7. Напишите эффективный алгоритм, который ищет целевое значение в целочисленной матрице размера m x n. Эта матрица обладает следующими свойствами: 1. Целые числа в каждой строке сортируются слева направо. 2. Первое целое число каждой строки больше, чем последнее целое число предыдущей строки."
   ]
  },
  {
   "cell_type": "code",
   "execution_count": 74,
   "id": "1fe7c5e1",
   "metadata": {},
   "outputs": [],
   "source": [
    "def searchMatrix(matrix: List[List[int]], target: int) -> bool:\n",
    "            if not matrix:\n",
    "                return False\n",
    "            \n",
    "            row, col = len(matrix), len(matrix[0])\n",
    "            if row == 0 or col == 0: \n",
    "                return False\n",
    "            \n",
    "            r, c = 0, col - 1\n",
    "            for i in range(row):\n",
    "                if target <= matrix[i][c]:\n",
    "                    l, r = 0, col-1\n",
    "                    while l <= r:\n",
    "                        mid = (l + r) // 2\n",
    "                        if matrix[i][mid] == target:\n",
    "                            return True\n",
    "                        if target < matrix[i][mid]:\n",
    "                            r = mid-1\n",
    "                        else:\n",
    "                            l = mid+1\n",
    "                    return False\n",
    "                else:\n",
    "                    continue\n",
    "            return False"
   ]
  },
  {
   "cell_type": "markdown",
   "id": "708d7e8d",
   "metadata": {},
   "source": [
    "8. Существует целочисленный массив nums, отсортированный в порядке возрастания (с различными значениями). Перед тем, как быть переданным вашей функции, nums, возможно, вращается с неизвестным опорным индексом k (1 <= k < nums.length), так что результирующий массив равен [nums[k], nums[k+1],... , nums[n-1], nums[0], nums[1], ..., nums[k-1]] (с индексом 0). Например, [0,1,2,4,5,6,7] может быть повернут с поворотным индексом 3 и станет [4,5,6,7,0,1,2]. Учитывая массив nums после возможного поворота и целочисленную цель, вернуть индекс цели, если он находится в nums, или -1, если он не в nums. Вы должны написать алгоритм со сложностью выполнения O(log n)."
   ]
  },
  {
   "cell_type": "code",
   "execution_count": 4,
   "id": "58bfbee4",
   "metadata": {},
   "outputs": [],
   "source": [
    "# Time: O(logn), Space: O(1)\n",
    "def search(nums: List[int], target: int) -> int:\n",
    "        if nums is None or len(nums) == 0:\n",
    "            return -1\n",
    "        \n",
    "        left, right = 0, len(nums) - 1\n",
    "\n",
    "        while left < right:\n",
    "            middle = left + (right - left) // 2\n",
    "            if nums[middle] > nums[right]:\n",
    "                left = middle + 1\n",
    "            else:\n",
    "                right = middle\n",
    "                \n",
    "        pivot = left\n",
    "        left, right = 0, len(nums) - 1\n",
    "        if nums[pivot] <= target <= nums[right]:\n",
    "            left = pivot\n",
    "        else:\n",
    "            right = pivot\n",
    "        while left <= right:\n",
    "            middle = left + (right - left) // 2\n",
    "            if nums[middle] == target:\n",
    "                return middle\n",
    "            elif nums[middle] < target:\n",
    "                left = middle + 1\n",
    "            else:\n",
    "                right = middle - 1\n",
    "        return -1"
   ]
  },
  {
   "cell_type": "markdown",
   "id": "fd4f92d4",
   "metadata": {},
   "source": [
    "9. Предположим, что массив длины n, отсортированный в порядке возрастания, вращается от 1 до n раз. Например, массив nums = [0,1,2,4,5,6,7] может стать следующим:\n",
    "\n",
    "[4,5,6,7,0,1,2], если он был повернут 4 раза.\n",
    "[0,1,2,4,5,6,7], если он был повернут 7 раз.\n",
    "Обратите внимание, что поворот массива [a[0], a[1], a[2], ..., a[n-1]] 1 раз приводит к массиву [a[n-1], a[0] , а[1], а[2], ..., а[n-2]].\n",
    "\n",
    "Учитывая число уникальных элементов отсортированного повернутого массива, вернуть минимальный элемент этого массива. Вы должны написать алгоритм, который работает за время O(log n)."
   ]
  },
  {
   "cell_type": "code",
   "execution_count": 5,
   "id": "838b636e",
   "metadata": {},
   "outputs": [],
   "source": [
    "def findMin(nums: List[int]) -> int:\n",
    "        low = 0\n",
    "        high = len(nums) - 1\n",
    "        while (low < high):\n",
    "            mid = low + (high - low) // 2\n",
    "\n",
    "            if (nums[mid] == nums[high]):\n",
    "                high -= 1\n",
    "            elif (nums[mid] > nums[high]):\n",
    "                low = mid + 1\n",
    "            else:\n",
    "                high = mid\n",
    "        return nums[high]"
   ]
  },
  {
   "cell_type": "markdown",
   "id": "53842ed9",
   "metadata": {},
   "source": [
    "10. Существует целочисленный массив nums, отсортированный в порядке неубывания (не обязательно с различными значениями). Перед передачей в вашу функцию nums вращается с неизвестным опорным индексом k (0 <= k < nums.length), так что результирующий массив равен [nums[k], nums[k+1], ..., nums [n-1], nums[0], nums[1], ..., nums[k-1]] (с индексом 0). Например, [0,1,2,4,4,4,5,6,6,7] можно повернуть с опорным индексом 5 и превратить в [4,5,6,6,7,0,1,2, 4,4]. Учитывая массив nums после поворота и целочисленную цель, вернуть true, если цель находится в nums, или false, если она не в nums. Вы должны максимально сократить общие шаги операции."
   ]
  },
  {
   "cell_type": "code",
   "execution_count": 6,
   "id": "4e34982d",
   "metadata": {},
   "outputs": [],
   "source": [
    "# Time: O(logn), Space: O(1)\n",
    "def search(nums: List[int], target: int) -> bool:\n",
    "        pivot = 0\n",
    "        for ar in range(len(nums)-1):\n",
    "            if nums[ar] > nums[ar+1]:\n",
    "                pivot = ar + 1\n",
    "                break\n",
    "        nums = nums[pivot:] + nums[0:pivot]\n",
    "        left = 0\n",
    "        right = len(nums) - 1\n",
    "        while left <= right:\n",
    "            mid = (left+right) // 2\n",
    "            if nums[mid] == target:\n",
    "                return True\n",
    "            elif nums[mid] > target:\n",
    "                right = mid - 1\n",
    "            else:\n",
    "                left = mid + 1\n",
    "        return False"
   ]
  },
  {
   "cell_type": "markdown",
   "id": "7d0d4e17",
   "metadata": {},
   "source": [
    "# Хэш таблицы"
   ]
  },
  {
   "cell_type": "markdown",
   "id": "d320da43",
   "metadata": {},
   "source": [
    "11. Учитывая непустой массив целых чисел nums, каждый элемент появляется дважды, кроме одного. Найди ту единственную. Вы должны реализовать решение с линейной сложностью времени выполнения и использовать только постоянное дополнительное пространство."
   ]
  },
  {
   "cell_type": "code",
   "execution_count": 78,
   "id": "c011dcb2",
   "metadata": {},
   "outputs": [],
   "source": [
    "def singleNumber(nums: List[int]) -> int:\n",
    "        res = nums[0]\n",
    "        n = len(nums)\n",
    "        for i in range(1, n):\n",
    "            res = res ^ nums[i]\n",
    "        return res"
   ]
  },
  {
   "cell_type": "markdown",
   "id": "4b101543",
   "metadata": {},
   "source": [
    "12. Учитывая массив целых чисел nums и целочисленную цель, вернуть индексы двух чисел так, чтобы они складывались в цель. Вы можете предположить, что каждый вход будет иметь ровно одно решение, и вы не можете использовать один и тот же элемент дважды. Вы можете вернуть ответ в любом порядке."
   ]
  },
  {
   "cell_type": "code",
   "execution_count": 79,
   "id": "35624fd7",
   "metadata": {},
   "outputs": [],
   "source": [
    "def twoSumHashing(num_arr, pair_sum):\n",
    "    sums = []\n",
    "    hashTable = {}\n",
    "\n",
    "    for i in range(len(num_arr)):\n",
    "        complement = pair_sum - num_arr[i]\n",
    "        if complement in hashTable:\n",
    "            return num_arr[i], complement\n",
    "        hashTable[num_arr[i]] = num_arr[i]"
   ]
  },
  {
   "cell_type": "markdown",
   "id": "6a867109",
   "metadata": {},
   "source": [
    "13. Учитывая массив nums из n целых чисел, вернуть массив всех уникальных четверок [nums[a], nums[b], nums[c], nums[d]], таких что:\n",
    "\n",
    "0 <= a, b, c, d < n\n",
    "\n",
    "a, b, c и d различны\n",
    "\n",
    "nums[a] + nums[b] + nums[c] + nums[d] == target\n",
    "\n",
    "Вы можете вернуть ответ в любом порядке."
   ]
  },
  {
   "cell_type": "code",
   "execution_count": 123,
   "id": "316c5f04",
   "metadata": {},
   "outputs": [],
   "source": [
    "def fourSum(nums: List[int], target: int) -> List[List[int]]:\n",
    "        def findNsum(nums, target, n, result, results):\n",
    "            if len(nums) < n or n < 2 or target < nums[0]*n or target > nums[-1]*n:\n",
    "                return\n",
    "            if n == 2:\n",
    "                l, r = 0, len(nums) - 1\n",
    "                while l < r:\n",
    "                    s = nums[l] + nums[r]\n",
    "                    if s == target:\n",
    "                        results.append(result + [nums[l], nums[r]])\n",
    "                        l += 1\n",
    "                        while l < r and nums[l] == nums[l-1]:\n",
    "                            l += 1\n",
    "                    elif s < target:\n",
    "                        l += 1\n",
    "                    else:\n",
    "                        r -= 1\n",
    "            else:\n",
    "                for i in range(len(nums) - n + 1):\n",
    "                    if i == 0 or (i > 0 and nums[i-1] != nums[i]):\n",
    "                        findNsum(nums[i+1:], target-nums[i], n-1, result+[nums[i]], results)\n",
    " \n",
    "        results = []\n",
    "        findNsum(sorted(nums), target, 4, [], results)\n",
    "        return results"
   ]
  },
  {
   "cell_type": "markdown",
   "id": "051f2ec4",
   "metadata": {},
   "source": [
    "14. Учитывая массив строк strs, сгруппируйте анаграммы вместе. Вы можете вернуть ответ в любом порядке. Анаграмма — это слово или фраза, образованная путем перестановки букв другого слова или фразы, обычно с использованием всех исходных букв ровно один раз."
   ]
  },
  {
   "cell_type": "code",
   "execution_count": 81,
   "id": "7834d1f6",
   "metadata": {},
   "outputs": [],
   "source": [
    "def groupAnagrams(li: List[str]) -> List[List[str]]:\n",
    "        dictionary = {}\n",
    "        for word in li:\n",
    "            sortedWord = ''.join(sorted(word))\n",
    "\n",
    "            if sortedWord not in dictionary:\n",
    "                dictionary[sortedWord] = [word]\n",
    "\n",
    "            else:\n",
    "                dictionary[sortedWord] += [word]\n",
    "        return [dictionary[i] for i in dictionary]"
   ]
  },
  {
   "cell_type": "markdown",
   "id": "d54ca88b",
   "metadata": {},
   "source": [
    "15. Имея две строки s и t, вернуть true, если t является анаграммой s, и false в противном случае. Анаграмма — это слово или фраза, образованная путем перестановки букв другого слова или фразы, обычно с использованием всех исходных букв ровно один раз."
   ]
  },
  {
   "cell_type": "code",
   "execution_count": 124,
   "id": "f2bf0b28",
   "metadata": {},
   "outputs": [],
   "source": [
    "def isAnagram(str1: str, str2: str) -> bool:\n",
    "        NO_OF_CHARS = 256\n",
    "        \n",
    "        if len(str1) != len(str2):\n",
    "            return False\n",
    "        \n",
    "        count = [0 for i in range(NO_OF_CHARS)]\n",
    "        i = 0\n",
    "\n",
    "        for i in range(len(str1)):\n",
    "            count[ord(str1[i]) - ord('a')] += 1;\n",
    "            count[ord(str2[i]) - ord('a')] -= 1;\n",
    "\n",
    "        for i in range(NO_OF_CHARS):\n",
    "            if (count[i] != 0):\n",
    "                return False\n",
    "\n",
    "        return True"
   ]
  },
  {
   "cell_type": "markdown",
   "id": "28cea86e",
   "metadata": {},
   "source": [
    "16. Имея две строки s и p, вернуть массив всех начальных индексов анаграмм p в s. Вы можете вернуть ответ в любом порядке. Анаграмма — это слово или фраза, образованная путем перестановки букв другого слова или фразы, обычно с использованием всех исходных букв ровно один раз."
   ]
  },
  {
   "cell_type": "code",
   "execution_count": 125,
   "id": "57929a8b",
   "metadata": {},
   "outputs": [],
   "source": [
    "def findAnagrams(self, s: str, p: str) -> List[int]:\n",
    "        cnt = Counter(p)\n",
    "        res = []\n",
    "        for i in range(len(s)):\n",
    "            if s[i] in cnt:\n",
    "                cnt[s[i]] -= 1\n",
    "            if i - len(p) >= 0 and s[i-len(p)] in cnt:\n",
    "                cnt[s[i-len(p)]] += 1\n",
    "            if all([i == 0 for i in cnt.values()]):\n",
    "                res.append(i-len(p)+1)\n",
    "        return res"
   ]
  },
  {
   "cell_type": "markdown",
   "id": "818d406a",
   "metadata": {},
   "source": [
    "# Очередь/стек"
   ]
  },
  {
   "cell_type": "markdown",
   "id": "a1ddf55e",
   "metadata": {},
   "source": [
    "17. Учитывая строку s, содержащую только символы '(', ')', '{', '}', '[' и ']', определите, допустима ли входная строка. Входная строка действительна, если:\n",
    "\n",
    "Открытые скобки должны быть закрыты однотипными скобками.\n",
    "\n",
    "Открытые скобки должны быть закрыты в правильном порядке."
   ]
  },
  {
   "cell_type": "code",
   "execution_count": 84,
   "id": "4cc3022d",
   "metadata": {},
   "outputs": [],
   "source": [
    "# Time: O(n) / Space: O(n)\n",
    "def isValid(s: str) -> bool:\n",
    "        stack = []\n",
    "        for char in s:\n",
    "            if char in [\"(\", \"{\", \"[\"]:\n",
    "                stack.append(char)\n",
    "            else:\n",
    "                if not stack:\n",
    "                    return False\n",
    "                current_char = stack.pop()\n",
    "                if current_char == '(':\n",
    "                    if char != \")\":\n",
    "                        return False\n",
    "                if current_char == '{':\n",
    "                    if char != \"}\":\n",
    "                        return False\n",
    "                if current_char == '[':\n",
    "                    if char != \"]\":\n",
    "                        return False\n",
    " \n",
    "        if stack:\n",
    "            return False\n",
    "        return True"
   ]
  },
  {
   "cell_type": "markdown",
   "id": "a374abd5",
   "metadata": {},
   "source": [
    "# DFS/BFS "
   ]
  },
  {
   "cell_type": "markdown",
   "id": "e768a880",
   "metadata": {},
   "source": [
    "18. Учитывая двумерную двоичную сетку m x n, которая представляет собой карту «1» (земля) и «0» (вода), верните количество островов. Остров окружен водой и образован путем соединения соседних земель по горизонтали или вертикали. Вы можете предположить, что все четыре края сетки окружены водой."
   ]
  },
  {
   "cell_type": "code",
   "execution_count": 116,
   "id": "8598dc8a",
   "metadata": {},
   "outputs": [],
   "source": [
    "def numIslands(grid: List[List[str]]) -> int:\n",
    "        def dfs(x, y):\n",
    "            if x < 0 or x >= len(grid) or y < 0 or y >= len(grid[0]) or grid[x][y] != '1':\n",
    "                return\n",
    "            grid[x][y] = '0'\n",
    "            for i, j in [(x - 1, y), (x, y - 1), (x + 1, y), (x, y + 1)]:\n",
    "                dfs(i, j)\n",
    "        \n",
    "        if not grid or not grid[0]:\n",
    "            return 0\n",
    "        res = 0\n",
    "        for i in range(len(grid)):\n",
    "            for j in range(len(grid[0])):\n",
    "                if grid[i][j] == '1':\n",
    "                    dfs(i, j)\n",
    "                    res += 1\n",
    "        return res"
   ]
  },
  {
   "cell_type": "markdown",
   "id": "a470e9e3",
   "metadata": {},
   "source": [
    "19. Учитывая строку s, которая содержит круглые скобки и буквы, удалите минимальное количество недопустимых круглых скобок, чтобы сделать входную строку допустимой. Верните все возможные результаты. Вы можете вернуть ответ в любом порядке."
   ]
  },
  {
   "cell_type": "code",
   "execution_count": 6,
   "id": "f2105d8b",
   "metadata": {},
   "outputs": [],
   "source": [
    "# Time: O(n), Space: O(n)\n",
    "class Solution:\n",
    "    def removeInvalidParentheses(self, s: str) -> List[str]:\n",
    "        results = []\n",
    "        \n",
    "        left, right = self.left_right_count(s)\n",
    "        self.dfs_helper(s, left, right, 0, results)\n",
    "        \n",
    "        return results\n",
    "    \n",
    "    \n",
    "    def left_right_count(self, s):\n",
    "        \"\"\"\n",
    "        Находит разницу кол-ва левых и правых скобок\n",
    "        \"\"\"\n",
    "        left = 0\n",
    "        right = 0\n",
    "        \n",
    "        for c in s:\n",
    "            if c == '(':\n",
    "                left += 1\n",
    "            elif c == ')':\n",
    "                if left > 0:\n",
    "                    left -= 1\n",
    "                else:\n",
    "                    right += 1\n",
    "                    \n",
    "        return left, right\n",
    "    \n",
    "    \n",
    "    def is_valid(self, s):\n",
    "        left, right = self.left_right_count(s)\n",
    "        return left == 0 and right == 0\n",
    "    \n",
    "    def dfs_helper(self, s, left, right, start, results):\n",
    "        if left == 0 and right == 0:\n",
    "            if self.is_valid(s):\n",
    "                results.append(s)\n",
    "                return\n",
    "        \n",
    "        for i in range(start, len(s)):\n",
    "            if i > start and s[i] == s[i - 1]:\n",
    "                continue\n",
    "                \n",
    "            if s[i] == '(':\n",
    "                self.dfs_helper(s[:i] + s[i + 1:], left - 1, right, i, results)\n",
    "            elif s[i] == ')':\n",
    "                self.dfs_helper(s[:i] + s[i + 1:], left, right - 1, i, results)"
   ]
  },
  {
   "cell_type": "markdown",
   "id": "152584a3",
   "metadata": {},
   "source": [
    "# Сортировка"
   ]
  },
  {
   "cell_type": "markdown",
   "id": "006716a7",
   "metadata": {},
   "source": [
    "20. Учитывая массив интервалов, где intervals[i] = [start_i, end_i], объединить все перекрывающиеся интервалы и вернуть массив непересекающихся интервалов, которые охватывают все интервалы во входных данных."
   ]
  },
  {
   "cell_type": "code",
   "execution_count": 87,
   "id": "f2d1dfc7",
   "metadata": {},
   "outputs": [],
   "source": [
    "# Time: O(nlogn) / Space: O(1)\n",
    "def merge(arr: List[List[int]]) -> List[List[int]]:\n",
    "        arr.sort(key = lambda x: x[0])\n",
    "        m = []\n",
    "        s = -10000\n",
    "        max = -100000\n",
    "        \n",
    "        for i in range(len(arr)):\n",
    "            a = arr[i]\n",
    "            if a[0] > max:\n",
    "                if i != 0:\n",
    "                    m.append([s,max])\n",
    "                max = a[1]\n",
    "                s = a[0]\n",
    "            else:\n",
    "                if a[1] >= max:\n",
    "                    max = a[1]\n",
    "                    \n",
    "        if max != -100000 and [s, max] not in m:\n",
    "            m.append([s, max])\n",
    "\n",
    "        return m"
   ]
  },
  {
   "cell_type": "markdown",
   "id": "0ed6289b",
   "metadata": {},
   "source": [
    "# Хэш/куча"
   ]
  },
  {
   "cell_type": "markdown",
   "id": "a25be94d",
   "metadata": {},
   "source": [
    "21. Учитывая массив строк words и целое число k, вернуть k наиболее часто встречающихся строк. Верните ответ, отсортированный по частоте от самой высокой до самой низкой. Отсортируйте слова с одинаковой частотностью в лексикографическом порядке."
   ]
  },
  {
   "cell_type": "code",
   "execution_count": 88,
   "id": "7d27d065",
   "metadata": {},
   "outputs": [],
   "source": [
    "def topKFrequent(words: List[str], k: int) -> List[str]:\n",
    "        results = []\n",
    "        \n",
    "        count = {}\n",
    "        for word in words:\n",
    "            count[word] = count.get(word, 0) + 1\n",
    "\n",
    "        heap = []\n",
    "        for key, value in count.items():\n",
    "            heapq.heappush(heap, (-value, key))        \n",
    "\n",
    "        for i in range(k):\n",
    "            results.append(heapq.heappop(heap)[1])\n",
    "        \n",
    "        return results"
   ]
  },
  {
   "cell_type": "markdown",
   "id": "18cc4cb9",
   "metadata": {},
   "source": [
    "22. Учитывая целочисленный массив nums и целое число k, вернуть k наиболее часто встречающихся элементов. Вы можете вернуть ответ в любом порядке."
   ]
  },
  {
   "cell_type": "code",
   "execution_count": 129,
   "id": "2cfabf55",
   "metadata": {},
   "outputs": [],
   "source": [
    "def topKFrequent(nums: List[int], k: int) -> List[int]:\n",
    "        mp = dict()\n",
    "        n = len(nums)\n",
    "     \n",
    "        for i in range(0, n):\n",
    "            if nums[i] not in mp:\n",
    "                mp[nums[i]] = 0\n",
    "            else:\n",
    "                mp[nums[i]] += 1\n",
    "\n",
    "        heap = [(value, key) for key, value in mp.items()]\n",
    "\n",
    "        largest = heapq.nlargest(k, heap)\n",
    "\n",
    "        res = []\n",
    "\n",
    "        for i in range(k):\n",
    "            print(res.append(largest[i][1]))\n",
    "        return res"
   ]
  },
  {
   "cell_type": "markdown",
   "id": "8e5c8efb",
   "metadata": {},
   "source": [
    "# Два указателя"
   ]
  },
  {
   "cell_type": "markdown",
   "id": "843376b2",
   "metadata": {},
   "source": [
    "23. Вам дан целочисленный массив высоты длины n. Нарисовано n вертикальных линий, две конечные точки i-й линии равны (i, 0) и (i, height[i]). Найдите две линии, которые вместе с осью абсцисс образуют контейнер, содержащий наибольшее количество воды. Возвращает максимальное количество воды, которое может храниться в контейнере. Обратите внимание, что вы не можете наклонять контейнер."
   ]
  },
  {
   "cell_type": "code",
   "execution_count": 90,
   "id": "4bac65d1",
   "metadata": {},
   "outputs": [],
   "source": [
    "def maxArea(height: List[int]) -> int:\n",
    "        maxarea = 0\n",
    "        left = 0\n",
    "        right = len(height) - 1\n",
    "        \n",
    "        while left < right:\n",
    "            width = right - left\n",
    "            maxarea = max(maxarea, min(height[left], height[right]) * width)\n",
    "            if height[left] <= height[right]:\n",
    "                left += 1\n",
    "            else:\n",
    "                right -= 1\n",
    "                \n",
    "        return maxarea"
   ]
  },
  {
   "cell_type": "markdown",
   "id": "ff2b1d24",
   "metadata": {},
   "source": [
    "24. Вам дана строка s. Мы хотим разделить строку на как можно больше частей, чтобы каждая буква встречалась не более чем в одной части. Обратите внимание, что разбиение сделано таким образом, что после объединения всех частей по порядку результирующая строка должна быть s. Возвращает список целых чисел, представляющих размер этих частей."
   ]
  },
  {
   "cell_type": "code",
   "execution_count": 91,
   "id": "eec2a5b7",
   "metadata": {},
   "outputs": [],
   "source": [
    "# Time: O(n), Space: O(1)\n",
    "def partitionLabels(self, s: str) -> List[int]:\n",
    "        d = {}\n",
    "        for i, char in enumerate(s):\n",
    "            d[char] = i\n",
    "            \n",
    "        left, right = 0, 0\n",
    "        res = []\n",
    "        \n",
    "        for i, char in enumerate(s):\n",
    "            right = max(right, d[char])\n",
    "            if i == right:\n",
    "                res.append(right-left+1)\n",
    "                left = right + 1\n",
    "                \n",
    "        return res"
   ]
  },
  {
   "cell_type": "markdown",
   "id": "5fb66c8c",
   "metadata": {},
   "source": [
    "# Скользящее окно"
   ]
  },
  {
   "cell_type": "markdown",
   "id": "72c49f37",
   "metadata": {},
   "source": [
    "25. Медиана — это среднее значение в упорядоченном списке целых чисел. Если размер списка четный, среднего значения нет. Таким образом, медиана — это среднее значение двух средних значений.\n",
    "\n",
    "Например, если arr = [2,3,4], медиана равна 3.\n",
    "\n",
    "Например, если arr = [1,2,3,4], медиана равна (2 + 3)/2 = 2,5.\n",
    "\n",
    "Вам дан целочисленный массив nums и целое число k. Существует скользящее окно размера k, которое движется от самого левого края массива до самого правого. Вы можете видеть только k чисел в окне. Каждый раз скользящее окно перемещается вправо на одну позицию.\n",
    "\n",
    "Возврат медианного массива для каждого окна в исходном массиве. Будут приняты ответы в пределах 10-5 от фактического значения."
   ]
  },
  {
   "cell_type": "code",
   "execution_count": 19,
   "id": "bdc6117a",
   "metadata": {},
   "outputs": [],
   "source": [
    "from bisect import bisect_left\n",
    "\n",
    "def medianSlidingWindow(nums: List[int], k: int) -> List[float]:\n",
    "    def get(tmp):\n",
    "        l = len(tmp)\n",
    "        if l & 1 == 1:\n",
    "            return tmp[l // 2]\n",
    "        else:\n",
    "            return tmp[l // 2 - 1] * 0.5 + tmp[l // 2] * 0.5\n",
    "        \n",
    "        n = len(nums)\n",
    "        res = []\n",
    "        tmp = sorted(nums[:k])\n",
    "        \n",
    "        res.append(self.get(tmp) * 1.0)\n",
    "        for i in range(n - k):\n",
    "            index = bisect_left(tmp, nums[i])\n",
    "            del tmp[index]\n",
    "            bisect.insort(tmp, nums[i+k])\n",
    "            res.append(self.get(tmp) * 1.0)\n",
    "        return res"
   ]
  },
  {
   "cell_type": "markdown",
   "id": "82ac6c4a",
   "metadata": {},
   "source": [
    "26. Вам дан массив целых чисел nums, есть скользящее окно размера k, которое движется от самого левого края массива до самого правого. Вы можете видеть только k чисел в окне. Каждый раз скользящее окно перемещается вправо на одну позицию. Вернуть максимальное скользящее окно. "
   ]
  },
  {
   "cell_type": "code",
   "execution_count": 20,
   "id": "e20386d7",
   "metadata": {},
   "outputs": [],
   "source": [
    "# Time: O(n) / Space: O(k)\n",
    "def maxSlidingWindow(arr: List[int], k: int) -> List[int]:\n",
    "        Qi = deque()\n",
    "        n = len(arr)\n",
    "        for i in range(k):\n",
    "            while Qi and arr[i] >= arr[Qi[-1]]:\n",
    "                Qi.pop()\n",
    "            Qi.append(i);\n",
    "\n",
    "        result = []\n",
    "            \n",
    "        for i in range(k, n):\n",
    "            result.append(arr[Qi[0]])\n",
    "            while Qi and Qi[0] <= i-k:\n",
    "                Qi.popleft()\n",
    "            while Qi and arr[i] >= arr[Qi[-1]]:\n",
    "                Qi.pop()\n",
    "            Qi.append(i)\n",
    "\n",
    "        result.append(arr[Qi[0]])\n",
    "        \n",
    "        return result"
   ]
  },
  {
   "cell_type": "markdown",
   "id": "fe71399c",
   "metadata": {},
   "source": [
    "27. Вам дана строка s и целое число k. Вы можете выбрать любой символ строки и заменить его на любой другой заглавный английский символ. Вы можете выполнить эту операцию не более k раз. Верните длину самой длинной подстроки, содержащей ту же букву, которую вы можете получить после выполнения вышеуказанных операций."
   ]
  },
  {
   "cell_type": "code",
   "execution_count": 21,
   "id": "98939516",
   "metadata": {},
   "outputs": [],
   "source": [
    "def characterReplacement(s: str, k: int) -> int:\n",
    "        start = end = res = maxcur = 0\n",
    "        count = [0] * 26\n",
    "        while end < len(s):\n",
    "            count[ord(s[end])-65] += 1\n",
    "            maxcur = max(maxcur, max(count))\n",
    "            while end - start + 1 - maxcur > k:\n",
    "                  count[ord(s[start])-65] -= 1\n",
    "                  start += 1\n",
    "            res = max(res, end-start+1)\n",
    "            end += 1\n",
    "        return res"
   ]
  },
  {
   "cell_type": "markdown",
   "id": "35146b47",
   "metadata": {},
   "source": [
    "# Деревья"
   ]
  },
  {
   "cell_type": "code",
   "execution_count": 131,
   "id": "1ee37f36",
   "metadata": {},
   "outputs": [],
   "source": [
    "class TreeNode:\n",
    "    def __init__(self, val=0, left=None, right=None):\n",
    "        self.val = val\n",
    "        self.left = left\n",
    "        self.right = right"
   ]
  },
  {
   "cell_type": "markdown",
   "id": "1aea4ead",
   "metadata": {},
   "source": [
    "28. Имея корни двух бинарных деревьев p и q, напишите функцию, проверяющую, совпадают ли они или нет. Два бинарных дерева считаются одинаковыми, если они структурно идентичны, а узлы имеют одинаковое значение."
   ]
  },
  {
   "cell_type": "code",
   "execution_count": 96,
   "id": "cfb3101d",
   "metadata": {},
   "outputs": [],
   "source": [
    "def isSameTree(p: Optional[TreeNode], q: Optional[TreeNode]) -> bool:\n",
    "        def check(p, q):\n",
    "            if not p and not q:\n",
    "                return True\n",
    "            if not q or not p:\n",
    "                return False\n",
    "            if p.val != q.val:\n",
    "                return False\n",
    "            return True\n",
    "        \n",
    "        deq = deque([(p, q),])\n",
    "        \n",
    "        while deq:\n",
    "            p, q = deq.popleft()\n",
    "            if not check(p, q):\n",
    "                return False\n",
    "            \n",
    "            if p:\n",
    "                deq.append((p.left, q.left))\n",
    "                deq.append((p.right, q.right))\n",
    "                    \n",
    "        return True"
   ]
  },
  {
   "cell_type": "markdown",
   "id": "5d1da58f",
   "metadata": {},
   "source": [
    "29. Дан корень бинарного дерева, проверьте, является ли он зеркалом самого себя (т.е. Симметричным относительно своего центра)."
   ]
  },
  {
   "cell_type": "code",
   "execution_count": 97,
   "id": "3d3fb6ee",
   "metadata": {},
   "outputs": [],
   "source": [
    "def isSymmetric(root: Optional[TreeNode]) -> bool:\n",
    "        if not root:\n",
    "            return True\n",
    "        return check_leftright(root.left, root.right)\n",
    "\n",
    "def check_leftright(node1, node2):\n",
    "        if not node1 and not node2:\n",
    "            return True\n",
    "        elif node1 and node2 and  node1.val == node2.val:\n",
    "            return check_leftright(node1.left, node2.right) and check_leftright(node1.right, node2.left)\n",
    "        else:\n",
    "            return False"
   ]
  },
  {
   "cell_type": "markdown",
   "id": "2ff062d5",
   "metadata": {},
   "source": [
    "30. Учитывая бинарное дерево, определите, сбалансировано ли оно по высоте. Для этой задачи сбалансированное по высоте бинарное дерево определяется как: бинарное дерево, в котором левое и правое поддеревья каждого узла отличаются по высоте не более чем на 1."
   ]
  },
  {
   "cell_type": "code",
   "execution_count": 98,
   "id": "e3fba1d7",
   "metadata": {},
   "outputs": [],
   "source": [
    "# time: O(n) / space: O(1)\n",
    "def isBalanced(root: Optional[TreeNode]) -> bool:\n",
    "        def depth(root):\n",
    "            if not root:\n",
    "                return 0\n",
    "            \n",
    "            left_depth = depth(root.left)\n",
    "            right_depth = depth(root.right)\n",
    "            \n",
    "            if left_depth == -1 or right_depth == -1 or abs(left_depth - right_depth) > 1:\n",
    "                return -1\n",
    "            \n",
    "            return max(left_depth, right_depth) + 1\n",
    "        \n",
    "        return depth(root) != -1"
   ]
  },
  {
   "cell_type": "markdown",
   "id": "56b21394",
   "metadata": {},
   "source": [
    "31. Учитывая корень двоичного дерева и целое число targetSum, вернуть все пути от корня к листу, где сумма значений узлов в пути равна targetSum. Каждый путь должен быть возвращен в виде списка значений узлов, а не ссылок на узлы. Путь от корня к листу — это путь, начинающийся от корня и заканчивающийся в любом конечном узле. Лист — это узел без потомков."
   ]
  },
  {
   "cell_type": "code",
   "execution_count": 132,
   "id": "685ea168",
   "metadata": {},
   "outputs": [],
   "source": [
    "def pathSum(root: Optional[TreeNode], targetSum: int) -> List[List[int]]:\n",
    "        res = []\n",
    "        \n",
    "        def dfs(root, targetSum, path):\n",
    "            if not root:\n",
    "                return \n",
    "            if root.left is None and root.right is None and targetSum - root.val == 0:\n",
    "                res.append(path + [root.val])\n",
    "                \n",
    "            dfs(root.left, targetSum - root.val, path + [root.val])\n",
    "            dfs(root.right, targetSum - root.val, path + [root.val])\n",
    "            \n",
    "        dfs(root, targetSum, [])\n",
    "        return res"
   ]
  },
  {
   "cell_type": "markdown",
   "id": "a929359d",
   "metadata": {},
   "source": [
    "# Жадные алгоритмы"
   ]
  },
  {
   "cell_type": "markdown",
   "id": "049c4423",
   "metadata": {},
   "source": [
    "32. Вам дан массив цен, где prices[i] — цена данной акции на i-й день. Вы хотите максимизировать свою прибыль, выбрав один день для покупки одной акции и выбрав другой день в будущем для продажи этой акции. Верните максимальную прибыль, которую вы можете получить от этой сделки. Если вы не можете получить никакой прибыли, верните 0."
   ]
  },
  {
   "cell_type": "code",
   "execution_count": 68,
   "id": "0a31bed1",
   "metadata": {},
   "outputs": [],
   "source": [
    "def maxProfit(prices: List[int]) -> int:\n",
    "        min_price = prices[0]\n",
    "        max_profit = 0\n",
    "        \n",
    "        for i in range(1, len(prices)):\n",
    "            if min_price > prices[i]: \n",
    "                min_price = prices[i]\n",
    "            else: \n",
    "                if prices[i] - min_price > max_profit:\n",
    "                    max_profit = prices[i] - min_price\n",
    "        \n",
    "        return max_profit"
   ]
  },
  {
   "cell_type": "markdown",
   "id": "ca1aa132",
   "metadata": {},
   "source": [
    "33. Вам дан целочисленный массив цен, где prices[i] — цена данной акции на i-й день. Каждый день вы можете решить купить и/или продать акции. В любой момент времени вы можете владеть не более чем одной акцией. Однако вы можете купить его и тут же продать в тот же день. Найдите и верните максимальную прибыль, которую вы можете получить."
   ]
  },
  {
   "cell_type": "code",
   "execution_count": 22,
   "id": "efc74603",
   "metadata": {},
   "outputs": [],
   "source": [
    "def maxProfit(prices: List[int]) -> int:\n",
    "        if len(prices) == 0:\n",
    "            return 0\n",
    "        i = 0\n",
    "        profit = 0\n",
    "        while i < len(prices) - 1:\n",
    "            while i < len(prices) - 1 and prices[i] >= prices[i + 1]:\n",
    "                i += 1\n",
    "            valley = prices[i]\n",
    "            while i < len(prices) - 1 and prices[i] <= prices[i + 1]:\n",
    "                i += 1\n",
    "            peak = prices[i]\n",
    "            profit += peak - valley    \n",
    "        return profit"
   ]
  },
  {
   "cell_type": "markdown",
   "id": "3a1b159e",
   "metadata": {},
   "source": [
    "33. Вам дан массив цен, где prices[i] — это цена данной акции на i-й день, а целое число представляет комиссию за транзакцию. Найдите максимальную прибыль, которую вы можете получить. Вы можете совершать столько транзакций, сколько хотите, но вам необходимо платить комиссию за транзакцию за каждую транзакцию.\n",
    "\n",
    "Примечание. Вы не можете совершать несколько транзакций одновременно (т. е. вы должны продать акции, прежде чем покупать их снова)."
   ]
  },
  {
   "cell_type": "code",
   "execution_count": 102,
   "id": "33f627ad",
   "metadata": {},
   "outputs": [],
   "source": [
    "def maxProfit(prices: List[int], fee: int) -> int:\n",
    "        buying, selling = 0, -prices[0]\n",
    "        for i in range(1, len(prices)):\n",
    "            buying = max(buying, selling + prices[i] - fee)\n",
    "            selling = max(selling, buying - prices[i])\n",
    "        return buying"
   ]
  },
  {
   "cell_type": "markdown",
   "id": "dfe8f034",
   "metadata": {},
   "source": [
    "34. Вам дан массив цен, где prices[i] — цена данной акции на i-й день. Найдите максимальную прибыль, которую вы можете получить. Вы можете совершать сколько угодно транзакций (т. е. покупать одну и продавать одну акцию несколько раз) со следующими ограничениями: После того, как вы продали свои акции, вы не можете купить акции на следующий день (т. е. один день восстановления).\n",
    "\n",
    "Примечание. Вы не можете совершать несколько транзакций одновременно (т. е. вы должны продать акции, прежде чем покупать их снова)."
   ]
  },
  {
   "cell_type": "code",
   "execution_count": 14,
   "id": "1f41d377",
   "metadata": {},
   "outputs": [],
   "source": [
    "def maxProfit(prices: List[int]) -> int:\n",
    "        n = len(prices)\n",
    "        if n <= 1:\n",
    "            return 0\n",
    "        buy = -prices[0]\n",
    "        sell = 0\n",
    "        cooldown = 0\n",
    "        for i in range(1, n):\n",
    "            pre_buy = buy\n",
    "            pre_sell = sell\n",
    "            pre_cooldown = cooldown\n",
    "            buy = max(pre_buy, pre_cooldown-prices[i])\n",
    "            sell = max(pre_sell, prices[i]+pre_buy)\n",
    "            cooldown = max(pre_cooldown,pre_sell)\n",
    "        return max(sell,cooldown)"
   ]
  }
 ],
 "metadata": {
  "kernelspec": {
   "display_name": "Python 3 (ipykernel)",
   "language": "python",
   "name": "python3"
  },
  "language_info": {
   "codemirror_mode": {
    "name": "ipython",
    "version": 3
   },
   "file_extension": ".py",
   "mimetype": "text/x-python",
   "name": "python",
   "nbconvert_exporter": "python",
   "pygments_lexer": "ipython3",
   "version": "3.9.13"
  }
 },
 "nbformat": 4,
 "nbformat_minor": 5
}
