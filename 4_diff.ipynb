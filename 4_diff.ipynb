{
 "cells": [
  {
   "cell_type": "markdown",
   "id": "c7345226",
   "metadata": {},
   "source": [
    "## Удалить из первого листа элементы второго"
   ]
  },
  {
   "cell_type": "code",
   "execution_count": 3,
   "id": "3cafd8fa",
   "metadata": {},
   "outputs": [],
   "source": [
    "# Задача3. Даны два вектора, нужно из первого удалить элементы, которые есть во втором ,\n",
    "# дополнительно ничего не создавать\n",
    "\n",
    "def func_del(arr1, arr2):\n",
    "    arr2 = set(arr2)\n",
    "    \n",
    "    for i in range(0, len(arr1)):\n",
    "        if arr1[i] in arr2:\n",
    "            arr1[i] = 'del'\n",
    "            \n",
    "    arr2 = []\n",
    "    for i in arr1:\n",
    "        if i != 'del':\n",
    "            arr2.append(i)\n",
    "            \n",
    "    return arr2"
   ]
  },
  {
   "cell_type": "markdown",
   "id": "19203b53",
   "metadata": {},
   "source": [
    "## Заменить пробелы на %20"
   ]
  },
  {
   "cell_type": "code",
   "execution_count": 184,
   "id": "fbe41e10",
   "metadata": {},
   "outputs": [
    {
     "data": {
      "text/plain": [
       "'fdsg%20gfdgf%20dfdsg%20sfd%20'"
      ]
     },
     "execution_count": 184,
     "metadata": {},
     "output_type": "execute_result"
    }
   ],
   "source": [
    "#Задача9.Дана строка, заменить в ней все пробелы на %20\n",
    "\n",
    "def func(s):\n",
    "    s1 = ''\n",
    "    for i in range(len(s)):\n",
    "        if s[i] == ' ':\n",
    "            s1 += '%20'\n",
    "        else:\n",
    "            s1 += s[i]\n",
    "    return s1\n",
    "\n",
    "func('fdsg gfdgf dfdsg sfd')\n",
    "            "
   ]
  },
  {
   "cell_type": "code",
   "execution_count": 43,
   "id": "ed19da88",
   "metadata": {},
   "outputs": [
    {
     "name": "stdout",
     "output_type": "stream",
     "text": [
      "None\n"
     ]
    }
   ],
   "source": [
    "def solve(a, k):\n",
    "    m = dict()\n",
    "    for i in range(len(a)):\n",
    "        s = 0\n",
    "        s += a[i]\n",
    "        if s == k:\n",
    "            return (0, i)\n",
    "        if m.get(s - k):\n",
    "            return (j + 1, i)\n",
    "        m[s] = i           \n",
    "    return None\n",
    "\n",
    "print(solve([1, 2, 3, 4, 5, 6, 7, 8], 15))"
   ]
  },
  {
   "cell_type": "code",
   "execution_count": null,
   "id": "b661f2e3",
   "metadata": {},
   "outputs": [],
   "source": [
    "#Задача12. Парсинг смайлов.\n",
    "\n",
    "def del_smile(s):\n",
    "    while i < len(s):\n",
    "        if s[i-1] == ':' and (s[i] == ')':\n",
    "            start = i-1\n",
    "            \n",
    "            while(s[i] == ')'):\n",
    "                "
   ]
  },
  {
   "cell_type": "markdown",
   "id": "3324ae61",
   "metadata": {},
   "source": [
    "Вашей программе будет дана последовательность чисел. Требуется определить, какое минимальное количество и каких чисел надо приписать в конец этой последовательности, чтобы она стала симметричной. (Задача F в тренировках яндекс алгоритмы)\n",
    "Решение основано на алгоритме КМП, посчитаем массив из префикс функций."
   ]
  },
  {
   "cell_type": "code",
   "execution_count": 24,
   "id": "c06a6607",
   "metadata": {},
   "outputs": [
    {
     "name": "stdout",
     "output_type": "stream",
     "text": [
      "[0, 0, 1, 2, 3, 4]\n"
     ]
    }
   ],
   "source": [
    "def prefix(s):\n",
    "    p = [0]*len(s)\n",
    "    j = 0\n",
    "    i = 1\n",
    "    while (i < len(s)):\n",
    "        if (s[i] == s[j]):\n",
    "            p[i] = j + 1\n",
    "            i += 1\n",
    "            j += 1\n",
    "        else:\n",
    "            if j==0:\n",
    "                p[i] = 0\n",
    "                i += 1\n",
    "            else:\n",
    "                j = p[j-1]\n",
    "    return p\n",
    "\n",
    "\n",
    "def (p,s_all,s):\n",
    "    i = 0\n",
    "    j = 0\n",
    "    while(i < len(s_all)):\n",
    "        if s_all[i] == s[j]:\n",
    "            i += 1\n",
    "            j += 1\n",
    "            if j == len(s):\n",
    "                print('Симметрична')\n",
    "        else:\n",
    "            if j>0:\n",
    "                j = p[j-1]\n",
    "            else:\n",
    "                i += 1\n",
    "            "
   ]
  },
  {
   "cell_type": "code",
   "execution_count": 36,
   "id": "85fe0f82",
   "metadata": {},
   "outputs": [
    {
     "name": "stdout",
     "output_type": "stream",
     "text": [
      "1 2 3 -1 -5 6 4\n"
     ]
    }
   ],
   "source": [
    "mas = list(map(lambda x : abs(int(x)),input().split()))"
   ]
  },
  {
   "cell_type": "code",
   "execution_count": 37,
   "id": "4294d453",
   "metadata": {},
   "outputs": [
    {
     "data": {
      "text/plain": [
       "[1, 2, 3, 1, 5, 6, 4]"
      ]
     },
     "execution_count": 37,
     "metadata": {},
     "output_type": "execute_result"
    }
   ],
   "source": [
    "mas"
   ]
  },
  {
   "cell_type": "code",
   "execution_count": null,
   "id": "f0bd2d6e",
   "metadata": {},
   "outputs": [],
   "source": [
    "mas = list(map(int,input().split()))\n",
    "if len(mas) >= 4:\n",
    "    tmp = sorted([mas[0],mas[1],mas[2],mas[3]])\n",
    "    max1 = tmp[3]\n",
    "    max2 = tmp[2]\n",
    "    min2 = tmp[1]\n",
    "    min1 = tmp[0]\n",
    "    for i in range(4,len(mas)):\n",
    "        if mas[i] > max1:\n",
    "            max2 = max1\n",
    "            max1 = mas[i]\n",
    "        else:\n",
    "            if mas[i] > max2:\n",
    "                max2 =mas[i]\n",
    "        if mas[i]<min1:\n",
    "            min2 = min1\n",
    "            min1 = mas[i]\n",
    "        else:\n",
    "            if mas[i] < min2:\n",
    "                min2 = mas[i]\n",
    "    if max1*max2 > min1*min2:\n",
    "        res = (max2, max1)\n",
    "    else:\n",
    "        res = (min1,min2)\n",
    "else:\n",
    "    if len(mas) == 2:\n",
    "        if mas[0] > mas[1]:\n",
    "            res = (mas[1], mas[0])\n",
    "        else:\n",
    "            res = (mas[0], mas[1])\n",
    "    else:\n",
    "        mas = sorted(mas)\n",
    "        if mas[0] * mas[1] > mas[1] * mas[2]:\n",
    "            res = (mas[0],mas[1])\n",
    "        else:\n",
    "            res = (mas[1], mas[2])\n",
    "print(*res)"
   ]
  },
  {
   "cell_type": "code",
   "execution_count": 3,
   "id": "56074e43",
   "metadata": {},
   "outputs": [],
   "source": [
    "### Дан массив отсортированный целых чисел, нужно найти сумму двух чисел массива\n",
    "### максимально приближенную к наперёд заданному значению O(n)\n",
    "\n",
    "def func(arr,q):\n",
    "    left = 0\n",
    "    right = len(arr) - 1\n",
    "    i = 0\n",
    "    n = len(arr)\n",
    "    min_diff = arr[-1] + 100\n",
    "    while(left<right):\n",
    "        sum_tmp = arr[left] + arr[right]\n",
    "        diff = abs(q - sum_tmp)\n",
    "        if diff < min_diff:\n",
    "            min_diff = diff\n",
    "            min_sum = sum_tmp\n",
    "        if sum_tmp > q:\n",
    "            right = right - 1\n",
    "        else:\n",
    "            if sum_tmp == q:\n",
    "                return sum_tmp\n",
    "            else:\n",
    "                left = left + 1\n",
    "    return sum_tmp\n",
    "        "
   ]
  },
  {
   "cell_type": "code",
   "execution_count": 1,
   "id": "e951df96",
   "metadata": {},
   "outputs": [],
   "source": [
    "def delete_smails(s):\n",
    "    mode = 0\n",
    "    i = 0\n",
    "    length = len(s)\n",
    "    while (i<length):\n",
    "        if s[i] == ':':\n",
    "            mode = 1\n",
    "            pos = i\n",
    "        else:\n",
    "            mode = 0\n",
    "            \n",
    "        if (mode == 1) and s[fi] == ')':\n",
    "            while(s[i] == ')' and i<length):\n",
    "                i += 1\n",
    "            s = s[0:pos] + s[i:]\n",
    "            length -= i-pos\n",
    "            mode = 0\n",
    "            \n",
    "        if (mode == 1) and s[i] == '(':\n",
    "            while(s[i] == '(' and i<length):\n",
    "                i += 1\n",
    "            s = s[0:pos] + s[i:]\n",
    "            length -= i - pos\n",
    "            mode = 0\n",
    "        i+=1\n",
    "    return s\n",
    "                \n",
    "            "
   ]
  },
  {
   "cell_type": "code",
   "execution_count": 2,
   "id": "d389230d",
   "metadata": {},
   "outputs": [
    {
     "data": {
      "text/plain": [
       "'(:::)'"
      ]
     },
     "execution_count": 2,
     "metadata": {},
     "output_type": "execute_result"
    }
   ],
   "source": [
    "delete_smails('(:::)')"
   ]
  },
  {
   "cell_type": "markdown",
   "id": "a6e6ae37",
   "metadata": {},
   "source": [
    "Перевернуть каждое слово в тексте"
   ]
  },
  {
   "cell_type": "code",
   "execution_count": 24,
   "id": "94b10036",
   "metadata": {},
   "outputs": [],
   "source": [
    "def reverse_array(arr):\n",
    "    for i in range(len(arr)//2 + 1):\n",
    "        tmp = arr[i]\n",
    "        arr[i] = arr[-i-1]\n",
    "        arr[-i-1] = tmp\n",
    "    return arr"
   ]
  },
  {
   "cell_type": "code",
   "execution_count": 25,
   "id": "59e35555",
   "metadata": {},
   "outputs": [
    {
     "data": {
      "text/plain": [
       "[6, 5, 4, 2, 1]"
      ]
     },
     "execution_count": 25,
     "metadata": {},
     "output_type": "execute_result"
    }
   ],
   "source": [
    "reverse_array([1,2,4,5,6])"
   ]
  },
  {
   "cell_type": "code",
   "execution_count": 34,
   "id": "36fd41a8",
   "metadata": {},
   "outputs": [],
   "source": [
    "def reverse_string(s):\n",
    "    s = s.split()\n",
    "    s = reverse_array(s)\n",
    "    res = ''\n",
    "    for i in s:\n",
    "        res += i + ' '\n",
    "    return res"
   ]
  },
  {
   "cell_type": "code",
   "execution_count": 94,
   "id": "1d19f008",
   "metadata": {},
   "outputs": [
    {
     "data": {
      "text/plain": [
       "'dsafdf fdafd '"
      ]
     },
     "execution_count": 94,
     "metadata": {},
     "output_type": "execute_result"
    }
   ],
   "source": [
    "reverse_string('dsafdf fdafd')"
   ]
  },
  {
   "cell_type": "markdown",
   "id": "8b2d963e",
   "metadata": {},
   "source": [
    " Задача 3, найти в тексте подстроку, что она совпадает с точностью до перестановки букв"
   ]
  },
  {
   "cell_type": "code",
   "execution_count": 104,
   "id": "f9500ccf",
   "metadata": {},
   "outputs": [],
   "source": [
    "def find_substr(line : str, pattern : str):\n",
    "    dict1 = {}\n",
    "    dict2 = {}\n",
    "    for c in pattern:\n",
    "        if (dict1.get(c) != None):\n",
    "            dict1[c] += 1\n",
    "        else:\n",
    "            dict1[c] = 1\n",
    "    print(dict1)\n",
    "    start = 0\n",
    "    stop = len(pattern)\n",
    "    for i in range(start,stop):\n",
    "        if dict2.get(line[i]) != None:\n",
    "            dict2[line[i]] += 1\n",
    "        else:\n",
    "            dict2[line[i]] = 1\n",
    "    while (stop < len(line)-1):\n",
    "        print(dict2)\n",
    "        if dict2 == dict1:\n",
    "            return start,stop-1\n",
    "        else:\n",
    "            if dict2[line[start]] == 1:\n",
    "                del dict2[line[start]]\n",
    "            else:\n",
    "                dict2[line[start]] -= 1\n",
    "            start += 1\n",
    "            stop +=1\n",
    "            if dict2.get(line[stop-1]) != None:\n",
    "                dict2[line[stop-1]] += 1\n",
    "            else:\n",
    "                dict2[line[stop-1]] = 1\n",
    "    return False\n",
    "            "
   ]
  },
  {
   "cell_type": "code",
   "execution_count": 105,
   "id": "e9459e27",
   "metadata": {},
   "outputs": [
    {
     "name": "stdout",
     "output_type": "stream",
     "text": [
      "{'s': 1, 'd': 1, 'f': 1}\n",
      "{'f': 1, 'd': 1, 's': 1}\n"
     ]
    },
    {
     "data": {
      "text/plain": [
       "(0, 2)"
      ]
     },
     "execution_count": 105,
     "metadata": {},
     "output_type": "execute_result"
    }
   ],
   "source": [
    "find_substr('fdsfdgfdgfdg', 'sdf')"
   ]
  },
  {
   "cell_type": "markdown",
   "id": "f31fb9d7",
   "metadata": {},
   "source": [
    "Даны два вектора, нужно из первого удалить элементы, которые есть во втором , дополнительно ничего не создавать"
   ]
  },
  {
   "cell_type": "code",
   "execution_count": 101,
   "id": "0163b990",
   "metadata": {},
   "outputs": [
    {
     "data": {
      "text/plain": [
       "[]"
      ]
     },
     "execution_count": 101,
     "metadata": {},
     "output_type": "execute_result"
    }
   ],
   "source": [
    "func_del([1,2,3,5],[1,2,3,5])"
   ]
  },
  {
   "cell_type": "code",
   "execution_count": 136,
   "id": "b28e92c1",
   "metadata": {},
   "outputs": [
    {
     "data": {
      "text/plain": [
       "True"
      ]
     },
     "execution_count": 136,
     "metadata": {},
     "output_type": "execute_result"
    }
   ],
   "source": [
    "check_sim([(-1,-1),(1,1)])"
   ]
  },
  {
   "cell_type": "markdown",
   "id": "e7242c0a",
   "metadata": {},
   "source": [
    "Реализовать функцию, проверяющую, можно ли одну строку получить из другой не более, чем за одно исправление (удаление, добавление, изменение символа)"
   ]
  },
  {
   "cell_type": "code",
   "execution_count": 180,
   "id": "82d023cc",
   "metadata": {},
   "outputs": [],
   "source": [
    "def one_edit_apart(s1: str, s2: str) -> bool:\n",
    " \n",
    "    if s1 == s2: return True\n",
    "    len_1 = len(s1)\n",
    "    len_2 = len(s2)\n",
    "    if len_2 == len_1:\n",
    "        flag = 0\n",
    "        for i in range(len_1):\n",
    "            if s1[i] != s2[i]:\n",
    "                if flag == 1: return False\n",
    "                else: flag = 1\n",
    "        return True\n",
    " \n",
    "    if abs(len_1 - len_2) == 1:\n",
    "        if len_1 < len_2:\n",
    "            len_1, len_2 = len_2, len_1\n",
    "            s1, s2 = s2, s1\n",
    "        i = 0\n",
    "        flag = 0\n",
    "        while i < len_1 - 1:\n",
    "            if s1[i + flag] != s2[i]:\n",
    "                if flag == 1:  return False\n",
    "                else: \n",
    "                    flag = 1\n",
    "                    continue\n",
    "            i += 1\n",
    "        return True\n",
    "    else: return False"
   ]
  },
  {
   "cell_type": "code",
   "execution_count": 181,
   "id": "92c3dd24",
   "metadata": {},
   "outputs": [
    {
     "data": {
      "text/plain": [
       "True"
      ]
     },
     "execution_count": 181,
     "metadata": {},
     "output_type": "execute_result"
    }
   ],
   "source": [
    "one_edit_apart('fdsf','fdsf')"
   ]
  },
  {
   "cell_type": "markdown",
   "id": "d9677baa",
   "metadata": {},
   "source": [
    "Дана квадратная матрица NxN, заполненная нулями и единицами таким образом, что в каждой строке все нули располагаются левее всех единиц (возможны строки, состоящие полностью из нулей или полностью из единиц). Требуется определить номер первой колонки, в которой есть хоть одна единица.\n",
    "(сложность O(n) должна быть !!) (вроде он сказал что здесь будет O(2n) )"
   ]
  },
  {
   "cell_type": "code",
   "execution_count": 168,
   "id": "56703643",
   "metadata": {},
   "outputs": [
    {
     "name": "stdout",
     "output_type": "stream",
     "text": [
      "1\n"
     ]
    }
   ],
   "source": [
    "a = [[0,0,0,1],[0,1,1,1],[0,0,1,1], [0,0,0,0]]\n",
    "N = len(a)\n",
    "min_i = N\n",
    "index = []\n",
    "index_prob = []\n",
    "for i in range(N):\n",
    "    if a[i][i] == 1:\n",
    "        if i < min_i:\n",
    "            min_i = i\n",
    "        index.append(i)\n",
    "min_i2 = min_i\n",
    "for i in index:\n",
    "    for j in range(0,min_i):\n",
    "        if a[i][j] == 1:\n",
    "            if j<min_i2:\n",
    "                min_i2 = j\n",
    "print(min_i2) # если колонки считать от нуля, сложность вроде как "
   ]
  },
  {
   "cell_type": "code",
   "execution_count": null,
   "id": "5643e832",
   "metadata": {},
   "outputs": [],
   "source": [
    "3n - 1 , n + n/2\n",
    "\n",
    "\n",
    "0 0 0 0 0 0\n",
    "0 0 1 1 1 1\n",
    "0 0 0 1 1 1\n",
    "0 0 1 1 1 1\n",
    "1 1 1 1 1 1\n",
    "0 0 0 1 1 1"
   ]
  },
  {
   "cell_type": "code",
   "execution_count": null,
   "id": "ba98f7a8",
   "metadata": {},
   "outputs": [],
   "source": []
  },
  {
   "cell_type": "code",
   "execution_count": 6,
   "id": "93a3e410",
   "metadata": {},
   "outputs": [],
   "source": [
    "import sys\n",
    "a = sys.stdin.read()"
   ]
  },
  {
   "cell_type": "code",
   "execution_count": 8,
   "id": "ad7b7355",
   "metadata": {},
   "outputs": [
    {
     "data": {
      "text/plain": [
       "0"
      ]
     },
     "execution_count": 8,
     "metadata": {},
     "output_type": "execute_result"
    }
   ],
   "source": [
    "b = set()\n",
    "len(b)"
   ]
  },
  {
   "cell_type": "code",
   "execution_count": 10,
   "id": "e25d9728",
   "metadata": {},
   "outputs": [
    {
     "name": "stdout",
     "output_type": "stream",
     "text": [
      "1 2 3\n",
      "112233\n",
      "0\n"
     ]
    }
   ],
   "source": [
    "a = set(map(int,input().split()))\n",
    "s = input()\n",
    "cnt = 0\n",
    "b = set()\n",
    "for i in s:\n",
    "\tif int(i) not in a:\n",
    "\t\tif int(i) not in b:\n",
    "\t\t\tb.add(i)\n",
    "print(len(b))"
   ]
  },
  {
   "cell_type": "code",
   "execution_count": 11,
   "id": "1e948733",
   "metadata": {},
   "outputs": [
    {
     "name": "stdout",
     "output_type": "stream",
     "text": [
      "ABBACAB\n",
      "BCABB\n",
      "3\n"
     ]
    }
   ],
   "source": [
    "a = input()\n",
    "b = input()\n",
    "tmp1 = set()\n",
    "tmp2 = set()\n",
    "for i in range(len(a)-1):\n",
    "\ttmp1.add(a[i] + a[i+1])\n",
    "for j in range(len(b)-1):\n",
    "\ttmp2.add(b[j] + b[j+1])\n",
    "print(len(tmp1.intersection(tmp2)))"
   ]
  },
  {
   "cell_type": "code",
   "execution_count": 36,
   "id": "3192e1d1",
   "metadata": {},
   "outputs": [
    {
     "name": "stdout",
     "output_type": "stream",
     "text": [
      "ABBACAB\n",
      "BCABB\n",
      "4\n"
     ]
    }
   ],
   "source": [
    "a = input()\n",
    "b = input()\n",
    "tmp1 = []\n",
    "tmp2 = []\n",
    "cnt = 0\n",
    "if len(a)>1 and len(b)>1:\n",
    "    for i in range(len(a)-1):\n",
    "        tmp1.append(a[i] + a[i+1])\n",
    "    for j in range(len(b)-1):\n",
    "        tmp2.append(b[j] + b[j+1])\n",
    "    for i in tmp1:\n",
    "        for j in tmp2:\n",
    "            if i==j:\n",
    "                cnt += 1\n",
    "print(cnt)"
   ]
  },
  {
   "cell_type": "code",
   "execution_count": 44,
   "id": "2a3b0fb1",
   "metadata": {},
   "outputs": [
    {
     "name": "stdout",
     "output_type": "stream",
     "text": [
      "3\n",
      "3\n",
      "Rus\n",
      "Eng\n",
      "Jap\n",
      "2\n",
      "Rus\n",
      "Eng\n",
      "1\n",
      "Eng\n",
      "1\n",
      "Eng\n",
      "3\n",
      "Eng Rus Jap\n"
     ]
    }
   ],
   "source": [
    "N = int(input())\n",
    "all_set = set()\n",
    "inter_set = set()\n",
    "K = int(input())\n",
    "for i in range(K):\n",
    "\telem = input()\n",
    "\tall_set.add(elem)\n",
    "\tinter_set.add(elem)\n",
    "for i in range(1,N):\n",
    "    cur_set = set()\n",
    "    k = int(input())\n",
    "    for j in range(k):\n",
    "        language = input()\n",
    "        cur_set.add(language)\n",
    "        if language not in all_set:\n",
    "            all_set.add(language)\n",
    "    inter_set = inter_set.intersection(cur_set)\n",
    "print(len(inter_set))\n",
    "for i in inter_set:\n",
    "    print(i)\n",
    "print(len(all_set))\n",
    "for i in all_set:\n",
    "    print(i)"
   ]
  },
  {
   "cell_type": "code",
   "execution_count": 57,
   "id": "c3a69c16",
   "metadata": {},
   "outputs": [],
   "source": [
    "sys.stdin = 'apple orange banana banana orange'"
   ]
  },
  {
   "cell_type": "code",
   "execution_count": 54,
   "id": "46107565",
   "metadata": {},
   "outputs": [
    {
     "name": "stdout",
     "output_type": "stream",
     "text": [
      "my\n"
     ]
    }
   ],
   "source": [
    "import sys\n",
    "a = ''\n",
    "for line in sys.stdin:\n",
    "    a += line\n",
    "a = a.split()\n",
    "\n",
    "dict1 = {}\n",
    "max = 0\n",
    "for i in a:\n",
    "\tif dict1.get(i) != None:\n",
    "\t\tdict1[i] += 1\n",
    "\telse:\n",
    "\t\tdict1[i] = 1\n",
    "\tif dict1[i] > max:\n",
    "\t\tmax = dict1[i]\n",
    "\t\tkey = i\n",
    "print(key)"
   ]
  },
  {
   "cell_type": "code",
   "execution_count": 66,
   "id": "54507a2b",
   "metadata": {},
   "outputs": [
    {
     "name": "stdout",
     "output_type": "stream",
     "text": [
      "banana\n"
     ]
    }
   ],
   "source": [
    "import sys\n",
    "a = ''\n",
    "for line in sys.stdin:\n",
    "    a += line\n",
    "a = a.split()\n",
    "\n",
    "dict1 = {}\n",
    "max1 = 0\n",
    "for i in a:\n",
    "    if dict1.get(i) != None:\n",
    "        dict1[i] += 1\n",
    "    else:\n",
    "        dict1[i] = 1\n",
    "    if dict1[i] > max1:\n",
    "        max1 = dict1[i]\n",
    "        key = i\n",
    "    else:\n",
    "        if dict1[i] == max1:\n",
    "            if i<key:\n",
    "                key = i\n",
    "print(key)"
   ]
  },
  {
   "cell_type": "code",
   "execution_count": 68,
   "id": "c10e76d9",
   "metadata": {},
   "outputs": [
    {
     "name": "stdout",
     "output_type": "stream",
     "text": [
      "1 2 3 4 5\n"
     ]
    },
    {
     "ename": "TypeError",
     "evalue": "cannot convert dictionary update sequence element #0 to a sequence",
     "output_type": "error",
     "traceback": [
      "\u001b[0;31m---------------------------------------------------------------------------\u001b[0m",
      "\u001b[0;31mTypeError\u001b[0m                                 Traceback (most recent call last)",
      "\u001b[0;32m<ipython-input-68-447099fa2bdc>\u001b[0m in \u001b[0;36m<module>\u001b[0;34m\u001b[0m\n\u001b[0;32m----> 1\u001b[0;31m \u001b[0mdict1\u001b[0m \u001b[0;34m=\u001b[0m \u001b[0mdict\u001b[0m\u001b[0;34m(\u001b[0m\u001b[0mmap\u001b[0m\u001b[0;34m(\u001b[0m\u001b[0mint\u001b[0m\u001b[0;34m,\u001b[0m\u001b[0minput\u001b[0m\u001b[0;34m(\u001b[0m\u001b[0;34m)\u001b[0m\u001b[0;34m.\u001b[0m\u001b[0msplit\u001b[0m\u001b[0;34m(\u001b[0m\u001b[0;34m)\u001b[0m\u001b[0;34m)\u001b[0m\u001b[0;34m)\u001b[0m\u001b[0;34m\u001b[0m\u001b[0;34m\u001b[0m\u001b[0m\n\u001b[0m",
      "\u001b[0;31mTypeError\u001b[0m: cannot convert dictionary update sequence element #0 to a sequence"
     ]
    }
   ],
   "source": [
    "dict1 = dict(map(int,input().split()))"
   ]
  },
  {
   "cell_type": "code",
   "execution_count": 70,
   "id": "1772dbe3",
   "metadata": {},
   "outputs": [
    {
     "name": "stdout",
     "output_type": "stream",
     "text": [
      "5\n",
      "1 50 3 4 3\n",
      "16\n",
      "1 2 3 4 5 1 3 3 4 5 5 5 5 5 4 5\n",
      "YES\n",
      "NO\n",
      "NO\n",
      "NO\n",
      "YES\n"
     ]
    }
   ],
   "source": [
    "n = int(input())\n",
    "dict1 = {}\n",
    "arr = list(map(int,input().split()))\n",
    "for i in range(len(arr)):\n",
    "\tdict1[i+1] = arr[i]\n",
    "k = int(input())\n",
    "arr2 = list(map(int,input().split()))\n",
    "for i in arr2:\n",
    "\tdict1[i] -= 1\n",
    "for i in dict1:\n",
    "\tif dict1[i] < 0:\n",
    "\t\tprint('YES')\n",
    "\telse:\n",
    "\t\tprint('NO')"
   ]
  },
  {
   "cell_type": "code",
   "execution_count": 72,
   "id": "18746536",
   "metadata": {},
   "outputs": [
    {
     "name": "stdout",
     "output_type": "stream",
     "text": [
      "1 -1 0\n",
      "0 1\n"
     ]
    }
   ],
   "source": [
    "mas = list(map(int,input().split()))\n",
    "if len(mas) >= 4:\n",
    "    tmp = sorted([mas[0],mas[1],mas[2],mas[3]])\n",
    "    max1 = tmp[3]\n",
    "    max2 = tmp[2]\n",
    "    min2 = tmp[1]\n",
    "    min1 = tmp[0]\n",
    "    for i in range(4,len(mas)):\n",
    "        if mas[i] > max1:\n",
    "            max2 = max1\n",
    "            max1 = mas[i]\n",
    "        else:\n",
    "            if mas[i] > max2:\n",
    "                max2 =mas[i]\n",
    "        if mas[i]<min1:\n",
    "            min2 = min1\n",
    "            min1 = mas[i]\n",
    "        else:\n",
    "            if mas[i] < min2:\n",
    "                min2 = mas[i]\n",
    "    if max1*max2 > min1*min2:\n",
    "        res = (max2, max1)\n",
    "    else:\n",
    "        res = (min1,min2)\n",
    "else:\n",
    "    if len(mas) == 2:\n",
    "        if mas[0] > mas[1]:\n",
    "            res = (mas[1], mas[0])\n",
    "        else:\n",
    "            res = (mas[0], mas[1])\n",
    "    else:\n",
    "        mas = sorted(mas)\n",
    "        if mas[0] * mas[1] > mas[1] * mas[2]:\n",
    "            res = (mas[0],mas[1])\n",
    "        else:\n",
    "            res = (mas[1], mas[2])\n",
    "print(*res)"
   ]
  },
  {
   "cell_type": "markdown",
   "id": "7738af99",
   "metadata": {},
   "source": [
    "Префиксная сумма"
   ]
  },
  {
   "cell_type": "code",
   "execution_count": 113,
   "id": "e23bfa95",
   "metadata": {},
   "outputs": [],
   "source": [
    "def makeprefixsum(nums):\n",
    "    prefix = []\n",
    "    prefix.append(0)\n",
    "    for i in range(1,len(nums) + 1):\n",
    "        prefix.append(prefix[i-1] + nums[i-1])\n",
    "    return prefix\n",
    "\n",
    "def rsq(prefixsum,l,r):\n",
    "    return prefixsum[r] - prefixsum[l]\n",
    "\n",
    "\n",
    "\n",
    "def func(a,b):\n",
    "    if a[0] >= b[0] and a[0] < b[1]:\n",
    "        return a[0],min(a[1],b[1])\n",
    "    if a[1] <= b[1] and a[1] > b[0]:\n",
    "        return max(a[0],b[0]),a[1]\n",
    "    if a[0]<=b[0] and a[1] >= b[1]:\n",
    "        return b[0],b[1]\n",
    "    if b[0]<=a[0] and b[1] >= a[1]:\n",
    "        return a[0],a[1]\n",
    "    return False"
   ]
  },
  {
   "cell_type": "code",
   "execution_count": 144,
   "id": "efbbfd14",
   "metadata": {},
   "outputs": [
    {
     "data": {
      "text/plain": [
       "[0, 0, 3, 9, 12, 20]"
      ]
     },
     "execution_count": 144,
     "metadata": {},
     "output_type": "execute_result"
    }
   ],
   "source": [
    "arr = [0,3,6,3,8]\n",
    "makeprefixsum(arr)"
   ]
  },
  {
   "cell_type": "code",
   "execution_count": 82,
   "id": "fe8c5f4d",
   "metadata": {},
   "outputs": [
    {
     "name": "stdout",
     "output_type": "stream",
     "text": [
      "3\n",
      "1 2 3\n",
      "2 \n",
      "1 2\n",
      "1 1\n"
     ]
    }
   ],
   "source": [
    "def func(maiki,shtani):\n",
    "    stil = abs(maiki[0] - shtani[0])\n",
    "    pos = 0\n",
    "    for i in range(len(maiki)):\n",
    "        for j in range(pos,len(shtani)):\n",
    "            if abs(maiki[i] - shtani[j]) == 0:\n",
    "                return maiki[i],shtani[j]\n",
    "            if abs(maiki[i] - shtani[j]) <= stil:\n",
    "                stil = abs(maiki[i] - shtani[j])\n",
    "                maika = maiki[i]\n",
    "                shtanina = shtani[j]\n",
    "                pos += 1\n",
    "    return maika, shtanina\n",
    "\n",
    "\n",
    "n = int(input())\n",
    "maiki = list(map(int,input().split()))\n",
    "k = int(input())\n",
    "shtani = list(map(int,input().split()))\n",
    "print(*func(maiki,shtani))"
   ]
  },
  {
   "cell_type": "code",
   "execution_count": 84,
   "id": "e3b2a383",
   "metadata": {},
   "outputs": [
    {
     "name": "stdout",
     "output_type": "stream",
     "text": [
      "2\n",
      "3 4\n",
      "3\n",
      "1 2 3\n",
      "3 3\n"
     ]
    }
   ],
   "source": [
    "def func(maiki,shtani):\n",
    "    stil = abs(maiki[0] - shtani[0])\n",
    "    pos = 0\n",
    "    for i in range(len(maiki)):\n",
    "        if maiki[i] == maiki[i-1]:\n",
    "            continue\n",
    "        for j in range(pos,len(shtani)):\n",
    "            if abs(maiki[i] - shtani[j]) == 0:\n",
    "                return maiki[i],shtani[j]\n",
    "            if abs(maiki[i] - shtani[j]) <= stil:\n",
    "                stil = abs(maiki[i] - shtani[j])\n",
    "                maika = maiki[i]\n",
    "                shtanina = shtani[j]\n",
    "                pos = j\n",
    "    return maika, shtanina\n",
    "\n",
    "\n",
    "n = int(input())\n",
    "maiki = list(map(int,input().split()))\n",
    "k = int(input())\n",
    "shtani = list(map(int,input().split()))\n",
    "print(*func(maiki,shtani))"
   ]
  }
 ],
 "metadata": {
  "kernelspec": {
   "display_name": "Python 3 (ipykernel)",
   "language": "python",
   "name": "python3"
  },
  "language_info": {
   "codemirror_mode": {
    "name": "ipython",
    "version": 3
   },
   "file_extension": ".py",
   "mimetype": "text/x-python",
   "name": "python",
   "nbconvert_exporter": "python",
   "pygments_lexer": "ipython3",
   "version": "3.9.13"
  }
 },
 "nbformat": 4,
 "nbformat_minor": 5
}
