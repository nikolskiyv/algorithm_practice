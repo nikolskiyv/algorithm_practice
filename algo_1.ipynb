{
 "cells": [
  {
   "cell_type": "code",
   "execution_count": 3,
   "id": "36c732af",
   "metadata": {},
   "outputs": [],
   "source": [
    "# Даны два массива: [1, 2, 3, 2, 0] и [5, 1, 2, 7, 3, 2]\n",
    "# Надо вернуть [1, 2, 2, 3] (порядок неважен)"
   ]
  },
  {
   "cell_type": "code",
   "execution_count": 4,
   "id": "20b7cc3a",
   "metadata": {},
   "outputs": [],
   "source": [
    "def common_elements(a, b):\n",
    "    b_dict = defaultdict(int)  # defaultdict выжил :)\n",
    "    for el in b:\n",
    "        b_dict[el] += 1  # я считаю все элементы из b, т.е. типа collections.Counter\n",
    "\n",
    "    result = []\n",
    "\n",
    "    for el in a:\n",
    "        count = b_dict[el]\n",
    "        if count > 0:  # если какой-то элемент из a встречается в b\n",
    "            result.append(el)  # то это успех\n",
    "            b_dict[el] -= 1  # и я \"вынимаю\" его из b, т.е. уменьшаю его количество на 1\n",
    "\n",
    "    return result"
   ]
  },
  {
   "cell_type": "code",
   "execution_count": 5,
   "id": "256176a9",
   "metadata": {},
   "outputs": [],
   "source": [
    "# Дана строка (возможно, пустая), состоящая из букв A-Z: AAAABBBCCXYZDDDDEEEFFFAAAAAABBBBBBBBBBBBBBBBBBBBBBBBBBBB\n",
    "# Нужно написать функцию RLE, которая на выходе даст строку вида: A4B3C2XYZD4E3F3A6B28 \n",
    "# И сгенерирует ошибку, если на вход пришла невалидная строка. \n",
    "# Пояснения: Если символ встречается 1 раз, он остается без изменений; Если символ повторяется более 1 раза, к нему добавляется количество повторений."
   ]
  },
  {
   "cell_type": "code",
   "execution_count": 6,
   "id": "5690165b",
   "metadata": {},
   "outputs": [],
   "source": [
    "def convert(s: str) -> str:\n",
    "    result = []\n",
    "    last_sym = None  # последний символ, что мы видели\n",
    "    count = 0  # и сколько мы его видели\n",
    "\n",
    "    # мы будем идти по строке и записывать в result при смене символа\n",
    "    for sym in (list(s) + [None]):  # последний None искусственно триггерит посленюю смену символа\n",
    "        if last_sym and sym != last_sym:  # если случилась смена символа\n",
    "            if count == 1:\n",
    "                result.append(last_sym)\n",
    "            else:\n",
    "                result.append(last_sym + str(count))\n",
    "            count = 1  # начнаем запоминать новый символ\n",
    "            last_sym = sym\n",
    "        else:  # символ просто повторился\n",
    "            count += 1  # ну ок, запомнили что символ видели на 1 раз больше\n",
    "\n",
    "    return ''.join(result)"
   ]
  },
  {
   "cell_type": "code",
   "execution_count": 7,
   "id": "125e0efb",
   "metadata": {},
   "outputs": [],
   "source": [
    "# Дан массив из нулей и единиц.\n",
    "# Нужно определить, какой максимальный по длине\n",
    "# подинтервал единиц можно получить, удалив ровно один элемент массива. [1, 1, 0]"
   ]
  },
  {
   "cell_type": "code",
   "execution_count": 10,
   "id": "5d5bcb0a",
   "metadata": {},
   "outputs": [],
   "source": [
    "from typing import List\n",
    "# пример: [0, 0, 1, 1, 0, 1, 1, 0]\n",
    "\n",
    "def max_ones_length(lst: List[int]) -> int:\n",
    "    max_ones_length = 0\n",
    "\n",
    "    # тут мы хотим получить сгруппированные 0 или 1 и их количество:\n",
    "    subranges = []  # [(0, 2), (1, 2), (0, 1), (1, 2), (0, 1)]\n",
    "    last_el = None  # последний элемент, который мы просмотрели\n",
    "\n",
    "    # идём по элементам списка\n",
    "    for el in lst + [0]:  # [0] - это ручной триггер для обработки последнего элемента\n",
    "\n",
    "        if last_el != el:  # если произошла смена 0 на 1 или наоборот\n",
    "            if el == 0:  # если это была смена 1 на 0\n",
    "              \n",
    "                # пример: subranges == [(0, 2), (1, 2), (0, 1), (1, 2)]\n",
    "                # у нас произошла смена 1 на 0, до смены единица шла 2 раза\n",
    "                # (см последний элемент subranges) - проверяем, вдруг это\n",
    "                # максимальная длина\n",
    "                try:\n",
    "                    last_ones_length = subranges[-1][1]\n",
    "                    max_ones_length = max(last_ones_length, max_ones_length)\n",
    "                except IndexError:\n",
    "                    pass\n",
    "\n",
    "                # а может если мы удалим один ноль между элементами 1 и 3,\n",
    "                # то получится более длинная последовательность единиц?\n",
    "                try:\n",
    "                    gap_length = subranges[-2][1]\n",
    "                    if gap_length == 1:\n",
    "                        combined_ones_length = subranges[-1][1] + subranges[-3][1]\n",
    "                        max_ones_length = max(combined_ones_length, max_ones_length)\n",
    "                except IndexError:\n",
    "                    pass\n",
    "\n",
    "            # добавляем новый счётчик последовательности в subranges\n",
    "            subranges.append((el, 1))\n",
    "\n",
    "        else:\n",
    "            # увеличиваем счётчик последней последовательности на 1\n",
    "            subranges[-1] = (el, subranges[-1][1]+1)\n",
    "\n",
    "        last_el = el\n",
    "\n",
    "    # костыль, граничное условие\n",
    "    if len(subranges) == 2 and subranges[1][1] == 1:\n",
    "        return subranges[0][1] - 1\n",
    "\n",
    "    return max_ones_length"
   ]
  },
  {
   "cell_type": "code",
   "execution_count": 11,
   "id": "532d232c",
   "metadata": {},
   "outputs": [],
   "source": [
    "# Даны даты заезда и отъезда каждого гостя.\n",
    "# Для каждого гостя дата заезда строго раньше даты отъезда (то есть каждый гость останавливается хотя бы на одну ночь).\n",
    "# В пределах одного дня считается, что сначала старые гости выезжают, а затем въезжают новые. \n",
    "# Найти максимальное число постояльцев, которые одновременно проживали в гостинице (считаем, что измерение количества постояльцев происходит в конце дня).\n",
    "# sample = [(1, 2), (1, 3), (2, 4), (2, 3), ]"
   ]
  },
  {
   "cell_type": "code",
   "execution_count": 12,
   "id": "b641d5c7",
   "metadata": {},
   "outputs": [],
   "source": [
    "from collections import defaultdict\n",
    "\n",
    "def max_num_guests(guests: List[tuple]) -> int:\n",
    "    res = 0\n",
    "    \n",
    "    # для каждого дня посчитаем, сколько приехало и сколько отъехало\n",
    "    arriving = defaultdict(int)\n",
    "    leaving = defaultdict(int)\n",
    "\n",
    "    for guest in guests:  # O(n)\n",
    "        arriving[guest[0]] += 1\n",
    "        leaving[guest[1]] += 1\n",
    "\n",
    "    current = 0\n",
    "    # едем по дням в порядке увеличения, добавлем приехавших и убавляем уехавших,\n",
    "    # считаем сколько стало\n",
    "    for day in sorted(set(arriving.keys()).union(set(leaving.keys()))):  # O(n*log(n)) + O(n)\n",
    "        current -= leaving[day]\n",
    "        current += arriving[day]\n",
    "\n",
    "        if current > res:\n",
    "            res = current\n",
    "\n",
    "    return res"
   ]
  },
  {
   "cell_type": "code",
   "execution_count": 13,
   "id": "823c8b8b",
   "metadata": {},
   "outputs": [],
   "source": [
    "# Sample Input [\"eat\", \"tea\", \"tan\", \"ate\", \"nat\", \"bat\"]\n",
    "# Sample Output [ [\"ate\", \"eat\", \"tea\"], [\"nat\", \"tan\"], [\"bat\"] ]\n",
    "# Т.е. сгруппировать слова по \"общим буквам\"."
   ]
  },
  {
   "cell_type": "code",
   "execution_count": 14,
   "id": "9d8b42b3",
   "metadata": {},
   "outputs": [],
   "source": [
    "def group_words(words: List[str]) -> List[List[str]]:\n",
    "\n",
    "    groups = defaultdict(list)\n",
    "\n",
    "    for word in words:  # O(n)\n",
    "        key = sorted(word)\n",
    "        groups[key].append(word)\n",
    "\n",
    "    return [sorted(words) for words in groups.values()]  # O(n*log(n))"
   ]
  },
  {
   "cell_type": "code",
   "execution_count": 15,
   "id": "23cceb98",
   "metadata": {},
   "outputs": [],
   "source": [
    "# Слияние отрезков:\n",
    "# Вход: [1, 3] [100, 200] [2, 4] \n",
    "# Выход: [1, 4] [100, 200]"
   ]
  },
  {
   "cell_type": "code",
   "execution_count": 25,
   "id": "60c42ee5",
   "metadata": {},
   "outputs": [],
   "source": [
    "from typing import Tuple\n",
    "\n",
    "def merge(ranges: List[Tuple[int, int]]) -> List[Tuple[int, int]]:\n",
    "\n",
    "    if not ranges:\n",
    "        return []\n",
    "\n",
    "    result_ranges = []\n",
    "    last_range = None  # последний отрезок, что мы видели\n",
    "\n",
    "    for rng in sorted(ranges):  # обязательно сортируем\n",
    "\n",
    "        if not last_range:\n",
    "            last_range = rng\n",
    "            continue\n",
    "\n",
    "            # если начало текущего отрезка меньше конца предыдущего\n",
    "        if rng[0] <= last_range[1]:\n",
    "            # расширяем предыдущий отрезок на текущий\n",
    "            last_range = (last_range[0], max(rng[1], last_range[1]))\n",
    "            # старый отрезок всё, начинаем новый\n",
    "        else:\n",
    "            result_ranges.append(last_range)\n",
    "            last_range = rng\n",
    "\n",
    "    else:\n",
    "        # граничный случай для последнего элемента\n",
    "        result_ranges.append(last_range)\n",
    "\n",
    "    return result_ranges"
   ]
  },
  {
   "cell_type": "code",
   "execution_count": 28,
   "id": "0c26186b",
   "metadata": {},
   "outputs": [],
   "source": [
    "# Дан массив точек с целочисленными координатами (x, y).\n",
    "# Определить, существует ли вертикальная прямая, делящая точки на 2 симметричных относительно этой прямой множества.\n",
    "# Note: Для удобства точку можно представлять не как массив [x, y], а как объект {x, y}"
   ]
  },
  {
   "cell_type": "code",
   "execution_count": 29,
   "id": "e7d04e46",
   "metadata": {},
   "outputs": [],
   "source": [
    "class Point:\n",
    "    pass"
   ]
  },
  {
   "cell_type": "code",
   "execution_count": 30,
   "id": "f511e438",
   "metadata": {},
   "outputs": [],
   "source": [
    "from statistics import mean\n",
    "\n",
    "def is_vertical_symmetry(points: List[Point]) -> bool:\n",
    "\n",
    "    # сначала найдём вертикальную прямую в середине всех точек\n",
    "    x_center = mean(p.x for p in points)\n",
    "\n",
    "    # тут будем хранить точки, для которых пока не нашли пары:\n",
    "    unmatched_points = defaultdict(int)\n",
    "    \n",
    "    for point in points:\n",
    "\n",
    "        if point.x == x_center:  # если точка на прямой, то она сама себе пара\n",
    "            continue\n",
    "\n",
    "        # создадим \"брата\" - точку, которая симметрична текущей относительно вертикальной прямой\n",
    "        brother = Point(\n",
    "            x = x_center * 2 - point.x,\n",
    "            y = point.y,\n",
    "        )\n",
    "        \n",
    "        # если этот брат есть в unmatched_points, то достаём его оттуда и говорим, что текущая точка сматчилась\n",
    "        if unmatched_points[brother]:\n",
    "            unmatched_points[brother] -= 1\n",
    "            \n",
    "        # иначе добавляем эту точку в не-сматченные\n",
    "        else:\n",
    "            unmatched_points[point] += 1\n",
    "\n",
    "    return not any(unmatched_points.values())"
   ]
  },
  {
   "cell_type": "markdown",
   "id": "4af5d9ed",
   "metadata": {},
   "source": [
    "## Найти наибольшую сумму в дереве"
   ]
  },
  {
   "cell_type": "code",
   "execution_count": 32,
   "id": "67f1a3bd",
   "metadata": {},
   "outputs": [],
   "source": [
    "# Найти наибольшую сумму в дереве\n",
    "res_max = float('-inf')\n",
    "\n",
    "def findMax(root):\n",
    "    if not root:\n",
    "        return 0\n",
    "    left_value = findMax(root.left)\n",
    "    right_value = findMax(root.right)\n",
    "    \n",
    "    left_max = left_value + root.data\n",
    "    right_max = right_value + root.data\n",
    "    all_max = left_value + right_value + root.data\n",
    "    tmp_max = max(left_max, right_max, all_max)\n",
    "    if tmp_max > res_max:\n",
    "        res_max = tmp_max\n",
    "    return tmp_max"
   ]
  },
  {
   "cell_type": "code",
   "execution_count": null,
   "id": "3ea24936",
   "metadata": {},
   "outputs": [],
   "source": []
  }
 ],
 "metadata": {
  "kernelspec": {
   "display_name": "Python 3",
   "language": "python",
   "name": "python3"
  },
  "language_info": {
   "codemirror_mode": {
    "name": "ipython",
    "version": 3
   },
   "file_extension": ".py",
   "mimetype": "text/x-python",
   "name": "python",
   "nbconvert_exporter": "python",
   "pygments_lexer": "ipython3",
   "version": "3.8.8"
  }
 },
 "nbformat": 4,
 "nbformat_minor": 5
}
